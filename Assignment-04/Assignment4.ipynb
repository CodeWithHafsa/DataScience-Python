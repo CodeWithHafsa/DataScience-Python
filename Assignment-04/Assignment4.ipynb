{
 "cells": [
  {
   "cell_type": "markdown",
   "metadata": {},
   "source": [
    "---\n",
    "\n",
    "## Advanced Regular Expression Assignments\n",
    "\n",
    "### Assignment 1: Extracting Phone Numbers\n",
    "\n",
    "**Raw Text:** \n",
    "Extract all valid Pakistani phone numbers from a given text.\n",
    "\n",
    "**Example:**\n",
    "```\n",
    "Text: Please contact me at 0301-1234567 or 042-35678901 for further details.\n",
    "```"
   ]
  },
  {
   "cell_type": "code",
   "execution_count": 1,
   "metadata": {},
   "outputs": [
    {
     "name": "stdout",
     "output_type": "stream",
     "text": [
      "Valid Pakistani phone number: ['0301-1234567', '042-35678901']\n"
     ]
    }
   ],
   "source": [
    "import re\n",
    "\n",
    "#  Sample text with phone numbers\n",
    "text = \"Please contact me at 0301-1234567 or 042-35678901 for further details.\"\n",
    "    \n",
    "# Define the regex pattern for phone numbers\n",
    "pattern = r\"\\b\\d{3,4}-\\d{7,8}\\b\"\n",
    "\n",
    "# Find all matches using re.findall()\n",
    "phone_numbers = re.findall(pattern, text)\n",
    "print(f\"Valid Pakistani phone number: {phone_numbers}\")"
   ]
  },
  {
   "cell_type": "markdown",
   "metadata": {},
   "source": [
    "### Assignment 2: Validating Email Addresses\n",
    "\n",
    "**Raw Text:** \n",
    "Validate email addresses according to Pakistani domain extensions (.pk).\n",
    "\n",
    "**Example:**\n",
    "```\n",
    "Text: Contact us at info@example.com or support@domain.pk for assistance.\n",
    "```"
   ]
  },
  {
   "cell_type": "code",
   "execution_count": 3,
   "metadata": {},
   "outputs": [
    {
     "name": "stdout",
     "output_type": "stream",
     "text": [
      " Valid email address = ['support@domain.pk']\n"
     ]
    }
   ],
   "source": [
    "import re\n",
    "\n",
    "#  Sample text with email address\n",
    "text = \"Contact us at info@example.com or support@domain.pk for assistance.\"\n",
    "\n",
    "# Define the regex pattern for email address\n",
    "email_pattern = r'\\b[\\w.-]+@[\\w.-]+\\.pk\\b'\n",
    "# pattren = r\"\\b[\\w\\.-]+@[\\w]+.[\\w]+\"\n",
    "\n",
    "# Find all matches using re.findall()\n",
    "email_address = re.findall(email_pattern,text)\n",
    "\n",
    "# Validate email address\n",
    "if email_address:\n",
    "    print(f\" Valid email address = {email_address}\")\n",
    "else:\n",
    "    print(\"Invalid email address\")"
   ]
  },
  {
   "cell_type": "markdown",
   "metadata": {},
   "source": [
    "### Assignment 3: Extracting CNIC Numbers\n",
    "\n",
    "**Raw Text:** \n",
    "Extract all Pakistani CNIC (Computerized National Identity Card) numbers from a given text.\n",
    "\n",
    "**Example:**\n",
    "```\n",
    "Text: My CNIC is 12345-6789012-3 and another one is 34567-8901234-5.\n",
    "```"
   ]
  },
  {
   "cell_type": "code",
   "execution_count": 31,
   "metadata": {},
   "outputs": [
    {
     "name": "stdout",
     "output_type": "stream",
     "text": [
      "Pakistani CNIC: ['12345-6789012-3', '34567-8901234-5']\n"
     ]
    }
   ],
   "source": [
    "import re\n",
    "\n",
    "#  Sample text with email address\n",
    "text = \"My CNIC is 12345-6789012-3 and another one is 34567-8901234-5.\"\n",
    "\n",
    "# Define the regex pattern for cnic numbers\n",
    "pattern = r\"\\b\\d{5}-\\d{7}-\\d\\b\"\n",
    "\n",
    "# Extracting all matches using re.findall()\n",
    "cnic = re.findall(pattern, text)\n",
    "print(f\"Pakistani CNIC: {cnic}\")"
   ]
  },
  {
   "cell_type": "markdown",
   "metadata": {},
   "source": [
    "\n",
    "### Assignment 4: Identifying Urdu Words\n",
    "\n",
    "**Raw Text:** \n",
    "Identify and extract Urdu words from a mixed English-Urdu text.\n",
    "\n",
    "**Example:**\n",
    "```\n",
    "Text: یہ sentence میں کچھ English words بھی ہیں۔\n",
    "```\n",
    "\n"
   ]
  },
  {
   "cell_type": "markdown",
   "metadata": {},
   "source": [
    "There are two ways to extract urdu words from the given English-Urdu text. \n",
    "1. Using Unicode concpet.\n",
    "2. Using regex special sequence and match characters concept."
   ]
  },
  {
   "cell_type": "markdown",
   "metadata": {},
   "source": [
    "using unicode concpet"
   ]
  },
  {
   "cell_type": "code",
   "execution_count": 22,
   "metadata": {},
   "outputs": [
    {
     "name": "stdout",
     "output_type": "stream",
     "text": [
      "Urdu words in the text: ['یہ', 'میں', 'کچھ', 'بھی', 'ہیں']\n"
     ]
    }
   ],
   "source": [
    "import re\n",
    "\n",
    "# Sample text with email address\n",
    "text = \"یہ sentence میں کچھ English words بھی ہیں۔\"\n",
    "\n",
    "# # Define the regex pattern to identify urdu words\n",
    "pattern = r\"\\b[\\u0600-\\u06FF]+\\b\" #using unicode concpet\n",
    "\n",
    "# Extracting all matches using re.findall()\n",
    "urdu_words = re.findall(pattern, text)\n",
    "print(f\"Urdu words in the text: {urdu_words}\")"
   ]
  },
  {
   "cell_type": "markdown",
   "metadata": {},
   "source": [
    "using regex special sequence and match characters concept"
   ]
  },
  {
   "cell_type": "code",
   "execution_count": 48,
   "metadata": {},
   "outputs": [
    {
     "name": "stdout",
     "output_type": "stream",
     "text": [
      "Urdu words in the text: ['یہ', 'میں', 'کچھ', 'بھی', 'ہیں']\n"
     ]
    }
   ],
   "source": [
    "import re\n",
    "\n",
    "# Sample text with email address\n",
    "text = \"یہ sentence میں کچھ English words بھی ہیں۔\"\n",
    "\n",
    "# # Define the regex pattern to identify urdu words\n",
    "pattern =  r\"\\b[^\\sA-z]+\\b\" #using regex special sequence and match characters concept\n",
    "\n",
    "# Extracting all matches using re.findall()\n",
    "urdu_words = re.findall(pattern, text)\n",
    "print(f\"Urdu words in the text: {urdu_words}\")"
   ]
  },
  {
   "cell_type": "markdown",
   "metadata": {},
   "source": [
    "### Assignment 5: Finding Dates\n",
    "\n",
    "**Raw Text:** \n",
    "Find and extract dates in the format DD-MM-YYYY from a given text.\n",
    "\n",
    "**Example:**\n",
    "```\n",
    "Text: The event will take place on 15-08-2023 and 23-09-2023.\n",
    "```\n",
    "\n"
   ]
  },
  {
   "cell_type": "code",
   "execution_count": 29,
   "metadata": {},
   "outputs": [
    {
     "name": "stdout",
     "output_type": "stream",
     "text": [
      "Extract dates: ['15-08-2023', '23-09-2023']\n"
     ]
    }
   ],
   "source": [
    "import re\n",
    "\n",
    "#  Sample text with Dates\n",
    "text = \"The event will take place on 15-08-2023 and 23-09-2023.\"\n",
    "\n",
    "# Define the regex pattern to find exact dates:\n",
    "pattern = r\"\\d{1,2}[-?]\\d{1,2}[-?]\\d{2,4}\"\n",
    "\n",
    "# Extracting all matches using re.findall()\n",
    "dates = re.findall(pattern, text)\n",
    "print(f\"Extract dates: {dates}\")"
   ]
  },
  {
   "cell_type": "markdown",
   "metadata": {},
   "source": [
    "### Assignment 6: Extracting URLs\n",
    "\n",
    "**Raw Text:** \n",
    "Extract all URLs from a text that belong to Pakistani domains.\n",
    "\n",
    "**Example:**\n",
    "```\n",
    "Text: Visit http://www.example.pk or https://website.com.pk for more information.\n",
    "```\n",
    "\n"
   ]
  },
  {
   "cell_type": "code",
   "execution_count": 36,
   "metadata": {},
   "outputs": [
    {
     "name": "stdout",
     "output_type": "stream",
     "text": [
      "Pakistani domains: ['http://www.example.pk', 'https://website.com.pk']\n"
     ]
    }
   ],
   "source": [
    "import re\n",
    "\n",
    "# Sample text with URLs\n",
    "text = \"Visit http://www.example.pk or https://website.com.pk for more information.\"\n",
    "\n",
    "# Define the regex pattern to find urls:\n",
    "pattern = r\"[https?://]+\\S+\\.pk\" \n",
    "\n",
    "# Extracting all matches using re.findall()\n",
    "URLs = re.findall(pattern, text)\n",
    "print(f\"Pakistani domains: {URLs}\")"
   ]
  },
  {
   "cell_type": "markdown",
   "metadata": {},
   "source": [
    "### Assignment 7: Analyzing Currency\n",
    "\n",
    "**Raw Text:** \n",
    "Extract and analyze currency amounts in Pakistani Rupees (PKR) from a given text.\n",
    "\n",
    "**Example:**\n",
    "```\n",
    "Text: The product costs PKR 1500, while the deluxe version is priced at Rs. 2500.\n",
    "```\n"
   ]
  },
  {
   "cell_type": "code",
   "execution_count": 44,
   "metadata": {},
   "outputs": [
    {
     "name": "stdout",
     "output_type": "stream",
     "text": [
      "Currency amounts in PKR: ['PKR 1500', 'PKR 2500']\n"
     ]
    }
   ],
   "source": [
    "import re\n",
    "\n",
    "# Sample text with currency amount\n",
    "text = \"The product costs PKR 1500, while the deluxe version is priced at Rs. 2500.\"\n",
    "\n",
    "#here we add Rs and PKR string in text using re.sub function\n",
    "new_text = re.sub(\"Rs.\",\"PKR\",text)\n",
    "\n",
    "# Define the regex pattern to find rupees:\n",
    "pattern = r\"\\b\\w{3} \\d{4}\\b\"\n",
    "\n",
    "# Extracting and Analyzing currency amounts:\n",
    "pakistani_rupees = re.findall(pattern,new_text)\n",
    "print(f\"Currency amounts in PKR: {pakistani_rupees}\")"
   ]
  },
  {
   "cell_type": "markdown",
   "metadata": {},
   "source": [
    "### Assignment 8: Removing Punctuation\n",
    "\n",
    "**Raw Text:** \n",
    "Remove all punctuation marks from a text while preserving Urdu characters.\n",
    "\n",
    "**Example:**\n",
    "```\n",
    "Text: کیا! آپ, یہاں؟\n",
    "```\n"
   ]
  },
  {
   "cell_type": "markdown",
   "metadata": {},
   "source": [
    "There are two ways to extract urdu words from the given English-Urdu text. \n",
    "1. Using Unicode concpet.\n",
    "2. Using regex special sequence and match characters concept.\n",
    "3. Using regex special sequence i.e. \\w - because text only contains urdu words."
   ]
  },
  {
   "cell_type": "markdown",
   "metadata": {},
   "source": [
    "using Unicode concpet."
   ]
  },
  {
   "cell_type": "code",
   "execution_count": 62,
   "metadata": {},
   "outputs": [
    {
     "name": "stdout",
     "output_type": "stream",
     "text": [
      "Text without punctuation: ['کیا', 'آپ', 'یہاں']\n"
     ]
    }
   ],
   "source": [
    "import re\n",
    "\n",
    "# Sample text with punctuation marks\n",
    "text = \"کیا! آپ, یہاں؟\"\n",
    "\n",
    "# Define the regex pattern to extract text without punctuation marks:\n",
    "pattern = r\"\\b[\\u0600-\\u06FF]+\\b\" #using unicode\n",
    "\n",
    "# Extracting all matches using re.findall()\n",
    "clean_text = re.findall(pattern, text)\n",
    "print(f\"Text without punctuation: {clean_text}\")"
   ]
  },
  {
   "cell_type": "markdown",
   "metadata": {},
   "source": [
    "using regex special sequence and match characters concept."
   ]
  },
  {
   "cell_type": "code",
   "execution_count": 63,
   "metadata": {},
   "outputs": [
    {
     "name": "stdout",
     "output_type": "stream",
     "text": [
      "Text without punctuation: ['کیا', 'آپ', 'یہاں']\n"
     ]
    }
   ],
   "source": [
    "import re\n",
    "\n",
    "# Sample text with punctuation marks\n",
    "text = \"کیا! آپ, یہاں؟\"\n",
    "\n",
    "# Define the regex pattern to extract text without punctuation marks:\n",
    "pattern =  r\"\\b[^\\sA-z]+\\b\" #using regex special sequence and match characters concept\n",
    "\n",
    "# Extracting all matches using re.findall()\n",
    "clean_text = re.findall(pattern, text)\n",
    "print(f\"Text without punctuation: {clean_text}\")"
   ]
  },
  {
   "cell_type": "markdown",
   "metadata": {},
   "source": [
    "### Assignment 9: Extracting City Names\n",
    "\n",
    "**Raw Text:** \n",
    "Extract names of Pakistani cities from a given text.\n",
    "\n",
    "**Example:**\n",
    "```\n",
    "Text: Lahore, Karachi, Islamabad, and Peshawar are major cities of Pakistan.\n",
    "```\n"
   ]
  },
  {
   "cell_type": "code",
   "execution_count": 5,
   "metadata": {},
   "outputs": [
    {
     "name": "stdout",
     "output_type": "stream",
     "text": [
      "Pakistani cities: ['Lahore,', 'Karachi,', 'Islamabad,', 'Peshawar ']\n"
     ]
    }
   ],
   "source": [
    "import re\n",
    "\n",
    "# Sample text with names of Pakistani cities\n",
    "text = \"Lahore, Karachi, Islamabad, and Peshawar are major cities of Pakistan.\"\n",
    "\n",
    "# Define the regex pattern to extract city name:\n",
    "pattern = r\"[A-Z][a-z]+\\b[^.]\"\n",
    "\n",
    "# Extracting all matches using re.findall()\n",
    "pakistani_cities = re.findall(pattern,text)\n",
    "print(f\"Pakistani cities: {pakistani_cities}\")"
   ]
  },
  {
   "cell_type": "markdown",
   "metadata": {},
   "source": [
    "\n",
    "### Assignment 10: Analyzing Vehicle Numbers\n",
    "\n",
    "**Raw Text:** \n",
    "Identify and extract Pakistani vehicle registration numbers (e.g., ABC-123) from a text.\n",
    "\n",
    "**Example:**\n",
    "```\n",
    "Text: I saw a car with the number plate LEA-567 near the market.\n",
    "```\n"
   ]
  },
  {
   "cell_type": "code",
   "execution_count": 6,
   "metadata": {},
   "outputs": [
    {
     "name": "stdout",
     "output_type": "stream",
     "text": [
      "Pakistani vehicle registration number: ['LEA-567']\n"
     ]
    }
   ],
   "source": [
    "import re\n",
    "\n",
    "# Sample text with Pakistani vehicle registration numbers:\n",
    "text = \"I saw a car with the number plate LEA-567 near the market.\"\n",
    "\n",
    "# Define the regex pattern to extract vehicle registration numbers :\n",
    "pattren = r\"\\b[A-Z]{3}-\\d{3}\\b\"\n",
    "\n",
    "# Extracting all matches using re.findall()\n",
    "registration_numbers = re.findall(pattren,text)\n",
    "print(f\"Pakistani vehicle registration number: {registration_numbers}\")"
   ]
  }
 ],
 "metadata": {
  "kernelspec": {
   "display_name": "Python 3",
   "language": "python",
   "name": "python3"
  },
  "language_info": {
   "codemirror_mode": {
    "name": "ipython",
    "version": 3
   },
   "file_extension": ".py",
   "mimetype": "text/x-python",
   "name": "python",
   "nbconvert_exporter": "python",
   "pygments_lexer": "ipython3",
   "version": "3.11.4"
  },
  "orig_nbformat": 4
 },
 "nbformat": 4,
 "nbformat_minor": 2
}
