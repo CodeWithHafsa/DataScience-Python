{
 "cells": [
  {
   "cell_type": "markdown",
   "id": "bbe72c75-7c40-47ca-9d81-159795df5896",
   "metadata": {},
   "source": [
    "# String in Python"
   ]
  },
  {
   "cell_type": "code",
   "execution_count": 1,
   "id": "242645f1-4cda-4475-8639-0c4aca9dae85",
   "metadata": {},
   "outputs": [
    {
     "name": "stdout",
     "output_type": "stream",
     "text": [
      "Python Language\n",
      "<class 'str'>\n"
     ]
    }
   ],
   "source": [
    "data = \"Python Language\"  #using double quote\n",
    "print(data)\n",
    "print(type(data))"
   ]
  },
  {
   "cell_type": "code",
   "execution_count": 2,
   "id": "010008a3-9f5f-4709-b05f-a45aef4777d4",
   "metadata": {},
   "outputs": [
    {
     "name": "stdout",
     "output_type": "stream",
     "text": [
      "Python Language\n",
      "<class 'str'>\n"
     ]
    }
   ],
   "source": [
    "data = 'Python Language'  #using single quote\n",
    "print(data)\n",
    "print(type(data))"
   ]
  },
  {
   "cell_type": "code",
   "execution_count": 3,
   "id": "b535e409-ae03-48eb-9c21-13b36e9c6d77",
   "metadata": {},
   "outputs": [
    {
     "name": "stdout",
     "output_type": "stream",
     "text": [
      "Python Language \"Hello world\n",
      "<class 'str'>\n"
     ]
    }
   ],
   "source": [
    "data = 'Python Language \"Hello world' #Using 'double quote' between single quoted string:\n",
    "print(data)\n",
    "print(type(data)) "
   ]
  },
  {
   "cell_type": "code",
   "execution_count": 4,
   "id": "bca826ea-1e36-418a-9840-8661f21d4817",
   "metadata": {},
   "outputs": [
    {
     "name": "stdout",
     "output_type": "stream",
     "text": [
      "Python Language 'Hello world\n",
      "<class 'str'>\n"
     ]
    }
   ],
   "source": [
    "data = \"Python Language 'Hello world\" #Using 'single quote' between double quoted string:\n",
    "print(data)\n",
    "print(type(data))  "
   ]
  },
  {
   "cell_type": "code",
   "execution_count": 5,
   "id": "e2cff14a-1ae5-4b5b-97e7-399957bc1957",
   "metadata": {},
   "outputs": [
    {
     "name": "stdout",
     "output_type": "stream",
     "text": [
      "Python Language\\ 123 \"Hello world\"\n",
      "<class 'str'>\n"
     ]
    }
   ],
   "source": [
    "data = 'Python Language\\ 123 \"Hello world\"' #Use of backslash\n",
    "print(data)\n",
    "print(type(data)) "
   ]
  },
  {
   "cell_type": "code",
   "execution_count": 6,
   "id": "4a37d0dd-c6ce-41c1-a1c1-f6154e989b0d",
   "metadata": {},
   "outputs": [
    {
     "name": "stdout",
     "output_type": "stream",
     "text": [
      "Line1 pythonLine2 pythonLine3 python\n",
      "<class 'str'>\n"
     ]
    }
   ],
   "source": [
    "# Multiline string\n",
    "a = \"Line1 python\"\\\n",
    "\"Line2 python\"\\\n",
    "\"Line3 python\"\n",
    "print(a)\n",
    "print(type(a))"
   ]
  },
  {
   "cell_type": "code",
   "execution_count": 7,
   "id": "d68b60fc-082e-479e-a5ab-cd8ee89ec2df",
   "metadata": {},
   "outputs": [
    {
     "name": "stdout",
     "output_type": "stream",
     "text": [
      " Line1 python\n",
      "Line2 python\n",
      "Line3 python \n",
      "<class 'str'>\n"
     ]
    }
   ],
   "source": [
    "# Multiline string - Using triple double quote\n",
    "b = \"\"\" Line1 python\n",
    "Line2 python\n",
    "Line3 python \"\"\" \n",
    "print(b) \n",
    "print(type(b))"
   ]
  },
  {
   "cell_type": "markdown",
   "id": "58e9661d-de73-47ba-98e2-182c83fa5abe",
   "metadata": {},
   "source": [
    "# String Concatenation"
   ]
  },
  {
   "cell_type": "code",
   "execution_count": 8,
   "id": "6d9db27e-a4b7-49ad-ad8a-fe1b574c528a",
   "metadata": {},
   "outputs": [
    {
     "data": {
      "text/plain": [
       "'11'"
      ]
     },
     "execution_count": 8,
     "metadata": {},
     "output_type": "execute_result"
    }
   ],
   "source": [
    "\"1\" + \"1\" #string concatination"
   ]
  },
  {
   "cell_type": "code",
   "execution_count": 9,
   "id": "b52b63d5-dae4-45e1-91af-243f8018fc8e",
   "metadata": {},
   "outputs": [
    {
     "data": {
      "text/plain": [
       "2"
      ]
     },
     "execution_count": 9,
     "metadata": {},
     "output_type": "execute_result"
    }
   ],
   "source": [
    "1 + 1  #integar addition"
   ]
  },
  {
   "cell_type": "markdown",
   "id": "6a19fc45-9e52-4466-9c78-deafc69f70b9",
   "metadata": {},
   "source": [
    "#### 1. Using + Operator"
   ]
  },
  {
   "cell_type": "code",
   "execution_count": 11,
   "id": "caab9dd2-0854-4e3a-bd85-0bdd1bf8cbf3",
   "metadata": {},
   "outputs": [
    {
     "name": "stdin",
     "output_type": "stream",
     "text": [
      "Enter no1:  7\n",
      "Enter no2:  8\n"
     ]
    },
    {
     "name": "stdout",
     "output_type": "stream",
     "text": [
      "<class 'str'> <class 'str'>\n",
      "78\n"
     ]
    }
   ],
   "source": [
    "# Using + Operator:\n",
    "a = input(\"Enter no1: \") #string concatination\n",
    "b = input(\"Enter no2: \")\n",
    "print(type(a), type(b))\n",
    "print(a+b)"
   ]
  },
  {
   "cell_type": "code",
   "execution_count": 12,
   "id": "582e5d3d-7865-4dbc-b15f-5273fccd6f50",
   "metadata": {},
   "outputs": [
    {
     "name": "stdin",
     "output_type": "stream",
     "text": [
      "Enter no1: 7\n",
      "Enter no2: 8\n"
     ]
    },
    {
     "name": "stdout",
     "output_type": "stream",
     "text": [
      "<class 'int'> <class 'int'>\n",
      "15\n"
     ]
    }
   ],
   "source": [
    "a = int(input(\"Enter no1:\")) #typecasting\n",
    "b = int(input(\"Enter no2:\"))\n",
    "print(type(a), type(b))\n",
    "print(a+b)"
   ]
  },
  {
   "cell_type": "code",
   "execution_count": 14,
   "id": "0a9c9936-a511-4099-a6be-f6a20a93d167",
   "metadata": {},
   "outputs": [
    {
     "name": "stdout",
     "output_type": "stream",
     "text": [
      "NED University\n",
      "Student roll no: 200\n",
      "Student name: Muhammad Qasim\n",
      "Father's name: Muhammad Aslam\n",
      "Contact no: 03152968211\n"
     ]
    }
   ],
   "source": [
    "# \"USE OF \\n\"\n",
    "roll_no = 200\n",
    "name = \"Muhammad Qasim\"\n",
    "fname = \"Muhammad Aslam\"\n",
    "contact_no = \"03152968211\"\n",
    "card = \"NED University\\nStudent roll no: \" + str(roll_no) + \"\\nStudent name: \" + name + \"\\nFather's name: \" + fname + \"\\nContact no: \" + contact_no\n",
    "print(card)"
   ]
  },
  {
   "cell_type": "code",
   "execution_count": 21,
   "id": "1a9f160f-e3d7-4329-b94c-bcebf1982987",
   "metadata": {},
   "outputs": [
    {
     "name": "stdout",
     "output_type": "stream",
     "text": [
      "NED University\n",
      "Student roll no: \t\t 200\n",
      "Student Name = \t\t\t Muhammad Qasim\n",
      "Father's Name = \t\t Muhammad Aslam\n",
      "Contact no = \t\t\t 03152968211\n"
     ]
    }
   ],
   "source": [
    "# \"USE OF \\t\"\n",
    "card = \"\"\"NED University\n",
    "Student roll no: \\t\\t 200\n",
    "Student Name = \\t\\t\\t Muhammad Qasim\n",
    "Father's Name = \\t\\t Muhammad Aslam\n",
    "Contact no = \\t\\t\\t 03152968211\"\"\"\n",
    "print(card)"
   ]
  },
  {
   "cell_type": "markdown",
   "id": "9f759c8d-b3e9-45ee-8ddf-f6f045ebc21f",
   "metadata": {},
   "source": [
    "#### 2. # Using format() function"
   ]
  },
  {
   "cell_type": "code",
   "execution_count": 23,
   "id": "9e04874c-fad2-43dc-b0e6-48711d4170c7",
   "metadata": {},
   "outputs": [
    {
     "name": "stdout",
     "output_type": "stream",
     "text": [
      "NED University\n",
      "Student roll no: 200\n",
      "Student Name: Muhammad Qasim\n",
      "Father's Name: Muhammad Aslam\n",
      "Contact no: 03152968211 \n"
     ]
    }
   ],
   "source": [
    "# Using format() function\n",
    "roll_no = 200\n",
    "name = \"Muhammad Qasim\"\n",
    "fname = \"Muhammad Aslam\"\n",
    "contact_no = \"03152968211\"\n",
    "card = \"\"\"NED University\n",
    "Student roll no: {}\n",
    "Student Name: {}\n",
    "Father's Name: {}\n",
    "Contact no: {} \"\"\" .format(roll_no, name, fname, contact_no)\n",
    "print(card)"
   ]
  },
  {
   "cell_type": "code",
   "execution_count": 26,
   "id": "e822e281-76e0-43f4-9369-748b3571de62",
   "metadata": {},
   "outputs": [
    {
     "name": "stdout",
     "output_type": "stream",
     "text": [
      "NED University\n",
      "Student roll no: 200\n",
      "Student Name: Muhammad Qasim\n",
      "Father's Name: Muhammad Aslam\n",
      "Contact no: 03152968211 \n"
     ]
    }
   ],
   "source": [
    "# Using format() function\n",
    "roll_no = 200\n",
    "name = \"Muhammad Qasim\"\n",
    "fname = \"Muhammad Aslam\"\n",
    "contact_no = \"03152968211\"\n",
    "card = \"\"\"NED University\n",
    "Student roll no: {2}\n",
    "Student Name: {0}\n",
    "Father's Name: {3}\n",
    "Contact no: {1} \"\"\" .format(name, contact_no, roll_no, fname)\n",
    "print(card)"
   ]
  },
  {
   "cell_type": "markdown",
   "id": "e1d9e961-8651-4861-87db-e431b47d9b0a",
   "metadata": {},
   "source": [
    "#### 3. Using f-string:"
   ]
  },
  {
   "cell_type": "code",
   "execution_count": 27,
   "id": "dab70f62-61aa-459b-b6ec-0c521d170469",
   "metadata": {},
   "outputs": [
    {
     "name": "stdout",
     "output_type": "stream",
     "text": [
      "NED University\n",
      "Student roll no: 200\n",
      "Student Name: Muhammad Qasim\n",
      "Father's Name: Muhammad Aslam\n",
      "Contact no: 03152968211 \n"
     ]
    }
   ],
   "source": [
    "# Using f-string:\n",
    "roll_no = 200\n",
    "name = \"Muhammad Qasim\"\n",
    "fname = \"Muhammad Aslam\"\n",
    "contact_no = \"03152968211\"\n",
    "card = f\"\"\"NED University\n",
    "Student roll no: {roll_no}\n",
    "Student Name: {name}\n",
    "Father's Name: {fname}\n",
    "Contact no: {contact_no} \"\"\"\n",
    "print(card)"
   ]
  },
  {
   "cell_type": "code",
   "execution_count": 29,
   "id": "3429a8e8-b5b4-47a6-9fcf-8e5a613ba839",
   "metadata": {},
   "outputs": [
    {
     "name": "stdin",
     "output_type": "stream",
     "text": [
      "Enter roll no:  200\n",
      "Name:  Muhammad Qasim\n",
      "Father's Name:  Muhammad Aslam\n",
      "contact no:  03152968211\n"
     ]
    },
    {
     "name": "stdout",
     "output_type": "stream",
     "text": [
      "=====================\n",
      "NED University\n",
      "Student roll no:200\n",
      "Student Name: Muhammad Qasim\n",
      "Father's Name: Muhammad Aslam\n",
      "Contact no: 03152968211\n"
     ]
    }
   ],
   "source": [
    "roll_no = input(\"Enter roll no: \")\n",
    "name = input(\"Name: \")\n",
    "fname = input(\"Father's Name: \")\n",
    "contact_no = input(\"contact no: \")\n",
    "print('=====================')\n",
    "\n",
    "card = f\"\"\"NED University\n",
    "Student roll no:{roll_no}\n",
    "Student Name: {name}\n",
    "Father's Name: {fname}\n",
    "Contact no: {contact_no}\"\"\"\n",
    "print(card)"
   ]
  },
  {
   "cell_type": "code",
   "execution_count": 30,
   "id": "ff8c7d9a-7828-4596-bbc4-28d6d1834691",
   "metadata": {},
   "outputs": [
    {
     "name": "stdout",
     "output_type": "stream",
     "text": [
      "(2+2=4)\n"
     ]
    }
   ],
   "source": [
    "a = f\"\"\"(2+2={2+2})\"\"\"\n",
    "print(a)"
   ]
  },
  {
   "cell_type": "markdown",
   "id": "87cd7d25-ba26-4114-9f9b-52329bc49db4",
   "metadata": {},
   "source": [
    "#### 4. Using % operator"
   ]
  },
  {
   "cell_type": "code",
   "execution_count": 31,
   "id": "3890c524-472c-476f-a64d-f58e831cf118",
   "metadata": {},
   "outputs": [
    {
     "data": {
      "text/plain": [
       "'Student name Muhammad qasim \\n roll no: 111'"
      ]
     },
     "execution_count": 31,
     "metadata": {},
     "output_type": "execute_result"
    }
   ],
   "source": [
    "roll_no = 111\n",
    "name = \"Muhammad qasim\"\n",
    "\"Student name %s \\n roll no: %d\" % (name,roll_no)"
   ]
  },
  {
   "cell_type": "markdown",
   "id": "00fc3b71-e432-415b-bb2a-859bf4d44ccb",
   "metadata": {},
   "source": [
    "# Typecasting"
   ]
  },
  {
   "cell_type": "code",
   "execution_count": 32,
   "id": "05856ac7-842c-407f-b00a-3df2443803f4",
   "metadata": {},
   "outputs": [
    {
     "name": "stdout",
     "output_type": "stream",
     "text": [
      "value of a is:  7 <class 'int'>\n"
     ]
    }
   ],
   "source": [
    "a = \"7\"   #string\n",
    "a = int(a) #int converts string into integar\n",
    "print(\"value of a is: \", a, type(a))"
   ]
  },
  {
   "cell_type": "code",
   "execution_count": 33,
   "id": "5d581046-1e33-41cd-8644-ca8e0c3bfda3",
   "metadata": {},
   "outputs": [
    {
     "name": "stdout",
     "output_type": "stream",
     "text": [
      "value of a is:  7.0 <class 'float'>\n"
     ]
    }
   ],
   "source": [
    "a = \"7\"   #string\n",
    "a = float(a) #int converts string into float\n",
    "print(\"value of a is: \", a, type(a))"
   ]
  }
 ],
 "metadata": {
  "kernelspec": {
   "display_name": "Python 3 (ipykernel)",
   "language": "python",
   "name": "python3"
  },
  "language_info": {
   "codemirror_mode": {
    "name": "ipython",
    "version": 3
   },
   "file_extension": ".py",
   "mimetype": "text/x-python",
   "name": "python",
   "nbconvert_exporter": "python",
   "pygments_lexer": "ipython3",
   "version": "3.11.4"
  }
 },
 "nbformat": 4,
 "nbformat_minor": 5
}
