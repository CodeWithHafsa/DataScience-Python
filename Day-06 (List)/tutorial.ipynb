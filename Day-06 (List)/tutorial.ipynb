{
 "cells": [
  {
   "cell_type": "markdown",
   "metadata": {},
   "source": [
    "# List Slicing"
   ]
  },
  {
   "cell_type": "code",
   "execution_count": 9,
   "metadata": {},
   "outputs": [
    {
     "name": "stdout",
     "output_type": "stream",
     "text": [
      "['a', 'b', 'c', 'd', 'e', 'f', 'g', 'h', 'i', 'j', 'k', 'l', 'm', 'n', 'o', 'p', 'q', 'r', 's', 't', 'u', 'v', 'w', 'x', 'y', 'z']\n"
     ]
    }
   ],
   "source": [
    "# List\n",
    "characters = list(\"abcdefghijklmnopqrstuvwxyz\")\n",
    "print(characters)"
   ]
  },
  {
   "cell_type": "code",
   "execution_count": 1,
   "metadata": {},
   "outputs": [
    {
     "name": "stdout",
     "output_type": "stream",
     "text": [
      "[1, 2, 3, 4, 5, 6, 7, 8, 9, 10]\n",
      "1\n",
      "[2]\n",
      "[2, 3, 4, 5, 6, 7]\n"
     ]
    }
   ],
   "source": [
    "a = (list(range(1,11)))\n",
    "print(a)\n",
    "print(a[0])   #indexing\n",
    "\n",
    "print(a[1:2]) #slicing\n",
    "print(a[1:7]) #slicing"
   ]
  },
  {
   "cell_type": "code",
   "execution_count": 2,
   "metadata": {},
   "outputs": [
    {
     "name": "stdout",
     "output_type": "stream",
     "text": [
      "[1, 2, 3, 4, 5, 6, 7, 8, 9, 10]\n",
      "[1, 2, 3, 4, 5, 6, 7, 8, 9, 10]\n",
      "[1, 3, 5, 7, 9]\n",
      "[1, 4, 7, 10]\n"
     ]
    }
   ],
   "source": [
    "a = (list(range(1,11)))\n",
    "print(a[::]) #if nothing is written - means all value include\n",
    "print(a[0:10:1])\n",
    "print(a[0:10:2])\n",
    "print(a[0:10:3]) "
   ]
  },
  {
   "cell_type": "code",
   "execution_count": 6,
   "metadata": {},
   "outputs": [
    {
     "name": "stdout",
     "output_type": "stream",
     "text": [
      "[4, 5, 6, 7, 8, 9, 10]\n",
      "[4, 5, 6, 7, 8, 9, 10]\n",
      "[4, 5, 6, 7, 8, 9, 10]\n",
      "[4, 5, 6, 7, 8, 9, 10]\n",
      "[4, 5, 6, 7, 8, 9, 10]\n"
     ]
    }
   ],
   "source": [
    "a = (list(range(1,11)))\n",
    "print(a[3::]) \n",
    "print(a[3:]) \n",
    "print(a[3:10]) \n",
    "print(a[3:10:1]) \n",
    "print(a[-7:]) #negative slicing"
   ]
  },
  {
   "cell_type": "code",
   "execution_count": 7,
   "metadata": {},
   "outputs": [
    {
     "name": "stdout",
     "output_type": "stream",
     "text": [
      "[]\n",
      "[6, 7, 8]\n"
     ]
    }
   ],
   "source": [
    "a = (list(range(1,11)))\n",
    "print(a[-2:-5]) #empty result - because by default step is '1'\n",
    "print(a[-5:-2])"
   ]
  },
  {
   "cell_type": "code",
   "execution_count": 8,
   "metadata": {},
   "outputs": [
    {
     "name": "stdout",
     "output_type": "stream",
     "text": [
      "[1, 2, 3, 4, 5, 6, 7, 8, 9, 10]\n",
      "[10, 9, 8, 7, 6, 5, 4, 3, 2, 1]\n",
      "[9, 8, 7]\n"
     ]
    }
   ],
   "source": [
    "a = (list(range(1,11)))\n",
    "print(a)\n",
    "print(a[::-1])\n",
    "print(a[-2:-5:-1]) #from right to left, because step =-1"
   ]
  },
  {
   "cell_type": "markdown",
   "metadata": {},
   "source": [
    "# List Methods"
   ]
  },
  {
   "cell_type": "code",
   "execution_count": 1,
   "metadata": {},
   "outputs": [
    {
     "data": {
      "text/plain": [
       "['append',\n",
       " 'clear',\n",
       " 'copy',\n",
       " 'count',\n",
       " 'extend',\n",
       " 'index',\n",
       " 'insert',\n",
       " 'pop',\n",
       " 'remove',\n",
       " 'reverse',\n",
       " 'sort']"
      ]
     },
     "execution_count": 1,
     "metadata": {},
     "output_type": "execute_result"
    }
   ],
   "source": [
    "a = list(range(1,11))\n",
    "[i for i in dir(a) if \"_\" not in i]"
   ]
  },
  {
   "cell_type": "code",
   "execution_count": 4,
   "metadata": {},
   "outputs": [
    {
     "name": "stdout",
     "output_type": "stream",
     "text": [
      "[]\n",
      "['Qasim']\n",
      "['Qasim', 'Asif']\n",
      "['Qasim', 'Asif', 'Hamza']\n"
     ]
    }
   ],
   "source": [
    "# append() method:\n",
    "names = []\n",
    "print(names)\n",
    "names.append(\"Qasim\")\n",
    "print(names)\n",
    "names.append(\"Asif\")\n",
    "print(names)\n",
    "names.append(\"Hamza\")\n",
    "print(names)"
   ]
  },
  {
   "cell_type": "code",
   "execution_count": 35,
   "metadata": {},
   "outputs": [
    {
     "name": "stdout",
     "output_type": "stream",
     "text": [
      "[]\n"
     ]
    }
   ],
   "source": [
    "# clear() method:\n",
    "fruits = [\"apple\", \"banana\", \"cherry\"]\n",
    "fruits.clear()\n",
    "print(fruits)"
   ]
  },
  {
   "cell_type": "code",
   "execution_count": 16,
   "metadata": {},
   "outputs": [
    {
     "data": {
      "text/plain": [
       "['Qasim', 'Asif', 'Hamza', 'Ubaid', 'Konain', 'Ibad']"
      ]
     },
     "execution_count": 16,
     "metadata": {},
     "output_type": "execute_result"
    }
   ],
   "source": [
    "names = ['Qasim', 'Asif', 'Hamza']\n",
    "while True:\n",
    "    name1 = input(\"Enter Student Name | X for exit\")\n",
    "    if name1 == \"X\" or name1 ==\"x\":\n",
    "        break\n",
    "    names.append(name1)\n",
    "\n",
    "names"
   ]
  },
  {
   "cell_type": "code",
   "execution_count": 17,
   "metadata": {},
   "outputs": [
    {
     "name": "stdout",
     "output_type": "stream",
     "text": [
      "['Muhammad Qasim', 'Asif', 'Hamza', 'Ubaid', 'Konain', 'Ibad']\n",
      "['Muhammad Qasim', 'Asif', 'Hamza', 'Ubaid', 'Konain', 'Ibad']\n"
     ]
    }
   ],
   "source": [
    "names = ['Qasim', 'Asif', 'Hamza', 'Ubaid', 'Konain', 'Ibad']\n",
    "st_names = names # shallow copy\n",
    "st_names\n",
    "st_names[0] #index\n",
    "\n",
    "st_names[0] = \"Muhammad Qasim\"\n",
    "print(st_names)\n",
    "print(names)"
   ]
  },
  {
   "cell_type": "code",
   "execution_count": 19,
   "metadata": {},
   "outputs": [
    {
     "name": "stdout",
     "output_type": "stream",
     "text": [
      "['Muhammad Qasim', 'Asif', 'Hamza', 'Ubaid', 'Konain', 'Ibad']\n",
      "['Qasim', 'Asif', 'Hamza', 'Ubaid', 'Konain', 'Ibad']\n"
     ]
    }
   ],
   "source": [
    "names = ['Muhammad Qasim', 'Asif', 'Hamza', 'Ubaid', 'Konain', 'Ibad']\n",
    "st_names1 = names.copy() # deep copy\n",
    "st_names1\n",
    "\n",
    "st_names1[0] = \"Qasim\"\n",
    "print(names) \n",
    "print(st_names1)"
   ]
  },
  {
   "cell_type": "code",
   "execution_count": 20,
   "metadata": {},
   "outputs": [
    {
     "name": "stdout",
     "output_type": "stream",
     "text": [
      "['Muhammad Qasim', 'Asif', 'Hamza', 'Ubaid', 'Konain', 'Ibad']\n",
      "['Muhammad Qasim', 'Asif', 'Hamza', 'Ubaid', 'Konain', 'Ibad']\n",
      "['Qasim1', 'Asif', 'Hamza', 'Ubaid', 'Konain', 'Ibad']\n"
     ]
    }
   ],
   "source": [
    "names = ['Muhammad Qasim', 'Asif', 'Hamza', 'Ubaid', 'Konain', 'Ibad']\n",
    "print(names)\n",
    "n = names[:] # deep copy\n",
    "n[0] = 'Qasim1'\n",
    "\n",
    "print(names)\n",
    "print(n)"
   ]
  },
  {
   "cell_type": "code",
   "execution_count": 22,
   "metadata": {},
   "outputs": [
    {
     "data": {
      "text/plain": [
       "1"
      ]
     },
     "execution_count": 22,
     "metadata": {},
     "output_type": "execute_result"
    }
   ],
   "source": [
    "# count() method\n",
    "names = ['Muhammad Qasim', 'Asif', 'Hamza', 'Ubaid', 'Konain', 'Ibad']\n",
    "names.count(\"Asif\")"
   ]
  },
  {
   "cell_type": "code",
   "execution_count": 23,
   "metadata": {},
   "outputs": [
    {
     "name": "stdout",
     "output_type": "stream",
     "text": [
      "['Muhammad Qasim', 'Asif', 'Hamza', 'Ubaid', 'Konain', 'Ibad', '111', '222', ['333']]\n"
     ]
    }
   ],
   "source": [
    "# append() method:\n",
    "names = ['Muhammad Qasim', 'Asif', 'Hamza', 'Ubaid', 'Konain', 'Ibad']\n",
    "names.append('111')\n",
    "names.append('222')\n",
    "names.append(['333'])\n",
    "print(names)"
   ]
  },
  {
   "cell_type": "code",
   "execution_count": 24,
   "metadata": {},
   "outputs": [
    {
     "name": "stdout",
     "output_type": "stream",
     "text": [
      "['Muhammad Qasim', 'Asif', 'Hamza', 'Ubaid', 'Konain', 'Ibad', '111', '222', ['333'], 'a', 'b', 'c']\n"
     ]
    }
   ],
   "source": [
    "# extend() method:\n",
    "names = ['Muhammad Qasim', 'Asif', 'Hamza', 'Ubaid', 'Konain', 'Ibad', '111', '222', ['333']]\n",
    "remaining_names = ['a','b','c']\n",
    "names.extend(remaining_names)\n",
    "print(names)"
   ]
  },
  {
   "cell_type": "code",
   "execution_count": 25,
   "metadata": {},
   "outputs": [
    {
     "name": "stdout",
     "output_type": "stream",
     "text": [
      "['Muhammad Qasim', 'Asif', 'Hamza', 'Ubaid', 'Konain', 'Ibad', '111', '222', 'a', 'b', 'c']\n"
     ]
    }
   ],
   "source": [
    "# To delete a string\n",
    "names = ['Muhammad Qasim', 'Asif', 'Hamza', 'Ubaid', 'Konain', 'Ibad', '111', '222', ['333'], 'a', 'b', 'c']\n",
    "del names[-4]\n",
    "print(names)"
   ]
  },
  {
   "cell_type": "code",
   "execution_count": 26,
   "metadata": {},
   "outputs": [
    {
     "data": {
      "text/plain": [
       "4"
      ]
     },
     "execution_count": 26,
     "metadata": {},
     "output_type": "execute_result"
    }
   ],
   "source": [
    "# index() method:\n",
    "names = ['Muhammad Qasim', 'Asif', 'Hamza', 'Ubaid', 'Konain', 'Ibad', '111', '222', 'a', 'b', 'c']\n",
    "names.index(\"Konain\")"
   ]
  },
  {
   "cell_type": "code",
   "execution_count": 27,
   "metadata": {},
   "outputs": [
    {
     "name": "stdout",
     "output_type": "stream",
     "text": [
      "['Eman', 'Muhammad Qasim', 'Asif', 'Hamza', 'Ubaid', 'Konain', 'Ibad', '111', '222', 'a', 'b', 'c']\n"
     ]
    }
   ],
   "source": [
    "# insert() method:\n",
    "names = ['Muhammad Qasim', 'Asif', 'Hamza', 'Ubaid', 'Konain', 'Ibad', '111', '222', 'a', 'b', 'c']\n",
    "names.insert(0,\"Eman\")\n",
    "print(names)"
   ]
  },
  {
   "cell_type": "code",
   "execution_count": 29,
   "metadata": {},
   "outputs": [
    {
     "name": "stdout",
     "output_type": "stream",
     "text": [
      "Ibad\n",
      "['Muhammad Qasim', 'Asif', 'Hamza', 'Ubaid', 'Konain']\n"
     ]
    }
   ],
   "source": [
    "# pop() method:\n",
    "names = ['Muhammad Qasim', 'Asif', 'Hamza', 'Ubaid', 'Konain', 'Ibad']\n",
    "c  = names.pop()\n",
    "print(c)\n",
    "print(names)"
   ]
  },
  {
   "cell_type": "code",
   "execution_count": 31,
   "metadata": {},
   "outputs": [
    {
     "name": "stdout",
     "output_type": "stream",
     "text": [
      "['Muhammad Qasim', 'Asif', 'Hamza', 'Konain', 'Ibad']\n"
     ]
    }
   ],
   "source": [
    "# remove() method:\n",
    "names = ['Muhammad Qasim', 'Asif', 'Hamza', 'Ubaid', 'Konain', 'Ibad']\n",
    "names.remove(\"Ubaid\")\n",
    "print(names)"
   ]
  },
  {
   "cell_type": "code",
   "execution_count": 32,
   "metadata": {},
   "outputs": [
    {
     "name": "stdout",
     "output_type": "stream",
     "text": [
      "['Ibad', 'Konain', 'Ubaid', 'Hamza', 'Asif', 'Muhammad Qasim']\n"
     ]
    }
   ],
   "source": [
    "# reverse() method:\n",
    "names = ['Muhammad Qasim', 'Asif', 'Hamza', 'Ubaid', 'Konain', 'Ibad']\n",
    "names.reverse()\n",
    "print(names)"
   ]
  },
  {
   "cell_type": "code",
   "execution_count": 33,
   "metadata": {},
   "outputs": [
    {
     "name": "stdout",
     "output_type": "stream",
     "text": [
      "['BMW', 'Ford', 'Volvo']\n"
     ]
    }
   ],
   "source": [
    "# sort() method:\n",
    "cars = ['Ford', 'BMW', 'Volvo']\n",
    "cars.sort()\n",
    "print(cars)"
   ]
  },
  {
   "cell_type": "code",
   "execution_count": 34,
   "metadata": {},
   "outputs": [
    {
     "name": "stdout",
     "output_type": "stream",
     "text": [
      "['Volvo', 'Ford', 'BMW']\n"
     ]
    }
   ],
   "source": [
    "# reverse_sort() method:\n",
    "cars = ['Ford', 'BMW', 'Volvo']\n",
    "cars.sort(reverse=True)\n",
    "print(cars)"
   ]
  }
 ],
 "metadata": {
  "kernelspec": {
   "display_name": "Python 3",
   "language": "python",
   "name": "python3"
  },
  "language_info": {
   "codemirror_mode": {
    "name": "ipython",
    "version": 3
   },
   "file_extension": ".py",
   "mimetype": "text/x-python",
   "name": "python",
   "nbconvert_exporter": "python",
   "pygments_lexer": "ipython3",
   "version": "3.11.4"
  },
  "orig_nbformat": 4
 },
 "nbformat": 4,
 "nbformat_minor": 2
}
