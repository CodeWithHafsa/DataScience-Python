{
 "cells": [
  {
   "cell_type": "code",
   "execution_count": 2,
   "metadata": {},
   "outputs": [
    {
     "name": "stdout",
     "output_type": "stream",
     "text": [
      "b is greater than a\n"
     ]
    }
   ],
   "source": [
    "a = 33\n",
    "b = 200\n",
    "if b > a:\n",
    "  print(\"b is greater than a\")\n",
    "else:\n",
    "  print(\"b is not greater than a\")"
   ]
  },
  {
   "cell_type": "markdown",
   "metadata": {},
   "source": [
    "Program for even and odd number using if else:"
   ]
  },
  {
   "cell_type": "code",
   "execution_count": 3,
   "metadata": {},
   "outputs": [
    {
     "name": "stdout",
     "output_type": "stream",
     "text": [
      "600 This is Even\n"
     ]
    }
   ],
   "source": [
    "ui = int(input(\"Enter any number\"))\n",
    "\n",
    "if ui % 2 == 0:\n",
    "    print(f\"{ui} This is Even\")\n",
    "else:\n",
    "    print(f\"{ui} This number is Odd!\")"
   ]
  },
  {
   "cell_type": "code",
   "execution_count": 4,
   "metadata": {},
   "outputs": [
    {
     "name": "stdout",
     "output_type": "stream",
     "text": [
      "75 this number is Odd!\n",
      "i'm not part of above block\n"
     ]
    }
   ],
   "source": [
    "ui = int(input(\"Enter any number\"))\n",
    "\n",
    "if ui % 2 == 0:\n",
    "    print(f\"{ui} This is Even\")\n",
    "    print(\"aaa\")\n",
    "    print(\"aaa\")\n",
    "else:\n",
    "    print(f\"{ui} this number is Odd!\")\n",
    "\n",
    "print(\"i'm not part of above block\")"
   ]
  },
  {
   "cell_type": "markdown",
   "metadata": {},
   "source": [
    "Program of Grading System using elif:"
   ]
  },
  {
   "cell_type": "code",
   "execution_count": 7,
   "metadata": {},
   "outputs": [
    {
     "name": "stdout",
     "output_type": "stream",
     "text": [
      "A\n"
     ]
    }
   ],
   "source": [
    "per = 70\n",
    "\n",
    "if per>=80:\n",
    "    print(\"A+\")\n",
    "elif per >= 70:\n",
    "    print(\"A\")\n",
    "elif per>= 60:\n",
    "    print(\"B\")\n",
    "elif per>=50:\n",
    "    print(\"C\")\n",
    "elif per>40:\n",
    "    print(\"D\")\n",
    "elif per>=33:\n",
    "    print(\"E\")\n",
    "else:\n",
    "    print(\"Fail\")"
   ]
  },
  {
   "cell_type": "markdown",
   "metadata": {},
   "source": [
    "Program of Grading System using elif and 'and' statement:"
   ]
  },
  {
   "cell_type": "code",
   "execution_count": 6,
   "metadata": {},
   "outputs": [
    {
     "name": "stdout",
     "output_type": "stream",
     "text": [
      "A+\n"
     ]
    }
   ],
   "source": [
    "per = 99\n",
    "\n",
    "if per>=0 and per<33: #step1\n",
    "    print(\"Fail\")\n",
    "elif per >= 33 and per<40: #step2\n",
    "    print(\"E\")\n",
    "elif per>= 40 and per <50:#step3\n",
    "    print(\"D\")\n",
    "elif per>=50 and per<60:#step4\n",
    "    print(\"C\")\n",
    "elif per>60 and per<70:\n",
    "    print(\"B\")\n",
    "elif per>=70 and per<80:\n",
    "    print(\"A\")\n",
    "else:\n",
    "    print(\"A+\")"
   ]
  }
 ],
 "metadata": {
  "kernelspec": {
   "display_name": "Python 3",
   "language": "python",
   "name": "python3"
  },
  "language_info": {
   "codemirror_mode": {
    "name": "ipython",
    "version": 3
   },
   "file_extension": ".py",
   "mimetype": "text/x-python",
   "name": "python",
   "nbconvert_exporter": "python",
   "pygments_lexer": "ipython3",
   "version": "3.11.4"
  },
  "orig_nbformat": 4
 },
 "nbformat": 4,
 "nbformat_minor": 2
}
