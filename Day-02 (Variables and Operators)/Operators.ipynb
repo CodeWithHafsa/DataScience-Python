{
 "cells": [
  {
   "cell_type": "markdown",
   "id": "1f0c0d0c",
   "metadata": {},
   "source": [
    "# Variables in Python"
   ]
  },
  {
   "cell_type": "code",
   "execution_count": 1,
   "id": "9badf4be",
   "metadata": {},
   "outputs": [
    {
     "name": "stdout",
     "output_type": "stream",
     "text": [
      "Hafsa Imtiaz\n",
      "<class 'str'>\n",
      "2788899238640\n"
     ]
    }
   ],
   "source": [
    "# Example\n",
    "name = \"Hafsa Imtiaz\"\n",
    "print(name)\n",
    "print (type(name)) #type tells class\n",
    "print (id(name))  #id tells memory address"
   ]
  },
  {
   "cell_type": "code",
   "execution_count": 3,
   "id": "a0bf183c",
   "metadata": {},
   "outputs": [
    {
     "name": "stdout",
     "output_type": "stream",
     "text": [
      "20 <class 'int'> 140737328309640\n",
      "20.7 <class 'float'> 2788897832336\n",
      "[1, 2, 3] <class 'list'> 2788899216704\n",
      "{1, 2, 5} <class 'set'> 2788898646144\n",
      "{'name': 'Hafsa', 'education': 'BSIC'} <class 'dict'> 2788899260928\n"
     ]
    }
   ],
   "source": [
    "# Data type Examples\n",
    "# Example#1 \n",
    "a = 20   #integar\n",
    "print(a, type(a), id(a))\n",
    "\n",
    "b = 20.7  #float\n",
    "print(b, type(b), id(b))\n",
    "\n",
    "c = [1, 2, 3]    #list\n",
    "print(c, type(c), id(c))\n",
    "\n",
    "d = {1, 1, 1, 2, 5, 5, 2}  # set(it return only unique values)\n",
    "print(d, type(d), id(d))\n",
    "\n",
    "e = {\"name\": \"Hafsa\", \"education\": \"BSIC\"} # dictionary\n",
    "print(e, type(e), id(e))"
   ]
  },
  {
   "cell_type": "code",
   "execution_count": 4,
   "id": "e2a71941",
   "metadata": {},
   "outputs": [
    {
     "name": "stdout",
     "output_type": "stream",
     "text": [
      "7 <class 'int'> 140737328309224\n",
      "7 <class 'str'> 140737328352720\n",
      "7.0 <class 'float'> 2788896111248\n"
     ]
    }
   ],
   "source": [
    "# Example#2 \n",
    "a = 7\n",
    "print(a, type(a), id(a))\n",
    "b = '7'\n",
    "print(b, type(b), id(b))\n",
    "c = 7.0\n",
    "print(c, type(c), id(c))"
   ]
  },
  {
   "cell_type": "code",
   "execution_count": 5,
   "id": "ea7fc8c1",
   "metadata": {},
   "outputs": [
    {
     "name": "stdout",
     "output_type": "stream",
     "text": [
      "140737328309192\n",
      "140737328309192\n",
      "140737328309192\n"
     ]
    }
   ],
   "source": [
    "# Shallow Copy Example\n",
    "x = 6\n",
    "y = 6\n",
    "z = 6\n",
    "print(id(x))\n",
    "print(id(y))\n",
    "print(id(z))"
   ]
  },
  {
   "cell_type": "code",
   "execution_count": 6,
   "id": "6fc33859",
   "metadata": {},
   "outputs": [
    {
     "name": "stdout",
     "output_type": "stream",
     "text": [
      "140737328309224\n",
      "140737328352720\n"
     ]
    }
   ],
   "source": [
    "# Deep Copy Example\n",
    "a = 7\n",
    "b = '7'\n",
    "print(id(a))\n",
    "print(id(b))"
   ]
  },
  {
   "cell_type": "markdown",
   "id": "5bcb4445",
   "metadata": {},
   "source": [
    "# Python Operations"
   ]
  },
  {
   "cell_type": "code",
   "execution_count": 3,
   "id": "3b404adf-6b17-4b16-9b50-970ef09e582d",
   "metadata": {},
   "outputs": [
    {
     "name": "stdout",
     "output_type": "stream",
     "text": [
      "9 Addition\n",
      "5 Subtraction\n",
      "14 Multiplication\n",
      "3.5 Division\n",
      "2 Modulus\n",
      "4 Exponent\n",
      "3 Floor division\n"
     ]
    }
   ],
   "source": [
    "# Arithmetic Operators\n",
    "print(2 + 7, \"Addition\")\n",
    "print(7 - 2, \"Subtraction\")\n",
    "print(7 * 2, \"Multiplication\")\n",
    "print(7 / 2, \"Division\")\n",
    "print(11 % 3, \"Modulus\") #modulus is the remainder in division\n",
    "print(2 ** 2, \"Exponent\")\n",
    "print(7 // 2, \"Floor division\") #it only tells value before point."
   ]
  },
  {
   "cell_type": "code",
   "execution_count": 2,
   "id": "383749b7-183a-4d85-912c-3a918471236f",
   "metadata": {},
   "outputs": [
    {
     "name": "stdout",
     "output_type": "stream",
     "text": [
      "7\n",
      "2\n"
     ]
    }
   ],
   "source": [
    "# Assignment Operators\n",
    "a = 7\n",
    "print(a)\n",
    "b = 2\n",
    "print(b)"
   ]
  },
  {
   "cell_type": "code",
   "execution_count": 4,
   "id": "31a097fd-9c0e-4b8a-922f-000e45e712a3",
   "metadata": {},
   "outputs": [
    {
     "name": "stdout",
     "output_type": "stream",
     "text": [
      "True\n",
      "False\n"
     ]
    }
   ],
   "source": [
    "# Comparision Operators: Equal to\n",
    "a = 7  #Example#1\n",
    "b = 7\n",
    "print(a == b)\n",
    "\n",
    "c = 7  #Example#2\n",
    "d = 9\n",
    "print(c == d)"
   ]
  },
  {
   "cell_type": "code",
   "execution_count": 5,
   "id": "ce6542f8-c943-40d3-8fc7-2e6371001dba",
   "metadata": {},
   "outputs": [
    {
     "name": "stdout",
     "output_type": "stream",
     "text": [
      "False\n",
      "True\n"
     ]
    }
   ],
   "source": [
    "# Comparision Operators: Greater than / Less than\n",
    "a = 7  #Example#3\n",
    "b = 9\n",
    "print(a > b)\n",
    "\n",
    "c = 7  #Example#4\n",
    "d = 9\n",
    "print(c < d)"
   ]
  },
  {
   "cell_type": "code",
   "execution_count": 6,
   "id": "a8d89681-f981-4a87-8120-2ebf7a1b87d0",
   "metadata": {},
   "outputs": [
    {
     "name": "stdout",
     "output_type": "stream",
     "text": [
      "True\n",
      "True\n"
     ]
    }
   ],
   "source": [
    "# Comparision Operators: Greater than or equal to / Less than  or equal to\n",
    "a = 10  #Example#5\n",
    "b = 9\n",
    "print(a >= b)\n",
    "\n",
    "c = 9  #Example#6\n",
    "d = 9\n",
    "print(c <= d)"
   ]
  },
  {
   "cell_type": "code",
   "execution_count": 8,
   "id": "fc51d1cb-4ac0-4651-ab6b-fa7c7368adba",
   "metadata": {},
   "outputs": [
    {
     "name": "stdout",
     "output_type": "stream",
     "text": [
      "False\n"
     ]
    }
   ],
   "source": [
    "# Comparision Operators: Not equal to\n",
    "a = 9  #Example#7\n",
    "b = 9\n",
    "print(a != b)"
   ]
  },
  {
   "cell_type": "code",
   "execution_count": 9,
   "id": "986c1152-3ec6-48b8-bf3d-ffc7b16b4631",
   "metadata": {},
   "outputs": [
    {
     "name": "stdout",
     "output_type": "stream",
     "text": [
      "True\n",
      "False\n",
      "False\n",
      "False\n"
     ]
    }
   ],
   "source": [
    "# Logical Operator: 'and' operator\n",
    " #      1        2        3       4\n",
    "print(True and True and True and True)\n",
    "print(True and False and True and True)\n",
    "print(True and False and True and False)\n",
    "print(False and False and False and False)"
   ]
  },
  {
   "cell_type": "code",
   "execution_count": 1,
   "id": "8d9963e1",
   "metadata": {},
   "outputs": [
    {
     "name": "stdout",
     "output_type": "stream",
     "text": [
      "True\n"
     ]
    }
   ],
   "source": [
    "# Logical Operator 'and'\n",
    "x = 5\n",
    "print(x > 3 and x < 10)"
   ]
  },
  {
   "cell_type": "code",
   "execution_count": 10,
   "id": "c91d697e-848f-478a-a7b4-85c33d5425c8",
   "metadata": {},
   "outputs": [
    {
     "name": "stdout",
     "output_type": "stream",
     "text": [
      "True\n",
      "True\n",
      "True\n",
      "True\n",
      "False\n"
     ]
    }
   ],
   "source": [
    "# Logical Operator: 'or' operator\n",
    "#      1        2        3       4\n",
    "print(True or True or True or True)\n",
    "print(True or False or True or True)\n",
    "print(True or False or True or False)\n",
    "print(False or False or True or False)\n",
    "print(False or False or False or False)"
   ]
  },
  {
   "cell_type": "code",
   "execution_count": 2,
   "id": "d7b5e019-69ae-43fc-8e0a-3ce16b97329b",
   "metadata": {},
   "outputs": [
    {
     "name": "stdout",
     "output_type": "stream",
     "text": [
      "True\n"
     ]
    }
   ],
   "source": [
    "# Logical Operator - 'or'\n",
    "x = 5\n",
    "print(x > 3 or x < 4)"
   ]
  },
  {
   "cell_type": "code",
   "execution_count": 3,
   "id": "81745aa3",
   "metadata": {},
   "outputs": [
    {
     "name": "stdout",
     "output_type": "stream",
     "text": [
      "False\n"
     ]
    }
   ],
   "source": [
    "# Logical Operator - 'not'\n",
    "x = 5\n",
    "print(not(x > 3 and x < 10))"
   ]
  },
  {
   "cell_type": "code",
   "execution_count": 4,
   "id": "a390e34b",
   "metadata": {},
   "outputs": [
    {
     "name": "stdout",
     "output_type": "stream",
     "text": [
      "True\n",
      "False\n",
      "True\n"
     ]
    }
   ],
   "source": [
    "# Identity Operator - 'is'\n",
    "x = [\"apple\", \"banana\"]\n",
    "y = [\"apple\", \"banana\"]\n",
    "z = x\n",
    "\n",
    "print(x is z)\n",
    "# returns True because z is the same object as x\n",
    "\n",
    "print(x is y)\n",
    "# returns False because x is not the same object as y, even if they have the same content\n",
    "\n",
    "print(x == y)\n",
    "# to demonstrate the difference betweeen \"is\" and \"==\": this comparison returns True because x is equal to y"
   ]
  },
  {
   "cell_type": "code",
   "execution_count": 5,
   "id": "11a7c0fa",
   "metadata": {},
   "outputs": [
    {
     "name": "stdout",
     "output_type": "stream",
     "text": [
      "False\n",
      "True\n",
      "False\n"
     ]
    }
   ],
   "source": [
    "# Identity Operator - 'is not'\n",
    "x = [\"apple\", \"banana\"]\n",
    "y = [\"apple\", \"banana\"]\n",
    "z = x\n",
    "\n",
    "print(x is not z)\n",
    "# returns False because z is the same object as x\n",
    "\n",
    "print(x is not y)\n",
    "# returns True because x is not the same object as y, even if they have the same content\n",
    "\n",
    "print(x != y)\n",
    "# to demonstrate the difference betweeen \"is not\" and \"!=\": this comparison returns False because x is equal to y"
   ]
  },
  {
   "cell_type": "code",
   "execution_count": 6,
   "id": "5c5cbb47",
   "metadata": {},
   "outputs": [
    {
     "name": "stdout",
     "output_type": "stream",
     "text": [
      "True\n"
     ]
    }
   ],
   "source": [
    "# Membership Operator: 'in'\n",
    "x = [\"apple\", \"banana\"]\n",
    "print(\"banana\" in x)\n",
    "# returns True because a sequence with the value \"banana\" is in the list"
   ]
  },
  {
   "cell_type": "code",
   "execution_count": 7,
   "id": "896659e2",
   "metadata": {},
   "outputs": [
    {
     "name": "stdout",
     "output_type": "stream",
     "text": [
      "True\n"
     ]
    }
   ],
   "source": [
    "# Membership Operator: 'not in'\n",
    "x = [\"apple\", \"banana\"]\n",
    "print(\"pineapple\" not in x)\n",
    "# returns True because a sequence with the value \"pineapple\" is not in the list"
   ]
  }
 ],
 "metadata": {
  "kernelspec": {
   "display_name": "Python 3 (ipykernel)",
   "language": "python",
   "name": "python3"
  },
  "language_info": {
   "codemirror_mode": {
    "name": "ipython",
    "version": 3
   },
   "file_extension": ".py",
   "mimetype": "text/x-python",
   "name": "python",
   "nbconvert_exporter": "python",
   "pygments_lexer": "ipython3",
   "version": "3.11.4"
  }
 },
 "nbformat": 4,
 "nbformat_minor": 5
}
