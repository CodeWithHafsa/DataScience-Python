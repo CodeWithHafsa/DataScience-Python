{
 "cells": [
  {
   "cell_type": "code",
   "execution_count": 6,
   "metadata": {},
   "outputs": [],
   "source": [
    "# import re\n",
    "# # print(dir(re))\n",
    "# [i for i in dir(re) if \"_\" not in i]"
   ]
  },
  {
   "cell_type": "code",
   "execution_count": 5,
   "metadata": {},
   "outputs": [
    {
     "data": {
      "text/plain": [
       "['Pakistan']"
      ]
     },
     "execution_count": 5,
     "metadata": {},
     "output_type": "execute_result"
    }
   ],
   "source": [
    "text = \"\"\"We love our country! Pakistan Zinda bad! \n",
    "pakistan one of the best contry in the world!\"\"\"\n",
    "pattern = \"Pakistan\" # character sequances\n",
    "re.findall(pattern,text)"
   ]
  },
  {
   "cell_type": "code",
   "execution_count": 7,
   "metadata": {},
   "outputs": [
    {
     "data": {
      "text/plain": [
       "['r', 'r', 'r', 'r']"
      ]
     },
     "execution_count": 7,
     "metadata": {},
     "output_type": "execute_result"
    }
   ],
   "source": [
    "text = \"\"\"We love our country! Pakistan Zinda bad! \n",
    "pakistan one of the best contry in the world!\"\"\"\n",
    "pattern = \"r\" # character sequances\n",
    "re.findall(pattern,text)"
   ]
  },
  {
   "cell_type": "code",
   "execution_count": 8,
   "metadata": {},
   "outputs": [
    {
     "data": {
      "text/plain": [
       "['Pakistan', 'pakistan']"
      ]
     },
     "execution_count": 8,
     "metadata": {},
     "output_type": "execute_result"
    }
   ],
   "source": [
    "text = \"\"\"We love our country! Pakistan Zinda bad! \n",
    "pakistan one of the best contry in the world!\"\"\"\n",
    "# display(text)\n",
    "pattern = \"Pakistan\" # character sequances\n",
    "re.findall(pattern, text, re.IGNORECASE)"
   ]
  },
  {
   "cell_type": "markdown",
   "metadata": {},
   "source": [
    "### - *Use of 'dot'* :"
   ]
  },
  {
   "cell_type": "code",
   "execution_count": 10,
   "metadata": {},
   "outputs": [
    {
     "data": {
      "text/plain": [
       "'Python Language'"
      ]
     },
     "metadata": {},
     "output_type": "display_data"
    },
    {
     "data": {
      "text/plain": [
       "['P', 'y', 't', 'h', 'o', 'n', ' ', 'L', 'a', 'n', 'g', 'u', 'a', 'g', 'e']"
      ]
     },
     "execution_count": 10,
     "metadata": {},
     "output_type": "execute_result"
    }
   ],
   "source": [
    "text = \"\"\"Python Language\"\"\"\n",
    "display(text)\n",
    "pattern = \".\" #dot means it takes all character individually\n",
    "re.findall(pattern, text, re.IGNORECASE)"
   ]
  },
  {
   "cell_type": "code",
   "execution_count": 12,
   "metadata": {},
   "outputs": [
    {
     "data": {
      "text/plain": [
       "['Pytho', 'n Lan', 'guage']"
      ]
     },
     "execution_count": 12,
     "metadata": {},
     "output_type": "execute_result"
    }
   ],
   "source": [
    "text = \"\"\"Python Language\"\"\"\n",
    "# display(text)\n",
    "pattern = \".....\" #five dots means it return 5words in one line \n",
    "re.findall(pattern, text, re.IGNORECASE)"
   ]
  },
  {
   "cell_type": "markdown",
   "metadata": {},
   "source": [
    "### - *Use of 'dot and plus sign'* :"
   ]
  },
  {
   "cell_type": "code",
   "execution_count": 13,
   "metadata": {},
   "outputs": [
    {
     "data": {
      "text/plain": [
       "['We love our country! Pakistan Zinda bad! ',\n",
       " 'pakistan one of the best contry in the world!',\n",
       " 'Hello Wolrd']"
      ]
     },
     "execution_count": 13,
     "metadata": {},
     "output_type": "execute_result"
    }
   ],
   "source": [
    "text = \"\"\"We love our country! Pakistan Zinda bad! \n",
    "pakistan one of the best contry in the world!\n",
    "Hello Wolrd\"\"\"\n",
    "# display(text)\n",
    "\n",
    "# + mean pick the pattern which written before \"+\"\n",
    "pattern = \".+\" # character sequances\n",
    "re.findall(pattern, text, re.IGNORECASE)"
   ]
  },
  {
   "cell_type": "code",
   "execution_count": 14,
   "metadata": {},
   "outputs": [
    {
     "data": {
      "text/plain": [
       "['country! Pakistan Zinda bad! ', 'contry in the world!']"
      ]
     },
     "execution_count": 14,
     "metadata": {},
     "output_type": "execute_result"
    }
   ],
   "source": [
    "text = \"\"\"We love our country! Pakistan Zinda bad! \n",
    "pakistan one of the best contry in the world!\n",
    "Hello Wolrd\"\"\"\n",
    "# display(text)\n",
    "\n",
    "# + mean pick the pattern which written before \"+\"\n",
    "pattern = \"c.+\" #prints pattren starting with c and ends at new line\n",
    "re.findall(pattern, text, re.IGNORECASE)"
   ]
  },
  {
   "cell_type": "markdown",
   "metadata": {},
   "source": [
    "### - *Made a pttren in which print lines that are ending at new line* :"
   ]
  },
  {
   "cell_type": "code",
   "execution_count": 16,
   "metadata": {},
   "outputs": [
    {
     "data": {
      "text/plain": [
       "['We love our country Pakistan Zinda bad!',\n",
       " 'pakistan one of the best contry in the world!',\n",
       " 'Lorem ipsum dolor sit amet, consectetur adipiscing elit.!',\n",
       " 'Praesent pellentesque mi nec lorem sollicitudin gravida.!']"
      ]
     },
     "execution_count": 16,
     "metadata": {},
     "output_type": "execute_result"
    }
   ],
   "source": [
    "text = \"\"\"We love our country Pakistan Zinda bad!\n",
    "pakistan one of the best contry in the world!\n",
    "Hello Wolrd\n",
    "I'm living in pakistan\n",
    "\n",
    "Lorem ipsum dolor sit amet, consectetur adipiscing elit.!\n",
    "Nullam quis ligula sit amet leo rutrum consectetur ac vitae sapien\n",
    "Suspendisse ac tellus dictum, bibendum massa eget, dapibus mauris.\n",
    "Sed in dui vel odio pharetra elementum sit amet vitae lorem.\n",
    "Praesent pellentesque mi nec lorem sollicitudin gravida.!\n",
    "\"\"\"\n",
    "# display(text)\n",
    "\n",
    "# + mean pick the pattern which written before \"+\"\n",
    "# pattern = \".+n$\" # character sequances\n",
    "pattern = \".+!$\" # character sequances\n",
    "re.findall(pattern, text, re.MULTILINE) #multiline use if we use write many lines"
   ]
  },
  {
   "cell_type": "markdown",
   "metadata": {},
   "source": [
    "### Convert any special meaning character into normal character place \" \\ \"  before special charachter"
   ]
  },
  {
   "cell_type": "markdown",
   "metadata": {},
   "source": [
    "*Example 01: Print lines that ends at full stop*:"
   ]
  },
  {
   "cell_type": "code",
   "execution_count": 18,
   "metadata": {},
   "outputs": [
    {
     "data": {
      "text/plain": [
       "['Suspendisse ac tellus dictum, bibendum massa eget, dapibus mauris.',\n",
       " 'Sed in dui vel odio pharetra elementum sit amet vitae lorem.']"
      ]
     },
     "execution_count": 18,
     "metadata": {},
     "output_type": "execute_result"
    }
   ],
   "source": [
    "text = \"\"\"\n",
    "Lorem ipsum dolor sit amet, consectetur adipiscing elit.!\n",
    "Nullam quis ligula sit amet leo rutrum consectetur ac vitae sapien\n",
    "Suspendisse ac tellus dictum, bibendum massa eget, dapibus mauris.\n",
    "Sed in dui vel odio pharetra elementum sit amet vitae lorem.\n",
    "Praesent pellentesque mi nec lorem sollicitudin gravida.!\n",
    "\"\"\"\n",
    "# display(text)\n",
    "\n",
    "pattern = \".+\\.$\" #print lines that ends at full stop\n",
    "\n",
    "re.findall(pattern, text, re.MULTILINE)"
   ]
  },
  {
   "cell_type": "markdown",
   "metadata": {},
   "source": [
    "*Example 02: Print lines that ends at excalmation mark*:"
   ]
  },
  {
   "cell_type": "code",
   "execution_count": 19,
   "metadata": {},
   "outputs": [
    {
     "data": {
      "text/plain": [
       "['we love our country! Pakistan zinda bad!',\n",
       " 'pakistan one of the best contry in the world!',\n",
       " 'i am living in pakistan!']"
      ]
     },
     "execution_count": 19,
     "metadata": {},
     "output_type": "execute_result"
    }
   ],
   "source": [
    "text = \"\"\"we love our country! Pakistan zinda bad!\n",
    "pakistan one of the best contry in the world!\n",
    "Hello world\n",
    "i am living in pakistan!\"\"\"\n",
    "\n",
    "# display (text) \n",
    "pattern = \".*!$\"  # Print lines that ends at excalmation mark\n",
    "re.findall(pattern,text,re.M)"
   ]
  },
  {
   "cell_type": "markdown",
   "metadata": {},
   "source": [
    "*Example 03: Print lines that starts with 'P' ends at excalmation mark*:"
   ]
  },
  {
   "cell_type": "code",
   "execution_count": 22,
   "metadata": {},
   "outputs": [
    {
     "data": {
      "text/plain": [
       "['Praesent pellentesque mi nec lorem sollicitudin gravida.!']"
      ]
     },
     "execution_count": 22,
     "metadata": {},
     "output_type": "execute_result"
    }
   ],
   "source": [
    "text = \"\"\"We love our country Pakistan Zinda bad!\n",
    "pakistan one of the best contry in the world!\n",
    "Hello Wolrd\n",
    "I'm living in pakistan\n",
    "\n",
    "Lorem ipsum dolor sit amet, consectetur adipiscing elit.!\n",
    "Nullam quis ligula sit amet leo rutrum consectetur ac vitae sapien\n",
    "Suspendisse ac tellus dictum, bibendum massa eget, dapibus mauris.\n",
    "Sed in dui vel odio pharetra elementum sit amet vitae lorem.\n",
    "Praesent pellentesque mi nec lorem sollicitudin gravida.!\n",
    "\"\"\"\n",
    "# display(text)\n",
    "\n",
    "pattern = \"^P.+!$\" #print lines that starts with 'P' ends at excalmation mark\n",
    "re.findall(pattern, text, re.MULTILINE)"
   ]
  },
  {
   "cell_type": "markdown",
   "metadata": {},
   "source": [
    "*Example 04: Print lines that starts with 'P or p' ends at excalmation mark*:"
   ]
  },
  {
   "cell_type": "code",
   "execution_count": 23,
   "metadata": {},
   "outputs": [
    {
     "name": "stdout",
     "output_type": "stream",
     "text": [
      "['Pakistan one of the best contry in the world!', 'Praesent pellentesque mi nec lorem sollicitudin gravida.!']\n"
     ]
    }
   ],
   "source": [
    "text = \"\"\"We love our country Pakistan Zinda bad!\n",
    "pakistan one of the best contry in the world!\n",
    "Hello Wolrd\n",
    "I'm living in pakistan\n",
    "\n",
    "Lorem ipsum dolor sit amet, consectetur adipiscing elit.!\n",
    "Nullam quis ligula sit amet leo rutrum consectetur ac vitae sapien\n",
    "Suspendisse ac tellus dictum, bibendum massa eget, dapibus mauris.\n",
    "Sed in dui vel odio pharetra elementum sit amet vitae lorem.\n",
    "Praesent pellentesque mi nec lorem sollicitudin gravida.!\n",
    "\"\"\"\n",
    "\n",
    "text = text.lower()\n",
    "# lower -use to convert all text to lower letters, so all lines that starts with p whether it is capital P or small p could print.\n",
    "# display(text)\n",
    "\n",
    "pattern = \"^p.+!$\" # character sequances\n",
    "l = re.findall(pattern, text, re.MULTILINE)\n",
    "l = [i.capitalize() for i in l] #capitalize() use to make first letter capital\n",
    "print(l)"
   ]
  },
  {
   "cell_type": "markdown",
   "metadata": {},
   "source": [
    "### Print given pattren or their combination:"
   ]
  },
  {
   "cell_type": "code",
   "execution_count": 30,
   "metadata": {},
   "outputs": [
    {
     "name": "stdout",
     "output_type": "stream",
     "text": [
      "['ak', 'a', 'a', 'a', 'pak', 'a', 'pak', 'a']\n"
     ]
    }
   ],
   "source": [
    "text = \"\"\"We love our country Pakistan Zinda bad!\n",
    "pakistan one of the best contry in the world!\n",
    "Hello Wolrd\n",
    "I'm living in pakistan\n",
    "\"\"\"\n",
    "\n",
    "pattern = \"[pak]+\"\n",
    "\n",
    "l = re.findall(pattern, text)\n",
    "print(l)"
   ]
  },
  {
   "cell_type": "code",
   "execution_count": 28,
   "metadata": {},
   "outputs": [
    {
     "name": "stdout",
     "output_type": "stream",
     "text": [
      "['We love our country Pakistan Zinda bad!', 'Hello Wolrd', \"I'm living in pakistan\"]\n"
     ]
    }
   ],
   "source": [
    "text = \"\"\"We love our country Pakistan Zinda bad!\n",
    "pakistan one of the best contry in the world!\n",
    "Hello Wolrd\n",
    "I'm living in pakistan\n",
    "\"\"\"\n",
    "\n",
    "pattern = \"^[hwHWI].*\" #print letter that starts with either h,w,H,W or their combinations\n",
    "l = re.findall(pattern, text, re.M)\n",
    "print(l)"
   ]
  },
  {
   "cell_type": "code",
   "execution_count": 31,
   "metadata": {},
   "outputs": [
    {
     "name": "stdout",
     "output_type": "stream",
     "text": [
      "['We love our country Pakistan Zinda bad!', 'Hello Wolrd']\n"
     ]
    }
   ],
   "source": [
    "text = \"\"\"We love our country Pakistan Zinda bad!\n",
    "pakistan one of the best contry in the world!\n",
    "Hello Wolrd\n",
    "I'm living in pakistan\n",
    "\"\"\"\n",
    "\n",
    "pattern = \"^We love.*\"\n",
    "l = re.findall(pattern, text, re.M) + re.findall(\"^He.*\", text, re.M)\n",
    "print(l)"
   ]
  },
  {
   "cell_type": "code",
   "execution_count": 33,
   "metadata": {},
   "outputs": [
    {
     "name": "stdout",
     "output_type": "stream",
     "text": [
      "['Python', 'Langauge1']\n"
     ]
    }
   ],
   "source": [
    "text = \"\"\"Python Langauge123\n",
    "\"\"\"\n",
    "\n",
    "# pattern = r\"[0123456789]+\" #print line that include letters from 1to9\n",
    "# pattern = r\"[0-9]+\"        #print line that include letters from 1to9\n",
    "# pattern = r\"[A-za-z]+\"     #print line that include letters from A-Z or a-z\n",
    "# pattern = r\"[A-z]+\"        #print line that include letters from A-Z or a-z\n",
    "#pattern = r\"[A-z0-9]+\"       #print line that include letters from A-Z or a-z or 0-9\n",
    "pattern = r\"[A-z0-1]+\"       #print line that include letters from A-Z or a-z or 0-1\n",
    "\n",
    "l = re.findall(pattern, text)\n",
    "print(l)"
   ]
  },
  {
   "cell_type": "code",
   "execution_count": 34,
   "metadata": {},
   "outputs": [
    {
     "name": "stdout",
     "output_type": "stream",
     "text": [
      "['.', '7.2', '222.27', '222,772', '.', '277', '702']\n"
     ]
    }
   ],
   "source": [
    "text = \"\"\"We love our country Pakistan Zinda bad!\n",
    "pakistan one of. & the best contry in the world!\n",
    "Hello Wolrd 7.2 \n",
    "222.27\n",
    "222,772\n",
    "I'm living in pakistan\n",
    "Rs. 277\n",
    " aljdkjfajdfj asdlkj 702\n",
    "\"\"\"\n",
    "\n",
    "pattern = r\"[0-9.,]+\" #print line that includes number from 0to9 or dot or comma\n",
    "l = re.findall(pattern, text)\n",
    "print(l)"
   ]
  },
  {
   "cell_type": "code",
   "execution_count": 48,
   "metadata": {},
   "outputs": [
    {
     "name": "stdout",
     "output_type": "stream",
     "text": [
      "['01*12*2023', '01/12/2023', '01/12/2023', '24-12-2023', '28-12-2023']\n"
     ]
    }
   ],
   "source": [
    "text = \"\"\"\n",
    "purchase data 01*12*2023\n",
    "purchase data 01/12/2023\n",
    "purchase data 01/12/2023\n",
    "puchase date 24-12-2023\n",
    "puchase date 28-12-2023\n",
    "\"\"\"\n",
    "\n",
    "# pattern = r\"\\d{1,2}[*-/]\\d{1,2}[*-/]\\d{2,4}\"\n",
    "pattern = r\"\\d{1,2}[*-?]\\d{1,2}[*-?]\\d{2,4}\" #print different types of pattrens\n",
    "\n",
    "l = re.findall(pattern, text)\n",
    "print(l)"
   ]
  },
  {
   "cell_type": "markdown",
   "metadata": {},
   "source": [
    "## Word boundary concept:"
   ]
  },
  {
   "cell_type": "code",
   "execution_count": 52,
   "metadata": {},
   "outputs": [
    {
     "name": "stdout",
     "output_type": "stream",
     "text": [
      "['pakistan', 'pakanandan']\n"
     ]
    }
   ],
   "source": [
    "text = \"\"\"\n",
    "pakistan zinda bad\n",
    "pakab adkajdskfj asdjl\n",
    "paik hellow\n",
    "pakanandan kajsdf alsdjfa\n",
    "pak aksdjfkasd fas\n",
    "\"\"\"\n",
    "pattern = r\"\\bp.+n\\b\"\n",
    "l = re.findall(pattern, text, re.M) \n",
    "print(l)"
   ]
  },
  {
   "cell_type": "code",
   "execution_count": 53,
   "metadata": {},
   "outputs": [
    {
     "name": "stdout",
     "output_type": "stream",
     "text": [
      "['pak', 'pakab adkajdsk', 'pik']\n"
     ]
    }
   ],
   "source": [
    "text = \"\"\"\n",
    "pakistan zinda bad\n",
    "pakab adkajdskfj asdjl\n",
    "pik hellow\n",
    "\"\"\"\n",
    "\n",
    "pattern = \"p.+k\"\n",
    "l = re.findall(pattern, text, re.M) \n",
    "print(l)"
   ]
  }
 ],
 "metadata": {
  "kernelspec": {
   "display_name": "Python 3",
   "language": "python",
   "name": "python3"
  },
  "language_info": {
   "codemirror_mode": {
    "name": "ipython",
    "version": 3
   },
   "file_extension": ".py",
   "mimetype": "text/x-python",
   "name": "python",
   "nbconvert_exporter": "python",
   "pygments_lexer": "ipython3",
   "version": "3.11.4"
  },
  "orig_nbformat": 4
 },
 "nbformat": 4,
 "nbformat_minor": 2
}
