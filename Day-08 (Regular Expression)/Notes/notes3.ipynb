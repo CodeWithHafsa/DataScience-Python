{
 "cells": [
  {
   "cell_type": "markdown",
   "metadata": {},
   "source": [
    "### Introduction to the Python regex flags:"
   ]
  },
  {
   "cell_type": "markdown",
   "metadata": {},
   "source": [
    "1. The re.IGNORECASE flag:"
   ]
  },
  {
   "cell_type": "code",
   "execution_count": 1,
   "metadata": {},
   "outputs": [
    {
     "name": "stdout",
     "output_type": "stream",
     "text": [
      "['ython', 'is', 'awesome']\n"
     ]
    }
   ],
   "source": [
    "import re\n",
    "\n",
    "s = 'Python is awesome'\n",
    "pattern = '[a-z]+'\n",
    "l = re.findall(pattern, s)\n",
    "print(l)"
   ]
  },
  {
   "cell_type": "code",
   "execution_count": 2,
   "metadata": {},
   "outputs": [
    {
     "name": "stdout",
     "output_type": "stream",
     "text": [
      "['Python', 'is', 'awesome']\n"
     ]
    }
   ],
   "source": [
    "import re\n",
    "\n",
    "s = 'Python is awesome'\n",
    "pattern = '[a-z]+'\n",
    "l = re.findall(pattern, s, re.IGNORECASE)\n",
    "print(l)"
   ]
  },
  {
   "cell_type": "code",
   "execution_count": 3,
   "metadata": {},
   "outputs": [
    {
     "name": "stdout",
     "output_type": "stream",
     "text": [
      "['KELLy', 'kelly']\n"
     ]
    }
   ],
   "source": [
    "import re\n",
    "\n",
    "str = \"KELLy is a Python developer at a PYnative. kelly loves ML and AI\"\n",
    "\n",
    "# with re.I or re.IGNORECASE\n",
    "# result = re.findall(r\"kelly\", target_str, re.I)\n",
    "\n",
    "x = re.findall(r\"kelly\", str, re.IGNORECASE)\n",
    "print(x)"
   ]
  },
  {
   "cell_type": "markdown",
   "metadata": {},
   "source": [
    "2. The re.MULTILINE flag:"
   ]
  },
  {
   "cell_type": "code",
   "execution_count": 4,
   "metadata": {},
   "outputs": [
    {
     "name": "stdout",
     "output_type": "stream",
     "text": [
      "['Regex']\n"
     ]
    }
   ],
   "source": [
    "import re\n",
    "\n",
    "s = '''Regex \n",
    "Flags'''\n",
    "\n",
    "pattern ='^\\w+'\n",
    "l = re.findall(pattern,s)\n",
    "print(l)"
   ]
  },
  {
   "cell_type": "code",
   "execution_count": 5,
   "metadata": {},
   "outputs": [
    {
     "name": "stdout",
     "output_type": "stream",
     "text": [
      "['Regex', 'Flags']\n"
     ]
    }
   ],
   "source": [
    "import re\n",
    "\n",
    "s = '''Regex \n",
    "Flags'''\n",
    "\n",
    "pattern = '^\\w+'\n",
    "l = re.findall(pattern, s, re.MULTILINE)\n",
    "print(l)"
   ]
  },
  {
   "cell_type": "markdown",
   "metadata": {},
   "source": [
    "PRACTICE QUESTIONS:"
   ]
  },
  {
   "cell_type": "code",
   "execution_count": 9,
   "metadata": {},
   "outputs": [
    {
     "name": "stdout",
     "output_type": "stream",
     "text": [
      "['75', '25']\n"
     ]
    }
   ],
   "source": [
    "import re\n",
    "target_str = \"Joy lucky number is 75\\nTom lucky number is 25\"\n",
    "\n",
    "x = re.findall(r\"\\d{2}$\", target_str) #without re.M  #output:['25']\n",
    "x = re.findall(r\"\\d{2}$\", target_str, re.M) #with re.M \n",
    "print(x) "
   ]
  },
  {
   "cell_type": "code",
   "execution_count": 8,
   "metadata": {},
   "outputs": [
    {
     "name": "stdout",
     "output_type": "stream",
     "text": [
      "['Joy', 'Tom']\n"
     ]
    }
   ],
   "source": [
    "import re\n",
    "target_str = \"Joy lucky number is 75\\nTom lucky number is 25\"\n",
    "\n",
    "x = re.findall(r\"^\\w{3}\", target_str, re.MULTILINE)\n",
    "print(x)"
   ]
  },
  {
   "cell_type": "markdown",
   "metadata": {},
   "source": [
    "3. The re.DOTALL flag :"
   ]
  },
  {
   "cell_type": "code",
   "execution_count": 10,
   "metadata": {},
   "outputs": [
    {
     "name": "stdout",
     "output_type": "stream",
     "text": [
      "['Regex\\nFlags']\n"
     ]
    }
   ],
   "source": [
    "import re\n",
    "s = '''Regex\n",
    "Flags'''\n",
    "pattern = '.+'\n",
    "\n",
    "#l = re.findall(pattern, s) \n",
    "#with re.DOTALL\n",
    "#Output: ['Regex', 'Flags']\n",
    "\n",
    "l = re.findall(pattern, s, re.DOTALL) #with re.DOTALL\n",
    "#Output: ['Regex\\nFlags']\n",
    "\n",
    "print(l)"
   ]
  },
  {
   "cell_type": "markdown",
   "metadata": {},
   "source": [
    "4. The re.VERBOSE flag:"
   ]
  },
  {
   "cell_type": "code",
   "execution_count": 14,
   "metadata": {},
   "outputs": [
    {
     "name": "stdout",
     "output_type": "stream",
     "text": [
      "[('Python', '3')]\n"
     ]
    }
   ],
   "source": [
    "import re\n",
    "s = 'Python 3'\n",
    "\n",
    "pattern = r'''^(\\w+) # match one or more characters at the beginning of the string\n",
    "               \\s*   # match zero or more spaces\n",
    "              (\\d+)$ # match one or more digits at the end of the string'''\n",
    "\n",
    "l = re.findall(pattern, s, re.VERBOSE)\n",
    "print(l)"
   ]
  }
 ],
 "metadata": {
  "kernelspec": {
   "display_name": "Python 3",
   "language": "python",
   "name": "python3"
  },
  "language_info": {
   "codemirror_mode": {
    "name": "ipython",
    "version": 3
   },
   "file_extension": ".py",
   "mimetype": "text/x-python",
   "name": "python",
   "nbconvert_exporter": "python",
   "pygments_lexer": "ipython3",
   "version": "3.11.4"
  },
  "orig_nbformat": 4
 },
 "nbformat": 4,
 "nbformat_minor": 2
}
