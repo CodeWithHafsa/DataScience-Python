{
 "cells": [
  {
   "cell_type": "markdown",
   "metadata": {},
   "source": [
    "### Special Sequences"
   ]
  },
  {
   "cell_type": "markdown",
   "metadata": {},
   "source": [
    "1. \\A - Matches if the specified characters are at the start of a string."
   ]
  },
  {
   "cell_type": "code",
   "execution_count": 1,
   "metadata": {},
   "outputs": [
    {
     "name": "stdout",
     "output_type": "stream",
     "text": [
      "['The']\n",
      "Yes, there is a match!\n"
     ]
    }
   ],
   "source": [
    "import re\n",
    "\n",
    "txt = \"The rain in Spain\"\n",
    "\n",
    "#Check if the string starts with \"The\":\n",
    "x = re.findall(\"\\AThe\", txt)\n",
    "print(x)\n",
    "\n",
    "if x:\n",
    "  print(\"Yes, there is a match!\")\n",
    "else:\n",
    "  print(\"No match\")"
   ]
  },
  {
   "cell_type": "markdown",
   "metadata": {},
   "source": [
    "2. \\b - Matches if the specified characters are at the beginning or end of a word."
   ]
  },
  {
   "cell_type": "code",
   "execution_count": 8,
   "metadata": {},
   "outputs": [
    {
     "name": "stdout",
     "output_type": "stream",
     "text": [
      "[]\n",
      "No match\n"
     ]
    }
   ],
   "source": [
    "# When \\b - Use at the begining:\n",
    "\n",
    "import re\n",
    "txt = \"The rain in Spain\"\n",
    "\n",
    "#Check if \"ain\" is present at the beginning of a WORD:\n",
    "\n",
    "x = re.findall(r\"\\bain\", txt)\n",
    "\n",
    "print(x)\n",
    "\n",
    "if x:\n",
    "  print(\"Yes, there is at least one match!\")\n",
    "else:\n",
    "  print(\"No match\")"
   ]
  },
  {
   "cell_type": "code",
   "execution_count": 9,
   "metadata": {},
   "outputs": [
    {
     "name": "stdout",
     "output_type": "stream",
     "text": [
      "['ain', 'ain']\n",
      "Yes, there is at least one match!\n"
     ]
    }
   ],
   "source": [
    "# When \\b - Use at the end\n",
    "\n",
    "import re\n",
    "txt = \"The rain in Spain\"\n",
    "\n",
    "#Check if \"ain\" is present at the end of a WORD:\n",
    "x = re.findall(r\"ain\\b\", txt)\n",
    "print(x)\n",
    "\n",
    "if x:\n",
    "  print(\"Yes, there is at least one match!\")\n",
    "else:\n",
    "  print(\"No match\")"
   ]
  },
  {
   "cell_type": "code",
   "execution_count": 10,
   "metadata": {},
   "outputs": [
    {
     "name": "stdout",
     "output_type": "stream",
     "text": [
      "['ain', 'ain']\n",
      "Yes, there is at least one match!\n"
     ]
    }
   ],
   "source": [
    "# When \\B - Use at the beginning\n",
    "\n",
    "import re\n",
    "txt = \"The rain in Spain\"\n",
    "\n",
    "#Check if \"ain\" is present, but NOT at the beginning of a word:\n",
    "x = re.findall(r\"\\Bain\", txt)\n",
    "print(x)\n",
    "\n",
    "if x:\n",
    "  print(\"Yes, there is at least one match!\")\n",
    "else:\n",
    "  print(\"No match\")"
   ]
  },
  {
   "cell_type": "code",
   "execution_count": 11,
   "metadata": {},
   "outputs": [
    {
     "name": "stdout",
     "output_type": "stream",
     "text": [
      "[]\n",
      "No match\n"
     ]
    }
   ],
   "source": [
    "# When \\B - Use at the end:\n",
    "\n",
    "import re\n",
    "txt = \"The rain in Spain\"\n",
    "\n",
    "#Check if \"ain\" is present, but NOT at the end of a word:\n",
    "x = re.findall(r\"ain\\B\", txt)\n",
    "print(x)\n",
    "\n",
    "if x:\n",
    "  print(\"Yes, there is at least one match!\")\n",
    "else:\n",
    "  print(\"No match\")"
   ]
  },
  {
   "cell_type": "markdown",
   "metadata": {},
   "source": [
    "4. \\d - Matches any decimal digit. Equivalent to [0-9]"
   ]
  },
  {
   "cell_type": "code",
   "execution_count": 12,
   "metadata": {},
   "outputs": [
    {
     "name": "stdout",
     "output_type": "stream",
     "text": [
      "[]\n",
      "No match\n"
     ]
    }
   ],
   "source": [
    "import re\n",
    "txt = \"The rain in Spain\"\n",
    "\n",
    "#Check if the string contains any digits (numbers from 0-9):\n",
    "x = re.findall(\"\\d\", txt)\n",
    "print(x)\n",
    "\n",
    "if x:\n",
    "  print(\"Yes, there is at least one match!\")\n",
    "else:\n",
    "  print(\"No match\")"
   ]
  },
  {
   "cell_type": "code",
   "execution_count": 14,
   "metadata": {},
   "outputs": [
    {
     "name": "stdout",
     "output_type": "stream",
     "text": [
      "['1', '2', '3']\n"
     ]
    }
   ],
   "source": [
    "import re\n",
    "text = \"12abc3\"\n",
    "#Check if the string contains any digits (numbers from 0-9):\n",
    "x = re.findall(\"\\d\", text)\n",
    "print(x)"
   ]
  },
  {
   "cell_type": "markdown",
   "metadata": {},
   "source": [
    "5. \\D - Matches any non-decimal digit. Equivalent to [^0-9]"
   ]
  },
  {
   "cell_type": "code",
   "execution_count": 15,
   "metadata": {},
   "outputs": [
    {
     "name": "stdout",
     "output_type": "stream",
     "text": [
      "['R', 'a', 'i', 'n', ' ', 'i', 'n', ' ', 'S', 'p', 'a', 'i', 'n']\n",
      "Yes, there is at least one match!\n"
     ]
    }
   ],
   "source": [
    "import re\n",
    "txt = \"Rain in Spain\"\n",
    "\n",
    "#Return a match at every no-digit character:\n",
    "x = re.findall(\"\\D\", txt)\n",
    "print(x)\n",
    "\n",
    "if x:\n",
    "  print(\"Yes, there is at least one match!\")\n",
    "else:\n",
    "  print(\"No match\")"
   ]
  },
  {
   "cell_type": "code",
   "execution_count": 16,
   "metadata": {},
   "outputs": [
    {
     "name": "stdout",
     "output_type": "stream",
     "text": [
      "['a', 'b', \"'\"]\n"
     ]
    }
   ],
   "source": [
    "import re\n",
    "text = \"1ab34'50\"\n",
    "\n",
    "#Return a match at every no-digit character:\n",
    "x = re.findall(\"\\D\", text)\n",
    "print(x)"
   ]
  },
  {
   "cell_type": "markdown",
   "metadata": {},
   "source": [
    "6. \\s - Matches where a string contains any whitespace character. Equivalent to [ \\t\\n\\r\\f\\v]."
   ]
  },
  {
   "cell_type": "code",
   "execution_count": 17,
   "metadata": {},
   "outputs": [
    {
     "name": "stdout",
     "output_type": "stream",
     "text": [
      "[' ', ' ', ' ']\n",
      "Yes, there is at least one match!\n"
     ]
    }
   ],
   "source": [
    "import re\n",
    "txt = \"The rain in Spain\"\n",
    "\n",
    "#Return a match at every white-space character:\n",
    "x = re.findall(\"\\s\", txt)\n",
    "print(x)\n",
    "\n",
    "if x:\n",
    "  print(\"Yes, there is at least one match!\")\n",
    "else:\n",
    "  print(\"No match\")"
   ]
  },
  {
   "cell_type": "code",
   "execution_count": 18,
   "metadata": {},
   "outputs": [
    {
     "name": "stdout",
     "output_type": "stream",
     "text": [
      "[' ']\n"
     ]
    }
   ],
   "source": [
    "import re\n",
    "text = \"Python RegEx\"\n",
    "\n",
    "#Return a match at every white-space character:\n",
    "x = re.findall(\"\\s\", text)\n",
    "print(x)"
   ]
  },
  {
   "cell_type": "markdown",
   "metadata": {},
   "source": [
    "7. \\S - Matches where a string contains any non-whitespace character. Equivalent to [^ \\t\\n\\r\\f\\v]."
   ]
  },
  {
   "cell_type": "code",
   "execution_count": 19,
   "metadata": {},
   "outputs": [
    {
     "name": "stdout",
     "output_type": "stream",
     "text": [
      "['R', 'a', 'i', 'n', 'i', 'n', 'S', 'p', 'a', 'i', 'n']\n",
      "Yes, there is at least one match!\n"
     ]
    }
   ],
   "source": [
    "import re\n",
    "txt = \"Rain in Spain\"\n",
    "\n",
    "#Return a match at every NON white-space character:\n",
    "x = re.findall(\"\\S\", txt)\n",
    "print(x)\n",
    "\n",
    "if x:\n",
    "  print(\"Yes, there is at least one match!\")\n",
    "else:\n",
    "  print(\"No match\")"
   ]
  },
  {
   "cell_type": "code",
   "execution_count": 20,
   "metadata": {},
   "outputs": [
    {
     "name": "stdout",
     "output_type": "stream",
     "text": [
      "['a', 'b']\n"
     ]
    }
   ],
   "source": [
    "import re\n",
    "text = \"a b\"\n",
    "\n",
    "#Return a match at every NON white-space character:\n",
    "x = re.findall(\"\\S\", text)\n",
    "print(x)"
   ]
  },
  {
   "cell_type": "markdown",
   "metadata": {},
   "source": [
    "8. \\w - Matches any alphanumeric character (digits and alphabets). Equivalent to [a-zA-Z0-9_]. Underscore _ is also considered an alphanumeric character."
   ]
  },
  {
   "cell_type": "code",
   "execution_count": 21,
   "metadata": {},
   "outputs": [
    {
     "name": "stdout",
     "output_type": "stream",
     "text": [
      "['R', 'a', 'i', 'n', 'i', 'n', 'S', 'p', 'a', 'i', 'n']\n",
      "Yes, there is at least one match!\n"
     ]
    }
   ],
   "source": [
    "import re\n",
    "txt = \"Rain in Spain\"\n",
    "\n",
    "#Return a match at every word character (characters from a to Z, digits from 0-9, and the underscore _ character):\n",
    "x = re.findall(\"\\w\", txt)\n",
    "print(x)\n",
    "\n",
    "if x:\n",
    "  print(\"Yes, there is at least one match!\")\n",
    "else:\n",
    "  print(\"No match\")"
   ]
  },
  {
   "cell_type": "code",
   "execution_count": 24,
   "metadata": {},
   "outputs": [
    {
     "name": "stdout",
     "output_type": "stream",
     "text": [
      "['1', '2', 'c']\n"
     ]
    }
   ],
   "source": [
    "import re\n",
    "txt = \"12&': ;c \"\n",
    "\n",
    "#Return a match at every word character (characters from a to Z, digits from 0-9, and the underscore _ character):\n",
    "x = re.findall(\"\\w\", txt)\n",
    "print(x)"
   ]
  },
  {
   "cell_type": "markdown",
   "metadata": {},
   "source": [
    "9. \\W - Matches any non-alphanumeric character. Equivalent to [^a-zA-Z0-9_]"
   ]
  },
  {
   "cell_type": "code",
   "execution_count": 25,
   "metadata": {},
   "outputs": [
    {
     "name": "stdout",
     "output_type": "stream",
     "text": [
      "[' ', ' ', ' ']\n",
      "Yes, there is at least one match!\n"
     ]
    }
   ],
   "source": [
    "import re\n",
    "txt = \"The rain in Spain\"\n",
    "\n",
    "#Return a match at every NON word character (characters NOT between a and Z. Like \"!\", \"?\" white-space etc.):\n",
    "x = re.findall(\"\\W\", txt)\n",
    "print(x)\n",
    "\n",
    "if x:\n",
    "  print(\"Yes, there is at least one match!\")\n",
    "else:\n",
    "  print(\"No match\")"
   ]
  },
  {
   "cell_type": "markdown",
   "metadata": {},
   "source": [
    "10. \\Z - Matches if the specified characters are at the end of a string."
   ]
  },
  {
   "cell_type": "code",
   "execution_count": 29,
   "metadata": {},
   "outputs": [
    {
     "name": "stdout",
     "output_type": "stream",
     "text": [
      "['Spain']\n",
      "Yes, there is a match!\n"
     ]
    }
   ],
   "source": [
    "import re\n",
    "txt = \"The rain in Spain\"\n",
    "\n",
    "#Check if the string ends with \"Spain\":\n",
    "x = re.findall(\"Spain\\Z\", txt)\n",
    "print(x)\n",
    "\n",
    "if x:\n",
    "  print(\"Yes, there is a match!\")\n",
    "else:\n",
    "  print(\"No match\")"
   ]
  },
  {
   "cell_type": "code",
   "execution_count": 30,
   "metadata": {},
   "outputs": [
    {
     "name": "stdout",
     "output_type": "stream",
     "text": [
      "[]\n"
     ]
    }
   ],
   "source": [
    "import re\n",
    "txt = \"I like Python Programming\"\n",
    "\n",
    "#Check if the string ends with \"Python\":\n",
    "x = re.findall(\"Python\\Z\", txt)\n",
    "print(x)"
   ]
  }
 ],
 "metadata": {
  "kernelspec": {
   "display_name": "Python 3",
   "language": "python",
   "name": "python3"
  },
  "language_info": {
   "codemirror_mode": {
    "name": "ipython",
    "version": 3
   },
   "file_extension": ".py",
   "mimetype": "text/x-python",
   "name": "python",
   "nbconvert_exporter": "python",
   "pygments_lexer": "ipython3",
   "version": "3.11.4"
  },
  "orig_nbformat": 4
 },
 "nbformat": 4,
 "nbformat_minor": 2
}
