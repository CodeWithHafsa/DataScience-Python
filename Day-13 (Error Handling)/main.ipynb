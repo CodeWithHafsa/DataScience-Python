{
 "cells": [
  {
   "cell_type": "markdown",
   "metadata": {},
   "source": [
    "Error Handling:"
   ]
  },
  {
   "cell_type": "code",
   "execution_count": 3,
   "metadata": {},
   "outputs": [
    {
     "name": "stdout",
     "output_type": "stream",
     "text": [
      "line1\n",
      "line2\n",
      "Something is wrong!\n",
      "line4\n",
      "line5\n"
     ]
    }
   ],
   "source": [
    "print(\"line1\")\n",
    "print(\"line2\")\n",
    "\n",
    "num1 = 7\n",
    "num2 = 0\n",
    "\n",
    "try:\n",
    "    print(b)\n",
    "    print(num1 / num2)\n",
    "except (ZeroDivisionError, NameError):\n",
    "    print(\"Something is wrong!\")\n",
    "\n",
    "print(\"line4\")\n",
    "print(\"line5\")"
   ]
  },
  {
   "cell_type": "code",
   "execution_count": 5,
   "metadata": {},
   "outputs": [
    {
     "name": "stdout",
     "output_type": "stream",
     "text": [
      "line1\n",
      "line2\n",
      "Name Error\n",
      "Zerro Error\n",
      "hello\n",
      "Index Error\n",
      "world\n"
     ]
    }
   ],
   "source": [
    "print(\"line1\")\n",
    "print(\"line2\")\n",
    "\n",
    "num1 = 7\n",
    "num2 = 0\n",
    "b = 20\n",
    "l = [1,2,3,3,5,6,7]\n",
    "\n",
    "try:\n",
    "    print(d)# logic\n",
    "except (NameError):\n",
    "    print(\"Name Error\")\n",
    "      \n",
    "try:\n",
    "    print(num1 / num2)# right code logic\n",
    "except (ZeroDivisionError):\n",
    "    print(\"Zerro Error\")\n",
    "      \n",
    "print('hello')\n",
    "\n",
    "try:\n",
    "    print(l[20]) # logic3\n",
    "except (IndexError):\n",
    "    print(\"Index Error\")\n",
    "      \n",
    "print(\"world\")"
   ]
  },
  {
   "cell_type": "markdown",
   "metadata": {},
   "source": [
    "Dynamically Handling:"
   ]
  },
  {
   "cell_type": "code",
   "execution_count": 6,
   "metadata": {},
   "outputs": [
    {
     "name": "stdout",
     "output_type": "stream",
     "text": [
      "line1\n",
      "line2\n",
      "20\n",
      "3.5\n",
      "hello\n",
      "Something is wrong! list index out of range\n",
      "line4\n",
      "line5\n"
     ]
    }
   ],
   "source": [
    "print(\"line1\")\n",
    "print(\"line2\")\n",
    "\n",
    "num1 = 7\n",
    "num2 = 2\n",
    "b = 20\n",
    "l = [1,2,3,3,5,6,7]\n",
    "\n",
    "try:\n",
    "    print(b)# logic\n",
    "    print(num1 / num2)# right code logic\n",
    "    print('hello')\n",
    "    print(l[20]) # logic3\n",
    "    print(\"world\")\n",
    "except Exception as e:\n",
    "    print(f\"Something is wrong! {e}\")\n",
    "\n",
    "print(\"line4\")\n",
    "print(\"line5\")"
   ]
  }
 ],
 "metadata": {
  "kernelspec": {
   "display_name": "Python 3",
   "language": "python",
   "name": "python3"
  },
  "language_info": {
   "codemirror_mode": {
    "name": "ipython",
    "version": 3
   },
   "file_extension": ".py",
   "mimetype": "text/x-python",
   "name": "python",
   "nbconvert_exporter": "python",
   "pygments_lexer": "ipython3",
   "version": "3.11.5"
  },
  "orig_nbformat": 4
 },
 "nbformat": 4,
 "nbformat_minor": 2
}
