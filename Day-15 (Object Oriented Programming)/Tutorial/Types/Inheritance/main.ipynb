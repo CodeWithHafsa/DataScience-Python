{
 "cells": [
  {
   "cell_type": "markdown",
   "metadata": {},
   "source": [
    "Single Inheritance:"
   ]
  },
  {
   "cell_type": "code",
   "execution_count": 7,
   "metadata": {},
   "outputs": [
    {
     "name": "stdout",
     "output_type": "stream",
     "text": [
      "This function is in parent class.\n",
      "This function is in child class.\n"
     ]
    }
   ],
   "source": [
    "# single inheritance\n",
    " \n",
    "class Parent:  # Base class\n",
    "    def func1(self):\n",
    "        print(\"This function is in parent class.\")\n",
    "  \n",
    "class Child(Parent): # Derived class\n",
    "    def func2(self):\n",
    "        print(\"This function is in child class.\")\n",
    " \n",
    " \n",
    "# Driver's code\n",
    "object = Child()\n",
    "object.func1()\n",
    "object.func2()"
   ]
  },
  {
   "cell_type": "markdown",
   "metadata": {},
   "source": [
    "Multiple Inheritance: "
   ]
  },
  {
   "cell_type": "code",
   "execution_count": 5,
   "metadata": {},
   "outputs": [
    {
     "name": "stdout",
     "output_type": "stream",
     "text": [
      "Base1 method\n",
      "Base2 method\n",
      "Derived method\n"
     ]
    }
   ],
   "source": [
    "class Base1:\n",
    "    def method1(self):\n",
    "        print(\"Base1 method\")\n",
    "\n",
    "class Base2:\n",
    "    def method2(self):\n",
    "        print(\"Base2 method\")\n",
    "\n",
    "class Derived(Base1, Base2):\n",
    "    def method3(self):\n",
    "        print(\"Derived method\")\n",
    "\n",
    "d = Derived()\n",
    "d.method1()\n",
    "d.method2()\n",
    "d.method3()"
   ]
  },
  {
   "cell_type": "code",
   "execution_count": 6,
   "metadata": {},
   "outputs": [
    {
     "name": "stdout",
     "output_type": "stream",
     "text": [
      "Father : Ali\n",
      "Mother : Sara\n"
     ]
    }
   ],
   "source": [
    "# multiple inheritance\n",
    " \n",
    "class Mother: # Base class1\n",
    "    mothername = \"\"\n",
    " \n",
    "    def mother(self):\n",
    "        print(self.mothername)\n",
    "  \n",
    "class Father:  # Base class2\n",
    "    fathername = \"\"\n",
    " \n",
    "    def father(self):\n",
    "        print(self.fathername) \n",
    " \n",
    "class Son(Mother, Father): # Derived class\n",
    "    def parents(self):\n",
    "        print(\"Father :\", self.fathername)\n",
    "        print(\"Mother :\", self.mothername)\n",
    " \n",
    " \n",
    "# Driver's code\n",
    "s1 = Son()\n",
    "s1.fathername = \"Ali\"\n",
    "s1.mothername = \"Sara\"\n",
    "s1.parents()"
   ]
  },
  {
   "cell_type": "markdown",
   "metadata": {},
   "source": [
    "Multilevel Inheritance :"
   ]
  },
  {
   "cell_type": "code",
   "execution_count": 3,
   "metadata": {},
   "outputs": [
    {
     "name": "stdout",
     "output_type": "stream",
     "text": [
      "Ali\n",
      "Grandfather name : Ali\n",
      "Father name : Harry\n",
      "Son name : Prince\n"
     ]
    }
   ],
   "source": [
    "# multilevel inheritance\n",
    " \n",
    "class Grandfather: # Base class\n",
    "    def __init__(self, grandfathername):\n",
    "        self.grandfathername = grandfathername\n",
    "  \n",
    "class Father(Grandfather): # Intermediate class\n",
    "    def __init__(self, fathername, grandfathername):\n",
    "        self.fathername = fathername\n",
    " \n",
    "        # invoking constructor of Grandfather class\n",
    "        Grandfather.__init__(self, grandfathername)\n",
    "  \n",
    "class Son(Father): # Derived class\n",
    "    def __init__(self, sonname, fathername, grandfathername):\n",
    "        self.sonname = sonname\n",
    " \n",
    "        # invoking constructor of Father class\n",
    "        Father.__init__(self, fathername, grandfathername)\n",
    " \n",
    "    def print_name(self):\n",
    "        print('Grandfather name :', self.grandfathername)\n",
    "        print(\"Father name :\", self.fathername)\n",
    "        print(\"Son name :\", self.sonname)\n",
    " \n",
    "#  Driver code\n",
    "s1 = Son('Prince', 'Harry', 'Ali')\n",
    "print(s1.grandfathername)\n",
    "s1.print_name()"
   ]
  },
  {
   "cell_type": "code",
   "execution_count": 4,
   "metadata": {},
   "outputs": [
    {
     "name": "stdout",
     "output_type": "stream",
     "text": [
      "Employee Name: Khush\n",
      "Salary: 10000\n",
      "Designation: Test Engineer\n"
     ]
    }
   ],
   "source": [
    "class Employees():\n",
    "    def Name(self):\n",
    "        print(\"Employee Name: Khush\")\n",
    "\n",
    "class salary(Employees):\n",
    "    def Salary(self):\n",
    "        print(\"Salary: 10000\")\n",
    "\n",
    "class Designation(salary):\n",
    "    def desig(self):\n",
    "        print(\"Designation: Test Engineer\")\n",
    "\n",
    "call = Designation()\n",
    "call.Name()\n",
    "call.Salary()\n",
    "call.desig()"
   ]
  },
  {
   "cell_type": "markdown",
   "metadata": {},
   "source": [
    "Hierarchical inheritance"
   ]
  },
  {
   "cell_type": "code",
   "execution_count": 8,
   "metadata": {},
   "outputs": [
    {
     "name": "stdout",
     "output_type": "stream",
     "text": [
      "This function is in parent class.\n",
      "This function is in child 1.\n",
      "This function is in parent class.\n",
      "This function is in child 2.\n"
     ]
    }
   ],
   "source": [
    "# Hierarchical inheritance\n",
    "\n",
    "class Parent: # Base class\n",
    "    def func1(self):\n",
    "        print(\"This function is in parent class.\")\n",
    "  \n",
    "class Child1(Parent): # Derived class1\n",
    "    def func2(self):\n",
    "        print(\"This function is in child 1.\")\n",
    "  \n",
    "class Child2(Parent): # Derivied class2\n",
    "    def func3(self):\n",
    "        print(\"This function is in child 2.\")\n",
    " \n",
    " \n",
    "# Driver's code\n",
    "object1 = Child1()\n",
    "object1.func1()\n",
    "object1.func2()\n",
    "\n",
    "object2 = Child2()\n",
    "object2.func1()\n",
    "object2.func3()"
   ]
  },
  {
   "cell_type": "code",
   "execution_count": 9,
   "metadata": {},
   "outputs": [
    {
     "name": "stdout",
     "output_type": "stream",
     "text": [
      "Cat\n",
      "I'm an Animal\n",
      "I'm a cat Meow Meow!\n",
      "\n",
      "Dog\n",
      "I'm an Animal\n",
      "I'm a dog Brak Bark!\n"
     ]
    }
   ],
   "source": [
    "class Animal():\n",
    "    def animal(self):\n",
    "        print(\"I'm an Animal\")\n",
    "\n",
    "class Cat(Animal):\n",
    "    def cat(self):\n",
    "        print(\"I'm a cat Meow Meow!\")\n",
    "\n",
    "class Dog(Animal):\n",
    "    def dog(self):\n",
    "        print(\"I'm a dog Brak Bark!\")\n",
    "\n",
    "cat = Cat()\n",
    "dog = Dog()\n",
    "\n",
    "print(\"Cat\")\n",
    "cat.animal()\n",
    "cat.cat()\n",
    "\n",
    "print(\"\\nDog\")\n",
    "dog.animal()\n",
    "dog.dog()"
   ]
  },
  {
   "cell_type": "markdown",
   "metadata": {},
   "source": [
    "Hybrid Inheritance"
   ]
  },
  {
   "cell_type": "code",
   "execution_count": 10,
   "metadata": {},
   "outputs": [
    {
     "name": "stdout",
     "output_type": "stream",
     "text": [
      "This function is in school.\n",
      "This function is in student 1. \n"
     ]
    }
   ],
   "source": [
    "class School:\n",
    "    def func1(self):\n",
    "        print(\"This function is in school.\")\n",
    " \n",
    "class Student1(School):\n",
    "    def func2(self):\n",
    "        print(\"This function is in student 1. \")\n",
    " \n",
    "class Student2(School):\n",
    "    def func3(self):\n",
    "        print(\"This function is in student 2.\") \n",
    " \n",
    "class Student3(Student1, School):\n",
    "    def func4(self):\n",
    "        print(\"This function is in student 3.\")\n",
    " \n",
    "# Driver's code\n",
    "object = Student3()\n",
    "object.func1()\n",
    "object.func2()"
   ]
  },
  {
   "cell_type": "code",
   "execution_count": 11,
   "metadata": {},
   "outputs": [
    {
     "name": "stdout",
     "output_type": "stream",
     "text": [
      "Tom\n",
      "Hey! I'm Tom\n",
      "I'm John, your father\n",
      "I'm Baron, the father of your father\n",
      "\n",
      "Bob\n",
      "Hey! I'm Bob\n",
      "I'm John, your father\n",
      "I'm Baron, the father of your father\n",
      "\n",
      "Jenny\n",
      "Hey! I'm Jenny\n",
      "I'm John, your father\n",
      "I'm Baron, the father of your father\n"
     ]
    }
   ],
   "source": [
    "class GrandFather():\n",
    "    def grandFather(self):\n",
    "        print(\"I'm Baron, the father of your father\")\n",
    "\n",
    "class Father(GrandFather):\n",
    "    def father(self):\n",
    "        print(\"I'm John, your father\")\n",
    "\n",
    "class SonTom(Father):\n",
    "    def tom(self):\n",
    "        print(\"Hey! I'm Tom\")\n",
    "\n",
    "class SonBob(Father):\n",
    "    def bob(self):\n",
    "        print(\"Hey! I'm Bob\")\n",
    "\n",
    "class DaughterJenny(Father):\n",
    "    def jenny(self):\n",
    "        print(\"Hey! I'm Jenny\")\n",
    "\n",
    "tom = SonTom()\n",
    "bob = SonBob()\n",
    "jenny = DaughterJenny()\n",
    "\n",
    "print(\"Tom\")\n",
    "tom.tom()\n",
    "tom.father()\n",
    "tom.grandFather()\n",
    "\n",
    "print(\"\\nBob\")\n",
    "bob.bob()\n",
    "bob.father()\n",
    "bob.grandFather()\n",
    "\n",
    "print(\"\\nJenny\")\n",
    "jenny.jenny()\n",
    "jenny.father()\n",
    "jenny.grandFather()"
   ]
  }
 ],
 "metadata": {
  "kernelspec": {
   "display_name": "Python 3",
   "language": "python",
   "name": "python3"
  },
  "language_info": {
   "codemirror_mode": {
    "name": "ipython",
    "version": 3
   },
   "file_extension": ".py",
   "mimetype": "text/x-python",
   "name": "python",
   "nbconvert_exporter": "python",
   "pygments_lexer": "ipython3",
   "version": "3.11.5"
  },
  "orig_nbformat": 4
 },
 "nbformat": 4,
 "nbformat_minor": 2
}
