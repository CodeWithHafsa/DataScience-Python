{
 "cells": [
  {
   "cell_type": "code",
   "execution_count": 1,
   "metadata": {},
   "outputs": [
    {
     "name": "stdout",
     "output_type": "stream",
     "text": [
      "Meow\n",
      "I am a cat. My name is Kitty. I am 2.5 years old.\n",
      "Meow\n",
      "Bark\n",
      "I am a dog. My name is Fluffy. I am 4 years old.\n",
      "Bark\n"
     ]
    }
   ],
   "source": [
    "class Cat:\n",
    "    def __init__(self, name, age):\n",
    "        self.name = name\n",
    "        self.age = age\n",
    "\n",
    "    def info(self):\n",
    "        print(f\"I am a cat. My name is {self.name}. I am {self.age} years old.\")\n",
    "\n",
    "    def make_sound(self):\n",
    "        print(\"Meow\")\n",
    "\n",
    "class Dog:\n",
    "    def __init__(self, name, age):\n",
    "        self.name = name\n",
    "        self.age = age\n",
    "\n",
    "    def info(self):\n",
    "        print(f\"I am a dog. My name is {self.name}. I am {self.age} years old.\")\n",
    "\n",
    "    def make_sound(self):\n",
    "        print(\"Bark\")\n",
    "\n",
    "cat1 = Cat(\"Kitty\", 2.5)\n",
    "dog1 = Dog(\"Fluffy\", 4)\n",
    "\n",
    "for animal in (cat1, dog1):\n",
    "    animal.make_sound()\n",
    "    animal.info()\n",
    "    animal.make_sound()"
   ]
  },
  {
   "cell_type": "markdown",
   "metadata": {},
   "source": [
    "#### Overloading Polymorphism:"
   ]
  },
  {
   "cell_type": "code",
   "execution_count": 1,
   "metadata": {},
   "outputs": [
    {
     "name": "stdout",
     "output_type": "stream",
     "text": [
      "Similar to Method Overloading\n",
      "\n",
      "Single Argument    -> Sum :  10\n",
      "Two Arguments      -> Sum :  32\n",
      "Multiple Arguments -> Sum :  15\n"
     ]
    }
   ],
   "source": [
    "# Function to take multiple arguments\n",
    "def sum_number(*args):\n",
    "    # variable to store the sum of numbers    \n",
    "    result = 0\n",
    "    \n",
    "    # accessing the arguments\n",
    "    for num in args:\n",
    "        result += num\n",
    "    \n",
    "    # Output\n",
    "    print(\"Sum : \", result)\n",
    "\n",
    "    \n",
    "# Driver Code\n",
    "if(__name__ == \"__main__\"):\n",
    "    print(\"Similar to Method Overloading\\n\")\n",
    "    print(\"Single Argument    ->\", end = \" \")\n",
    "    sum_number(10)\n",
    "\n",
    "    print(\"Two Arguments      ->\", end = \" \")\n",
    "    sum_number(30, 2)\n",
    "\n",
    "    print(\"Multiple Arguments ->\", end = \" \")\n",
    "    sum_number(1, 2, 3, 4, 5)"
   ]
  },
  {
   "cell_type": "code",
   "execution_count": 2,
   "metadata": {},
   "outputs": [
    {
     "name": "stdout",
     "output_type": "stream",
     "text": [
      "11\n",
      "Hi Geeks\n"
     ]
    }
   ],
   "source": [
    "# Function to take multiple arguments\n",
    "def add(datatype, *args):\n",
    "   \n",
    "    # if datatype is int\n",
    "    # initialize answer as 0\n",
    "    if datatype =='int':\n",
    "        answer = 0\n",
    "           \n",
    "    # if datatype is str\n",
    "    # initialize answer as ''\n",
    "    if datatype =='str':\n",
    "        answer =''\n",
    "   \n",
    "    # Traverse through the arguments\n",
    "    for x in args:\n",
    "   \n",
    "        # This will do addition\n",
    "        #  if the arguments are int. Or concatenation \n",
    "        # if the arguments are str\n",
    "        answer = answer + x\n",
    "   \n",
    "    print(answer)\n",
    "   \n",
    "# Integer\n",
    "add('int', 5, 6)\n",
    "   \n",
    "# String\n",
    "add('str', 'Hi ', 'Geeks')"
   ]
  },
  {
   "cell_type": "markdown",
   "metadata": {},
   "source": [
    "#### Overriding Polymorphism:"
   ]
  },
  {
   "cell_type": "code",
   "execution_count": 3,
   "metadata": {},
   "outputs": [
    {
     "name": "stdout",
     "output_type": "stream",
     "text": [
      "Method Overriding\n",
      "\n",
      "Redefined function of class A in class B\n",
      "First function of class A\n"
     ]
    }
   ],
   "source": [
    "# Parent Class\n",
    "class A:\n",
    "    def first(self):\n",
    "        print(\"First function of class A\")\n",
    "\n",
    "    def second(self):\n",
    "        print('Second function of class A')\n",
    "\n",
    "# Derived Class\n",
    "class B(A):\n",
    "    # Overriden Function\n",
    "    def first(self):\n",
    "        print(\"Redefined function of class A in class B\")\n",
    "\n",
    "    def display(self):\n",
    "        print('Display Function of Child class')\n",
    "\n",
    "# Driver Code\n",
    "if(__name__ == \"__main__\"):\n",
    "    # Creating child class object\n",
    "    child_obj = B()\n",
    "    \n",
    "    # Calling the overridden method\n",
    "    print(\"Method Overriding\\n\")\n",
    "    child_obj.first()\n",
    "    \n",
    "    # Calling the original Parent class method\n",
    "    # Using parent class object.\n",
    "    A().first()"
   ]
  },
  {
   "cell_type": "code",
   "execution_count": 4,
   "metadata": {},
   "outputs": [
    {
     "name": "stdout",
     "output_type": "stream",
     "text": [
      "Modified feature_1 of class A by class B\n"
     ]
    }
   ],
   "source": [
    "class A:\n",
    " \n",
    "    def fun1(self):\n",
    "        print('feature_1 of class A')\n",
    "         \n",
    "    def fun2(self):\n",
    "        print('feature_2 of class A')\n",
    "     \n",
    " \n",
    "class B(A):\n",
    "     \n",
    "    # Modified function that is\n",
    "    # already exist in class A\n",
    "    def fun1(self):\n",
    "        print('Modified feature_1 of class A by class B')   \n",
    "         \n",
    "    def fun3(self):\n",
    "        print('feature_3 of class B')\n",
    "         \n",
    " \n",
    "# Create instance\n",
    "obj = B()\n",
    "     \n",
    "# Call the override function\n",
    "obj.fun1()"
   ]
  }
 ],
 "metadata": {
  "kernelspec": {
   "display_name": "Python 3",
   "language": "python",
   "name": "python3"
  },
  "language_info": {
   "codemirror_mode": {
    "name": "ipython",
    "version": 3
   },
   "file_extension": ".py",
   "mimetype": "text/x-python",
   "name": "python",
   "nbconvert_exporter": "python",
   "pygments_lexer": "ipython3",
   "version": "3.11.5"
  },
  "orig_nbformat": 4
 },
 "nbformat": 4,
 "nbformat_minor": 2
}
