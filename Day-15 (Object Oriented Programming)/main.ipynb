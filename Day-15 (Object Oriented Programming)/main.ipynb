{
 "cells": [
  {
   "cell_type": "code",
   "execution_count": 3,
   "metadata": {},
   "outputs": [
    {
     "name": "stdout",
     "output_type": "stream",
     "text": [
      "I'm constructor function\n",
      "Admission has been done\n",
      "Fee has been submitted\n"
     ]
    }
   ],
   "source": [
    "class Student():\n",
    "    def __init__(self):   # constructor/intializer \n",
    "        print(\"I'm constructor function\")  #init() use to call function itself\n",
    "        \n",
    "    def admission(self): #method\n",
    "        print(\"Admission has been done\")\n",
    "        \n",
    "    def pay_fee(self):#method\n",
    "        print(\"Fee has been submitted\")\n",
    "        \n",
    "        \n",
    "kamran = Student() #object\n",
    "\n",
    "# calling a class function/method\n",
    "kamran.admission()\n",
    "kamran.pay_fee()"
   ]
  },
  {
   "cell_type": "code",
   "execution_count": 4,
   "metadata": {},
   "outputs": [
    {
     "name": "stdout",
     "output_type": "stream",
     "text": [
      "\n",
      "        Student Name: None\n",
      "        Student Father's Name None\n",
      "        Roll no: None\n",
      "        \n",
      "\n",
      "        Student Name: None\n",
      "        Student Father's Name None\n",
      "        Roll no: None\n",
      "        \n"
     ]
    }
   ],
   "source": [
    "class Student():\n",
    "    def __init__(self):  # constructor/intializer \n",
    "        self.name = None # attribute\n",
    "        self.father_name = None # attribute\n",
    "        self.age = None # attribute\n",
    "        self.roll_no = None# attribute\n",
    "        \n",
    "    def admision(self):\n",
    "        print(\"Admision completed\")\n",
    "    \n",
    "    def student_details(self):\n",
    "        data = f\"\"\"\n",
    "        Student Name: {self.name}\n",
    "        Student Father's Name {self.father_name}\n",
    "        Roll no: {self.roll_no}\n",
    "        \"\"\"\n",
    "        print(data)\n",
    "        \n",
    "s1 = Student()\n",
    "s1.student_details()\n",
    "\n",
    "s2 = Student()\n",
    "s2.student_details()"
   ]
  }
 ],
 "metadata": {
  "kernelspec": {
   "display_name": "Python 3",
   "language": "python",
   "name": "python3"
  },
  "language_info": {
   "codemirror_mode": {
    "name": "ipython",
    "version": 3
   },
   "file_extension": ".py",
   "mimetype": "text/x-python",
   "name": "python",
   "nbconvert_exporter": "python",
   "pygments_lexer": "ipython3",
   "version": "3.11.5"
  },
  "orig_nbformat": 4
 },
 "nbformat": 4,
 "nbformat_minor": 2
}
