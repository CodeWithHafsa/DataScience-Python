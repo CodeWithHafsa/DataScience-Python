{
 "cells": [
  {
   "cell_type": "markdown",
   "metadata": {},
   "source": [
    "## List"
   ]
  },
  {
   "cell_type": "code",
   "execution_count": 1,
   "metadata": {},
   "outputs": [
    {
     "data": {
      "text/plain": [
       "'Muhammad Qasim'"
      ]
     },
     "execution_count": 1,
     "metadata": {},
     "output_type": "execute_result"
    }
   ],
   "source": [
    "#        0                1             2  index\n",
    "a = ['Muhammad Aslam',\"Muhammad Qasim\",30] # value,element\n",
    "a[1] #calling using index number"
   ]
  },
  {
   "cell_type": "code",
   "execution_count": 2,
   "metadata": {},
   "outputs": [
    {
     "name": "stdout",
     "output_type": "stream",
     "text": [
      "['Muhammad Aslam', 'Qasim', 30]\n"
     ]
    }
   ],
   "source": [
    "a[1] = 'Qasim' #update/calling\n",
    "print(a)"
   ]
  },
  {
   "cell_type": "markdown",
   "metadata": {},
   "source": [
    "## Tuple:"
   ]
  },
  {
   "cell_type": "code",
   "execution_count": 3,
   "metadata": {},
   "outputs": [
    {
     "name": "stdout",
     "output_type": "stream",
     "text": [
      "('X', 'Y', 'Z')\n"
     ]
    }
   ],
   "source": [
    "#     0   1   2\n",
    "a = ('X','Y','Z')\n",
    "#.   -3  -2  -1\n",
    "print(a)"
   ]
  },
  {
   "cell_type": "code",
   "execution_count": 7,
   "metadata": {},
   "outputs": [
    {
     "name": "stdout",
     "output_type": "stream",
     "text": [
      "X\n",
      "Y\n",
      "Z\n"
     ]
    },
    {
     "data": {
      "text/plain": [
       "'X'"
      ]
     },
     "execution_count": 7,
     "metadata": {},
     "output_type": "execute_result"
    }
   ],
   "source": [
    "# Tuple using loop\n",
    "a = ('X','Y','Z')\n",
    "for i in a:\n",
    "    print(i)\n",
    "\n",
    "# a[0] #positive index\n",
    "# a[-1] #negative index"
   ]
  },
  {
   "cell_type": "code",
   "execution_count": 8,
   "metadata": {},
   "outputs": [
    {
     "name": "stdout",
     "output_type": "stream",
     "text": [
      "('X', 'Y', 'Z')\n",
      "2135820734976\n",
      "('Pakistan', 'Y', 'Z')\n",
      "2135819576384\n"
     ]
    }
   ],
   "source": [
    "#     0  1  2\n",
    "a = ('X','Y','Z')\n",
    "#.   -3  -2 -1\n",
    "print(a)\n",
    "print(id(a))\n",
    "\n",
    "a = ('Pakistan','Y',\"Z\") # re assign we change whole variable\n",
    "print(a)\n",
    "print(id(a))"
   ]
  },
  {
   "cell_type": "code",
   "execution_count": 9,
   "metadata": {},
   "outputs": [
    {
     "data": {
      "text/plain": [
       "['count', 'index']"
      ]
     },
     "execution_count": 9,
     "metadata": {},
     "output_type": "execute_result"
    }
   ],
   "source": [
    "# To know tuple methods()\n",
    "a = ('Pakistan','Y',\"Z\") \n",
    "[i for i in dir(a) if \"__\" not in i]"
   ]
  },
  {
   "cell_type": "markdown",
   "metadata": {},
   "source": [
    "### Tuple Methods:"
   ]
  },
  {
   "cell_type": "code",
   "execution_count": 11,
   "metadata": {},
   "outputs": [
    {
     "name": "stdout",
     "output_type": "stream",
     "text": [
      "2\n"
     ]
    }
   ],
   "source": [
    "# count()\n",
    "thistuple = (1, 3, 7, 8, 7, 5, 4, 6, 8, 5)\n",
    "x = thistuple.count(5)\n",
    "print(x)"
   ]
  },
  {
   "cell_type": "code",
   "execution_count": 12,
   "metadata": {},
   "outputs": [
    {
     "name": "stdout",
     "output_type": "stream",
     "text": [
      "3\n"
     ]
    }
   ],
   "source": [
    "# index()\n",
    "thistuple = (1, 3, 7, 8, 7, 5, 4, 6, 8, 5)\n",
    "x = thistuple.index(8)\n",
    "print(x)"
   ]
  },
  {
   "cell_type": "markdown",
   "metadata": {},
   "source": [
    "## Set:"
   ]
  },
  {
   "cell_type": "code",
   "execution_count": 13,
   "metadata": {},
   "outputs": [
    {
     "name": "stdout",
     "output_type": "stream",
     "text": [
      "{1, 2, 3, 4, 7, 8}\n"
     ]
    }
   ],
   "source": [
    "a = {1,2,3,4,3,7,8,1,1} # set/unique\n",
    "print(a)"
   ]
  },
  {
   "cell_type": "code",
   "execution_count": 15,
   "metadata": {},
   "outputs": [
    {
     "name": "stdout",
     "output_type": "stream",
     "text": [
      "{'c', 1, 2, 3, 20, 'a', 'b'}\n"
     ]
    }
   ],
   "source": [
    "a = {'c',1,2,3,3,3, 'a',20,'b','c'}\n",
    "print(a)"
   ]
  },
  {
   "cell_type": "code",
   "execution_count": 18,
   "metadata": {},
   "outputs": [
    {
     "name": "stdout",
     "output_type": "stream",
     "text": [
      "{'d', 33, 4, 'a'}\n"
     ]
    }
   ],
   "source": [
    "a={'d',4,33,'a','a'}\n",
    "print(a)"
   ]
  },
  {
   "cell_type": "code",
   "execution_count": 17,
   "metadata": {},
   "outputs": [
    {
     "name": "stdout",
     "output_type": "stream",
     "text": [
      "['AI', 'AI', 'DS', 'DS'] <class 'list'>\n",
      "{'DS', 'AI'} <class 'set'>\n",
      "['DS', 'AI'] <class 'list'>\n",
      "['AI', 'DS'] <class 'list'>\n"
     ]
    }
   ],
   "source": [
    "# To convert set into list - because we cannot perform opeartions on set\n",
    "course = ['AI',\"AI\",\"DS\",\"DS\"] # list\n",
    "print(course, type(course))\n",
    "\n",
    "course = set(course) # set converted\n",
    "print(course, type(course))\n",
    "\n",
    "course = list(course)\n",
    "print(course, type(course)) # converted into list\n",
    "\n",
    "course.reverse() # reverse order\n",
    "print(course, type(course))"
   ]
  },
  {
   "cell_type": "markdown",
   "metadata": {},
   "source": [
    "## Quiz Question"
   ]
  },
  {
   "cell_type": "code",
   "execution_count": 19,
   "metadata": {},
   "outputs": [
    {
     "name": "stdout",
     "output_type": "stream",
     "text": [
      "{1, 2, 3, 'x', 'a', 'b'} <class 'set'>\n",
      "[1, 2, 3, 'x', 'a', 'b'] <class 'list'>\n",
      "[1, 2, 3, 'x', 'a', 'b']\n",
      "['a', 'b', 'x']\n",
      "[1, 2, 3]\n",
      "['a', 'b', 'x', 1, 2, 3]\n"
     ]
    }
   ],
   "source": [
    "a = [1,2,2,2,2,3, 'a','b','x'] # list\n",
    "a = set(a) # set/unique #convert into unique values\n",
    "print(a, type(a)) #to check type of a\n",
    "\n",
    "#convert into list for apply any function on it\n",
    "a = list(a)# now again change in list\n",
    "print(a, type(a)) #to check type of a\n",
    "\n",
    "a_string = [i for i in a] # all element\n",
    "print(a_string)\n",
    "\n",
    "a_string = [i for i in a if isinstance(i,str)] # all string\n",
    "a_string = sorted(a_string)\n",
    "print(a_string)\n",
    "\n",
    "a_intiger = [i for i in a if isinstance(i,int)] # all int\n",
    "a_intiger = sorted(a_intiger)\n",
    "print(a_intiger)\n",
    "\n",
    "a = a_string + a_intiger\n",
    "print(a)"
   ]
  },
  {
   "cell_type": "markdown",
   "metadata": {},
   "source": [
    "## Dictionary:"
   ]
  },
  {
   "cell_type": "code",
   "execution_count": 1,
   "metadata": {},
   "outputs": [
    {
     "name": "stdout",
     "output_type": "stream",
     "text": [
      "{'fname': 'Muhammad Aslam', 'name': 'Muhammad Qasim', 'age': 30}\n"
     ]
    },
    {
     "data": {
      "text/plain": [
       "'Muhammad Qasim'"
      ]
     },
     "execution_count": 1,
     "metadata": {},
     "output_type": "execute_result"
    }
   ],
   "source": [
    "a = {\n",
    "    'fname':'Muhammad Aslam', \n",
    "     'name':\"Muhammad Qasim\",\n",
    "     'age':30\n",
    "    } \n",
    "\n",
    "print(a) \n",
    "a['name']"
   ]
  },
  {
   "cell_type": "code",
   "execution_count": 14,
   "metadata": {},
   "outputs": [
    {
     "name": "stdout",
     "output_type": "stream",
     "text": [
      "{'a': 'Pakistan', 20: 'Hello world'}\n",
      "Hello world\n",
      "Pakistan\n"
     ]
    }
   ],
   "source": [
    "d = {\n",
    "    'a':\"Pakistan\",\n",
    "    20: \"Hello world\"\n",
    "    }\n",
    "print(d)\n",
    "print(d[20])\n",
    "print(d['a'])"
   ]
  },
  {
   "cell_type": "code",
   "execution_count": 2,
   "metadata": {},
   "outputs": [
    {
     "name": "stdout",
     "output_type": "stream",
     "text": [
      "{'roll_no': [1, 2, 3, 4]}\n",
      "[1, 2, 3, 4]\n",
      "3\n"
     ]
    }
   ],
   "source": [
    "data = {\"roll_no\": [1, 2, 3, 4]}\n",
    "print(data) #dictionary\n",
    "print(data['roll_no']) #list\n",
    "print(data ['roll_no'][2]) #integar"
   ]
  },
  {
   "cell_type": "code",
   "execution_count": 3,
   "metadata": {},
   "outputs": [
    {
     "name": "stdout",
     "output_type": "stream",
     "text": [
      "[1, 2, 3, {'d': '1', 'name': 'Ali'}]\n",
      "{'d': '1', 'name': 'Ali'}\n",
      "Ali\n"
     ]
    }
   ],
   "source": [
    "#    0  1  2              3\n",
    "a = [1, 2, 3, {'d': '1', 'name': 'Ali'}] #integar and dictionary\n",
    "print(a)\n",
    "print(a[-1]) #indexing\n",
    "print(a[-1]['name']) #indexing"
   ]
  },
  {
   "cell_type": "markdown",
   "metadata": {},
   "source": [
    "## Use of isinstance:"
   ]
  },
  {
   "cell_type": "code",
   "execution_count": 4,
   "metadata": {},
   "outputs": [
    {
     "name": "stdout",
     "output_type": "stream",
     "text": [
      "[1, 2, 3, {'d': '1', 'name': 'Ali'}]\n",
      "<class 'list'>\n"
     ]
    },
    {
     "data": {
      "text/plain": [
       "True"
      ]
     },
     "execution_count": 4,
     "metadata": {},
     "output_type": "execute_result"
    }
   ],
   "source": [
    "#    0  1  2              3\n",
    "a = [1, 2, 3, {'d': '1', 'name': 'Ali'}] #integar and dictionary\n",
    "print(a)\n",
    "print(type(a))\n",
    "isinstance(a, list) # match one data type with your datatype"
   ]
  },
  {
   "cell_type": "code",
   "execution_count": 21,
   "metadata": {},
   "outputs": [
    {
     "name": "stdout",
     "output_type": "stream",
     "text": [
      "False\n",
      "True\n",
      "False\n",
      "False\n",
      "False\n",
      "False\n",
      "False\n",
      "False\n"
     ]
    }
   ],
   "source": [
    "i = [1,23]\n",
    "\n",
    "print(isinstance(i,str))\n",
    "print(isinstance(i,list))\n",
    "# print(isinstance(i,tuple))\n",
    "print(isinstance(i,set))\n",
    "print(isinstance(i,dict))\n",
    "print(isinstance(i,float))\n",
    "print(isinstance(i,bool))\n",
    "print(isinstance(i,int))\n",
    "print(isinstance(i,complex))"
   ]
  },
  {
   "cell_type": "code",
   "execution_count": 22,
   "metadata": {},
   "outputs": [
    {
     "name": "stdout",
     "output_type": "stream",
     "text": [
      "True\n"
     ]
    }
   ],
   "source": [
    "i = \"Python\"\n",
    "print(isinstance(i,str))"
   ]
  }
 ],
 "metadata": {
  "kernelspec": {
   "display_name": "Python 3",
   "language": "python",
   "name": "python3"
  },
  "language_info": {
   "codemirror_mode": {
    "name": "ipython",
    "version": 3
   },
   "file_extension": ".py",
   "mimetype": "text/x-python",
   "name": "python",
   "nbconvert_exporter": "python",
   "pygments_lexer": "ipython3",
   "version": "3.11.4"
  },
  "orig_nbformat": 4
 },
 "nbformat": 4,
 "nbformat_minor": 2
}
