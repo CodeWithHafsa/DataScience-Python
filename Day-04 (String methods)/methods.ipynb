{
 "cells": [
  {
   "cell_type": "markdown",
   "id": "8d8fb6c6",
   "metadata": {},
   "source": [
    "# String Methods"
   ]
  },
  {
   "cell_type": "markdown",
   "id": "28f0a44e",
   "metadata": {},
   "source": [
    "1. Capitalize"
   ]
  },
  {
   "cell_type": "code",
   "execution_count": 1,
   "id": "8eb38e0e",
   "metadata": {},
   "outputs": [
    {
     "name": "stdout",
     "output_type": "stream",
     "text": [
      "Python language!\n",
      "introduction to python.\n"
     ]
    }
   ],
   "source": [
    "# capitalize()\n",
    "text = \"\"\"pyThon LAnguAge!\n",
    "IntroduCtion to Python.\"\"\"\n",
    "print(text.capitalize()) #turns only the first character of the string to uppercase."
   ]
  },
  {
   "cell_type": "markdown",
   "id": "ed4676ea",
   "metadata": {},
   "source": [
    "2. Casefold()"
   ]
  },
  {
   "cell_type": "code",
   "execution_count": 2,
   "id": "d616d749",
   "metadata": {},
   "outputs": [
    {
     "name": "stdout",
     "output_type": "stream",
     "text": [
      "python language!\n",
      "introduction to python.\n"
     ]
    }
   ],
   "source": [
    "# casefold()\n",
    "text = \"\"\"pyThon LAnguAge!\n",
    "IntroduCtion to Python.\"\"\"\n",
    "print(text.casefold()) #converts string into lower case."
   ]
  },
  {
   "cell_type": "markdown",
   "id": "f229f678",
   "metadata": {},
   "source": [
    "3. Center()"
   ]
  },
  {
   "cell_type": "code",
   "execution_count": 4,
   "id": "9bcc007a",
   "metadata": {},
   "outputs": [
    {
     "data": {
      "text/plain": [
       "'    Hafsa Imtiaz    '"
      ]
     },
     "execution_count": 4,
     "metadata": {},
     "output_type": "execute_result"
    }
   ],
   "source": [
    "# Center()\n",
    "name = \"Hafsa Imtiaz\"\n",
    "name.center(20) #center string - overall len=20."
   ]
  },
  {
   "cell_type": "markdown",
   "id": "f658c550",
   "metadata": {},
   "source": [
    "len()"
   ]
  },
  {
   "cell_type": "code",
   "execution_count": 5,
   "id": "f4a9d4a1",
   "metadata": {},
   "outputs": [
    {
     "name": "stdout",
     "output_type": "stream",
     "text": [
      "12\n"
     ]
    }
   ],
   "source": [
    "# len()\n",
    "name = \"Hafsa Imtiaz\"\n",
    "print(len(name)) #method #global len function\n",
    "#or #print(name._len_())"
   ]
  },
  {
   "cell_type": "markdown",
   "id": "365004c7",
   "metadata": {},
   "source": [
    "4. Count()"
   ]
  },
  {
   "cell_type": "code",
   "execution_count": 6,
   "id": "5fb1986f",
   "metadata": {},
   "outputs": [
    {
     "data": {
      "text/plain": [
       "3"
      ]
     },
     "execution_count": 6,
     "metadata": {},
     "output_type": "execute_result"
    }
   ],
   "source": [
    "# count()\n",
    "name = \"Hafsa Imtiaz\" #Example#1\n",
    "name.count(\"a\") #it counts that how many times a present in a string."
   ]
  },
  {
   "cell_type": "code",
   "execution_count": 7,
   "id": "54d5bd0d",
   "metadata": {},
   "outputs": [
    {
     "data": {
      "text/plain": [
       "1"
      ]
     },
     "execution_count": 7,
     "metadata": {},
     "output_type": "execute_result"
    }
   ],
   "source": [
    "# count()\n",
    "name = \"Muhammad Qasim is teaching AI in NED.\" #Example#2\n",
    "name.count(\"Qasim\") "
   ]
  },
  {
   "cell_type": "code",
   "execution_count": 8,
   "id": "6da6a597",
   "metadata": {},
   "outputs": [
    {
     "name": "stdout",
     "output_type": "stream",
     "text": [
      "6\n"
     ]
    }
   ],
   "source": [
    "# count()\n",
    "name = \"Muhammad Qasim\" #Example#3\n",
    "print(name.count(\"m\") + name.count(\"a\"))"
   ]
  },
  {
   "cell_type": "code",
   "execution_count": 9,
   "id": "e959b2f1",
   "metadata": {},
   "outputs": [
    {
     "name": "stdout",
     "output_type": "stream",
     "text": [
      "7\n"
     ]
    }
   ],
   "source": [
    "# count()\n",
    "name = \"Muhammad Qasim\" #Example#4\n",
    "print(name.count(\"m\") + name.count(\"a\") + name.count(\"M\") + name.count(\"A\"))"
   ]
  },
  {
   "cell_type": "code",
   "execution_count": 10,
   "id": "6c05c7c8",
   "metadata": {},
   "outputs": [
    {
     "name": "stdout",
     "output_type": "stream",
     "text": [
      "7\n"
     ]
    }
   ],
   "source": [
    "# count()\n",
    "name = \"Muhammad Qasim\" #Example#5\n",
    "name = name.casefold() #it converts all letters into small alphabets.\n",
    "print(name.count(\"m\") + name.count(\"a\")) #count m and a"
   ]
  },
  {
   "cell_type": "markdown",
   "id": "5d2b6a7b",
   "metadata": {},
   "source": [
    "4. Encode()"
   ]
  },
  {
   "cell_type": "code",
   "execution_count": 13,
   "id": "c69d0300-13ee-4039-90a6-3441908bd42c",
   "metadata": {},
   "outputs": [
    {
     "name": "stdout",
     "output_type": "stream",
     "text": [
      "b'My name is St\\xc3\\xa5le'\n"
     ]
    }
   ],
   "source": [
    "# encode()  #Example#1\n",
    "\n",
    "txt = \"My name is Ståle\"\n",
    "x = txt.encode() #encode acccording to utf-8 standards\n",
    "print(x)"
   ]
  },
  {
   "cell_type": "code",
   "execution_count": 14,
   "id": "3a48fea8",
   "metadata": {},
   "outputs": [
    {
     "name": "stdout",
     "output_type": "stream",
     "text": [
      "b'My name is St\\\\xe5le'\n",
      "b'My name is Stle'\n",
      "b'My name is St\\\\N{LATIN SMALL LETTER A WITH RING ABOVE}le'\n",
      "b'My name is St?le'\n",
      "b'My name is St&#229;le'\n"
     ]
    }
   ],
   "source": [
    "# encode()  #Example#2\n",
    "txt = \"My name is Ståle\"\n",
    "\n",
    "print(txt.encode(encoding=\"ascii\",errors=\"backslashreplace\"))\n",
    "print(txt.encode(encoding=\"ascii\",errors=\"ignore\"))\n",
    "print(txt.encode(encoding=\"ascii\",errors=\"namereplace\"))\n",
    "print(txt.encode(encoding=\"ascii\",errors=\"replace\"))\n",
    "print(txt.encode(encoding=\"ascii\",errors=\"xmlcharrefreplace\"))"
   ]
  },
  {
   "cell_type": "markdown",
   "id": "2065ebc3",
   "metadata": {},
   "source": [
    "5. Endswith()"
   ]
  },
  {
   "cell_type": "code",
   "execution_count": 16,
   "id": "44b0e56b",
   "metadata": {},
   "outputs": [
    {
     "name": "stdout",
     "output_type": "stream",
     "text": [
      "True\n",
      "True\n"
     ]
    }
   ],
   "source": [
    "# endswith()  \n",
    "name = \"Muhammad Qasim\"\n",
    "print(name.endswith(\"m\")) #check if given value endswith 'm'\n",
    "print(name.endswith(\"sim\")) #check if given value endsith 'sim'"
   ]
  },
  {
   "cell_type": "markdown",
   "id": "8b1af85e",
   "metadata": {},
   "source": [
    "6. Startswith()"
   ]
  },
  {
   "cell_type": "code",
   "execution_count": 17,
   "id": "0859df25",
   "metadata": {},
   "outputs": [
    {
     "name": "stdout",
     "output_type": "stream",
     "text": [
      "True\n",
      "False\n"
     ]
    }
   ],
   "source": [
    "# startswith() #Example-1\n",
    "name = \"Muhammad Qasim\"\n",
    "print(name.startswith(\"M\")) #check if given value startswith 'M'\n",
    "print(name.startswith(\"sim\")) #check if given value startswith 'sim'"
   ]
  },
  {
   "cell_type": "code",
   "execution_count": 18,
   "id": "55ce2313",
   "metadata": {},
   "outputs": [
    {
     "name": "stdout",
     "output_type": "stream",
     "text": [
      "True\n",
      "False\n"
     ]
    }
   ],
   "source": [
    "# startswith()  #Example-2\n",
    "name = \"Muhammad Qasim\"\n",
    "search = input(\"start with \")\n",
    "print(name.startswith(search)) #check if the value given by user startswith in the given string\n",
    "print(name.startswith(\"sim\")) #check if given value startswith 'sim'"
   ]
  },
  {
   "cell_type": "markdown",
   "id": "48c7c37a",
   "metadata": {},
   "source": [
    "7. Exapndtabs()"
   ]
  },
  {
   "cell_type": "code",
   "execution_count": 21,
   "id": "4ae4aeb1",
   "metadata": {},
   "outputs": [
    {
     "name": "stdout",
     "output_type": "stream",
     "text": [
      "\n",
      "NED University\n",
      "Batch5\n",
      "Class:    Python\n",
      "Name:     Hafsa Imtiaz\n",
      "Father's Name:      Imtiaz Ahmed\n",
      "\n",
      "\n",
      "NED University\n",
      "Batch5\n",
      "Class:                        Python\n",
      "Name:                         Hafsa Imtiaz\n",
      "Father's Name:                Imtiaz Ahmed\n",
      "\n"
     ]
    }
   ],
   "source": [
    "# expandtabs()\n",
    "card = \"\"\"\n",
    "NED University\n",
    "Batch5\n",
    "Class:\\tPython\n",
    "Name:\\tHafsa Imtiaz\n",
    "Father's Name:\\tImtiaz Ahmed\n",
    "\"\"\"\n",
    "print(card.expandtabs(10)) #len of string=10 including space\n",
    "print(card.expandtabs(30)) #len of string=30 including space"
   ]
  },
  {
   "cell_type": "markdown",
   "id": "9caaafa7",
   "metadata": {},
   "source": [
    "8. Lower()"
   ]
  },
  {
   "cell_type": "code",
   "execution_count": 22,
   "id": "2b3c8fa0",
   "metadata": {},
   "outputs": [
    {
     "name": "stdout",
     "output_type": "stream",
     "text": [
      "muhammad qasim\n"
     ]
    }
   ],
   "source": [
    "# lower()\n",
    "ame = \"Muhammad Qasim\"\n",
    "print(name.lower())"
   ]
  },
  {
   "cell_type": "markdown",
   "id": "d1c304d6",
   "metadata": {},
   "source": [
    "9. Lstrip()"
   ]
  },
  {
   "cell_type": "code",
   "execution_count": 24,
   "id": "30e83c3c",
   "metadata": {},
   "outputs": [
    {
     "data": {
      "text/plain": [
       "'Muhammad Qasim'"
      ]
     },
     "execution_count": 24,
     "metadata": {},
     "output_type": "execute_result"
    }
   ],
   "source": [
    "# lstrip()\n",
    "name = \"    Muhammad Qasim\"\n",
    "name.lstrip() #removes trailing characters (!!!) that are at the start of string."
   ]
  },
  {
   "cell_type": "markdown",
   "id": "32a66a4f",
   "metadata": {},
   "source": [
    "10. Rstrip()"
   ]
  },
  {
   "cell_type": "code",
   "execution_count": 25,
   "id": "809cbaf1",
   "metadata": {},
   "outputs": [
    {
     "data": {
      "text/plain": [
       "'Muhammad Qasim'"
      ]
     },
     "execution_count": 25,
     "metadata": {},
     "output_type": "execute_result"
    }
   ],
   "source": [
    "# rstrip()\n",
    "name = \"Muhammad Qasim   \"\n",
    "name.rstrip() #removes trailing characters (!!!) that are at the end of string."
   ]
  },
  {
   "cell_type": "markdown",
   "id": "b495739a",
   "metadata": {},
   "source": [
    "11. Strip"
   ]
  },
  {
   "cell_type": "code",
   "execution_count": 26,
   "id": "97aff459",
   "metadata": {},
   "outputs": [
    {
     "data": {
      "text/plain": [
       "'Muhammad       Qasim'"
      ]
     },
     "execution_count": 26,
     "metadata": {},
     "output_type": "execute_result"
    }
   ],
   "source": [
    "# strip()\n",
    "name = \"    Muhammad       Qasim   \"\n",
    "name.strip() #removes characters at the start and end of string."
   ]
  },
  {
   "cell_type": "markdown",
   "id": "fd8ce04e",
   "metadata": {},
   "source": [
    "12. Replace()"
   ]
  },
  {
   "cell_type": "code",
   "execution_count": 28,
   "id": "7a6ce40a",
   "metadata": {},
   "outputs": [
    {
     "data": {
      "text/plain": [
       "'Muhammad Aslam'"
      ]
     },
     "execution_count": 28,
     "metadata": {},
     "output_type": "execute_result"
    }
   ],
   "source": [
    "# replace() #Example-1\n",
    "name = \"Muhammad Qasim\"\n",
    "name.replace(\"Qasim\", \"Aslam\")"
   ]
  },
  {
   "cell_type": "code",
   "execution_count": 29,
   "id": "6fa35739",
   "metadata": {},
   "outputs": [
    {
     "data": {
      "text/plain": [
       "'Muhammad Aslam Qasim Qasim'"
      ]
     },
     "execution_count": 29,
     "metadata": {},
     "output_type": "execute_result"
    }
   ],
   "source": [
    "# replace #Example-2\n",
    "name = \"Muhammad Qasim Qasim Qasim\"\n",
    "name.replace(\"Qasim\",\"Aslam\", 1)"
   ]
  },
  {
   "cell_type": "code",
   "execution_count": 30,
   "id": "381950d6",
   "metadata": {},
   "outputs": [
    {
     "data": {
      "text/plain": [
       "'Muhammad Aslam Aslam Aslam'"
      ]
     },
     "execution_count": 30,
     "metadata": {},
     "output_type": "execute_result"
    }
   ],
   "source": [
    "# replace   #Example-3\n",
    "name = \"Muhammad Qasim Qasim Qasim\"\n",
    "name.replace(\"Qasim\",\"Aslam\", -1)"
   ]
  },
  {
   "cell_type": "markdown",
   "id": "2d995e51",
   "metadata": {},
   "source": [
    "13. Index()"
   ]
  },
  {
   "cell_type": "code",
   "execution_count": 31,
   "id": "979e0b18",
   "metadata": {},
   "outputs": [
    {
     "data": {
      "text/plain": [
       "9"
      ]
     },
     "execution_count": 31,
     "metadata": {},
     "output_type": "execute_result"
    }
   ],
   "source": [
    "# index()\n",
    "name = \"Muhammad Qasim Qasim Qasim\"\n",
    "name.index(\"Qasim\")"
   ]
  },
  {
   "cell_type": "markdown",
   "id": "03a10b6a",
   "metadata": {},
   "source": [
    "14. Find()"
   ]
  },
  {
   "cell_type": "code",
   "execution_count": 32,
   "id": "16d2e104",
   "metadata": {},
   "outputs": [
    {
     "data": {
      "text/plain": [
       "21"
      ]
     },
     "execution_count": 32,
     "metadata": {},
     "output_type": "execute_result"
    }
   ],
   "source": [
    "# find()\n",
    "name = \"Muhammad Qasim Qasim Qasim\"\n",
    "name.index(\"Qasim\", 16)"
   ]
  }
 ],
 "metadata": {
  "kernelspec": {
   "display_name": "Python 3 (ipykernel)",
   "language": "python",
   "name": "python3"
  },
  "language_info": {
   "codemirror_mode": {
    "name": "ipython",
    "version": 3
   },
   "file_extension": ".py",
   "mimetype": "text/x-python",
   "name": "python",
   "nbconvert_exporter": "python",
   "pygments_lexer": "ipython3",
   "version": "3.11.4"
  }
 },
 "nbformat": 4,
 "nbformat_minor": 5
}
