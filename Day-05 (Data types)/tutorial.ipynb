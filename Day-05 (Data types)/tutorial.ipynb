{
 "cells": [
  {
   "cell_type": "markdown",
   "metadata": {},
   "source": [
    "# List Data Type"
   ]
  },
  {
   "cell_type": "code",
   "execution_count": 1,
   "metadata": {},
   "outputs": [
    {
     "name": "stdout",
     "output_type": "stream",
     "text": [
      "Hammad\n",
      "Visha\n",
      "Sadia\n",
      "M.A Rasheed\n"
     ]
    }
   ],
   "source": [
    "# One to One Relation\n",
    "s_1name = \"Hammad\"\n",
    "s_2name = \"Visha\"\n",
    "s_3name = \"Sadia\"\n",
    "s_4name = \"M.A Rasheed\"\n",
    "print(s_1name)\n",
    "print(s_2name)\n",
    "print(s_3name)\n",
    "print(s_4name)"
   ]
  },
  {
   "cell_type": "code",
   "execution_count": 2,
   "metadata": {},
   "outputs": [
    {
     "name": "stdout",
     "output_type": "stream",
     "text": [
      "['Hammad', 'Vishal', 'Sadia', 'M.A Rasheed']\n"
     ]
    }
   ],
   "source": [
    "# One to Many Relation\n",
    "names = [\"Hammad\", \"Vishal\", \"Sadia\", \"M.A Rasheed\"]\n",
    "print(names)"
   ]
  },
  {
   "cell_type": "code",
   "execution_count": 5,
   "metadata": {},
   "outputs": [
    {
     "name": "stdout",
     "output_type": "stream",
     "text": [
      "Hamza,Ali,Iqbal,Junaid,Ibad,Konain\n"
     ]
    },
    {
     "data": {
      "text/plain": [
       "['Hamza', 'Ali', 'Iqbal', 'Junaid', 'Ibad', 'Konain']"
      ]
     },
     "execution_count": 5,
     "metadata": {},
     "output_type": "execute_result"
    }
   ],
   "source": [
    "# List via. input\n",
    "names1 = input(\"Please insert names with ',' seprated: \")\n",
    "print(names1)\n",
    "names1.split(\",\")"
   ]
  },
  {
   "cell_type": "code",
   "execution_count": 8,
   "metadata": {},
   "outputs": [
    {
     "name": "stdout",
     "output_type": "stream",
     "text": [
      "Visha\n",
      "Visha\n"
     ]
    }
   ],
   "source": [
    "# Indexing\n",
    "#           0          1        2          3  (positive indexing)\n",
    "names = [\"Hammad\", \"Visha\", \"Sadia\", \"M.A Rasheed\"]\n",
    "#          -4         -3        -2         -1  (negative indexing)\n",
    "\n",
    "# list_variable[index_number]\n",
    "print(names[1])\n",
    "print(names[-3])"
   ]
  }
 ],
 "metadata": {
  "kernelspec": {
   "display_name": "Python 3",
   "language": "python",
   "name": "python3"
  },
  "language_info": {
   "codemirror_mode": {
    "name": "ipython",
    "version": 3
   },
   "file_extension": ".py",
   "mimetype": "text/x-python",
   "name": "python",
   "nbconvert_exporter": "python",
   "pygments_lexer": "ipython3",
   "version": "3.11.4"
  },
  "orig_nbformat": 4
 },
 "nbformat": 4,
 "nbformat_minor": 2
}
