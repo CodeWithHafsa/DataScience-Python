{
 "cells": [
  {
   "cell_type": "markdown",
   "id": "afc64960-7688-4685-8b0e-63c5912b1710",
   "metadata": {},
   "source": [
    "# Assignment #2 "
   ]
  },
  {
   "cell_type": "markdown",
   "id": "b6205d42-1a18-4666-b5d0-4339a29587b4",
   "metadata": {},
   "source": [
    "### Python String Concatenation and Formatting Assignment"
   ]
  },
  {
   "cell_type": "markdown",
   "id": "a03e1a8b-1d47-4fc2-bfd3-56c0f5cde4ab",
   "metadata": {},
   "source": [
    "**Assignment 1: String Concatenation and Formatting**\n",
    "\n",
    "**Instructions:**\n",
    "\n",
    "1. Create a variable `name` and assign your name to it.\n",
    "2. Create a variable `age` and assign your age to it.\n",
    "3. Create a variable `country` and assign your country of residence to it.\n",
    "4. Using the `+` operator, concatenate the variables to form a sentence in the following format: \"My name is `<name>`, I am `<age>` years old, and I live in `<country>`.\"\n",
    "5. Print the concatenated sentence."
   ]
  },
  {
   "cell_type": "code",
   "execution_count": 9,
   "id": "676493d7-b409-4e34-a513-4201c8f5e88f",
   "metadata": {},
   "outputs": [
    {
     "name": "stdout",
     "output_type": "stream",
     "text": [
      "My name is Hafsa Imtiaz, I am 21 and i live in Pakistan\n"
     ]
    }
   ],
   "source": [
    "name = \"Hafsa Imtiaz\"\n",
    "age = 21\n",
    "country = \"Pakistan\"\n",
    "sentence = \"My name is \" + name + \", I am \" + str(age)  + \" and i live in \" + country\n",
    "print(sentence)"
   ]
  },
  {
   "cell_type": "markdown",
   "id": "76cc1f1f-a176-46e9-9900-127b260bdc2e",
   "metadata": {},
   "source": [
    "**Assignment 2: String Formatting using `.format()`**\n",
    "\n",
    "**Instructions:**\n",
    "\n",
    "1. Create a variable `item` and assign a product name to it (e.g., \"laptop\", \"book\", \"phone\").\n",
    "2. Create a variable `price` and assign a price to the item.\n",
    "3. Create a variable `quantity` and assign a quantity value.\n",
    "4. Calculate the total cost using the formula: `total_cost = price * quantity`.\n",
    "5. Using the `.format()` method, create a formatted string: \"I bought `<quantity>` `<item>`(s) at `<price>` each, for a total of $`<total_cost>`.\"\n",
    "6. Print the formatted string."
   ]
  },
  {
   "cell_type": "code",
   "execution_count": 23,
   "id": "22c149a5-8623-4456-a949-09cac6558dca",
   "metadata": {},
   "outputs": [
    {
     "name": "stdout",
     "output_type": "stream",
     "text": [
      "I bought 3 books at 200 each, for total of $ 600\n"
     ]
    }
   ],
   "source": [
    "item = \"books\"\n",
    "price = 200\n",
    "quantity = 3\n",
    "total_cost = price * quantity\n",
    "cost = \"I bought {2} {0} at {1} each, for total of $ {3}\" .format(item, price, quantity, total_cost)\n",
    "print(cost)"
   ]
  },
  {
   "cell_type": "markdown",
   "id": "f2ccf6bb-fe9f-466b-8518-c0a84b9c8b48",
   "metadata": {},
   "source": [
    "**Assignment 3: String Interpolation using `f`**\n",
    "\n",
    "**Instructions:**\n",
    "\n",
    "1. Create a variable `city` and assign the name of a city.\n",
    "2. Create a variable `temperature` and assign a temperature value in Celsius.\n",
    "3. Using `f''` string interpolation, create a string: \"The temperature in `<city>` is `<temperature>`°C.\"\n",
    "4. Print the interpolated string."
   ]
  },
  {
   "cell_type": "code",
   "execution_count": 26,
   "id": "c88e2f45-32a6-4462-9a17-a5c9c5fd1a65",
   "metadata": {},
   "outputs": [
    {
     "name": "stdout",
     "output_type": "stream",
     "text": [
      "The temperature in Karachi is 30°C.\n"
     ]
    }
   ],
   "source": [
    "city = \"Karachi\"\n",
    "temperature = 30\n",
    "a = f\"The temperature in {city} is {temperature}°C.\"\n",
    "print(a)"
   ]
  },
  {
   "cell_type": "markdown",
   "id": "d60c0cb4-c282-4844-9064-22d9b4220346",
   "metadata": {},
   "source": [
    "**Assignment 4: String Formatting using `%()`**\n",
    "\n",
    "**Instructions:**\n",
    "\n",
    "1. Create a variable `first_name` and assign your first name to it.\n",
    "2. Create a variable `last_name` and assign your last name to it.\n",
    "3. Create a variable `birth_year` and assign your birth year.\n",
    "4. Calculate your age using the formula: `age = current_year - birth_year`, where `current_year` is the current year.\n",
    "5. Using `%()` string formatting, create a string: \"My name is %(first_name)s %(last_name)s. I am %(age)d years old.\"\n",
    "6. Print the formatted string."
   ]
  },
  {
   "cell_type": "code",
   "execution_count": 39,
   "id": "52626776-eb12-4965-9671-98e004eaf536",
   "metadata": {},
   "outputs": [
    {
     "name": "stdout",
     "output_type": "stream",
     "text": [
      "My name is Hafsa Imtiaz. I am 21 years old.\n"
     ]
    }
   ],
   "source": [
    "first_name = \"Hafsa\"\n",
    "last_name = \"Imtiaz\"\n",
    "birth_year = 2002\n",
    "current_year = 2023\n",
    "age = current_year - birth_year\n",
    "sentence = \"My name is %s %s. I am %d years old.\" % (first_name,last_name,age)\n",
    "print(sentence)"
   ]
  },
  {
   "cell_type": "markdown",
   "id": "348dc38c-f463-4e3b-97b7-6c5882da959e",
   "metadata": {},
   "source": [
    "**Assignment 5: Combining Formatting Methods**\n",
    "\n",
    "**Instructions:**\n",
    "\n",
    "1. Create a variable `product` and assign a product name.\n",
    "2. Create a variable `discount` and assign a discount percentage.\n",
    "3. Create a variable `original_price` and assign an original price.\n",
    "4. Calculate the discounted price using the formula: `discounted_price = original_price * (1 - discount / 100)`.\n",
    "5. Using any combination of string formatting methods (`+`, `.format()`, `f''`, `%()`), create a descriptive string with the product name, original price, discount percentage, and discounted price.\n",
    "6. Print the descriptive string."
   ]
  },
  {
   "cell_type": "code",
   "execution_count": 78,
   "id": "a2c6b749-636f-45ec-a9ae-9c38f2379f84",
   "metadata": {},
   "outputs": [
    {
     "name": "stdout",
     "output_type": "stream",
     "text": [
      "On Sunday morning, a boy went to buy a book from a bookstore. The original price of the book was 800Rs.\n",
      "Due to special ocassion, there was 10% discount on every book. So the discounted price of the book was 720.0Rs.\n"
     ]
    }
   ],
   "source": [
    "product = \"book\"\n",
    "discount = 10\n",
    "original_price = 800\n",
    "discounted_price = discounted_price = original_price * (1 - discount / 100)\n",
    "a = f\"On Sunday morning, a boy went to buy a {product} from a bookstore. The original price of the book was {original_price}Rs.\\\n",
    "\\nDue to special ocassion, there was {discount}% discount on every book. So the discounted price of the book was {discounted_price}Rs.\"\n",
    "print(a)"
   ]
  }
 ],
 "metadata": {
  "kernelspec": {
   "display_name": "Python 3 (ipykernel)",
   "language": "python",
   "name": "python3"
  },
  "language_info": {
   "codemirror_mode": {
    "name": "ipython",
    "version": 3
   },
   "file_extension": ".py",
   "mimetype": "text/x-python",
   "name": "python",
   "nbconvert_exporter": "python",
   "pygments_lexer": "ipython3",
   "version": "3.11.4"
  }
 },
 "nbformat": 4,
 "nbformat_minor": 5
}
