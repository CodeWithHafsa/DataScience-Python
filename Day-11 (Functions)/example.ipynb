{
 "cells": [
  {
   "cell_type": "markdown",
   "metadata": {},
   "source": [
    "### Some Extra Examples:"
   ]
  },
  {
   "cell_type": "code",
   "execution_count": 1,
   "metadata": {},
   "outputs": [
    {
     "name": "stdout",
     "output_type": "stream",
     "text": [
      "33\n"
     ]
    }
   ],
   "source": [
    "def my_sum(*nums):\n",
    "    \n",
    "    total = 0\n",
    "    \n",
    "    for n in nums:\n",
    "        total += n\n",
    "    return total\n",
    "\n",
    "print(my_sum(1,2,2,6,2,20))"
   ]
  },
  {
   "cell_type": "code",
   "execution_count": 2,
   "metadata": {},
   "outputs": [
    {
     "name": "stdout",
     "output_type": "stream",
     "text": [
      "{'x': 20, 'y': 3, 'e': 200, 'end': 200}\n"
     ]
    },
    {
     "data": {
      "text/plain": [
       "[('x', 20), ('y', 3), ('e', 200), ('end', 200)]"
      ]
     },
     "execution_count": 2,
     "metadata": {},
     "output_type": "execute_result"
    }
   ],
   "source": [
    "def abc(**data): #arbitary argument\n",
    "    print(data)\n",
    "    return list(data.items())\n",
    "\n",
    "#   key=value\n",
    "abc(x=20,y=3, e=200, end=200)"
   ]
  },
  {
   "cell_type": "code",
   "execution_count": 3,
   "metadata": {},
   "outputs": [
    {
     "name": "stdout",
     "output_type": "stream",
     "text": [
      "2 7\n",
      "('a', 2, 2, 20, 'b')\n",
      "{'e': 20, 'c': 2}\n"
     ]
    }
   ],
   "source": [
    "def advance(x, y, *nums, **data):\n",
    "    print(x,y)\n",
    "    print(nums)\n",
    "    print(data)\n",
    "    \n",
    "advance(2,7, 'a',2,2,20,'b', e=20, c=2)"
   ]
  },
  {
   "cell_type": "code",
   "execution_count": 4,
   "metadata": {},
   "outputs": [
    {
     "name": "stdout",
     "output_type": "stream",
     "text": [
      "7 2\n",
      "(2, 2, 3, 4, 4, 4)\n",
      "{}\n",
      "None\n"
     ]
    }
   ],
   "source": [
    "l1 = [2,2,3]\n",
    "l2 = [4,4,4]\n",
    "print(advance(7,2,*l1,*l2))"
   ]
  }
 ],
 "metadata": {
  "kernelspec": {
   "display_name": "Python 3",
   "language": "python",
   "name": "python3"
  },
  "language_info": {
   "codemirror_mode": {
    "name": "ipython",
    "version": 3
   },
   "file_extension": ".py",
   "mimetype": "text/x-python",
   "name": "python",
   "nbconvert_exporter": "python",
   "pygments_lexer": "ipython3",
   "version": "3.11.4"
  },
  "orig_nbformat": 4
 },
 "nbformat": 4,
 "nbformat_minor": 2
}
