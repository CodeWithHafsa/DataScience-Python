{
 "cells": [
  {
   "cell_type": "markdown",
   "metadata": {},
   "source": [
    "Non-return functions"
   ]
  },
  {
   "cell_type": "code",
   "execution_count": 1,
   "metadata": {},
   "outputs": [
    {
     "name": "stdout",
     "output_type": "stream",
     "text": [
      "NED University\n",
      "PGD Data Science - Generative AI Program!\n",
      "Batch 5\n",
      "Saturday & Sunday Calsses\n",
      "None\n"
     ]
    }
   ],
   "source": [
    "def introduction():         #Signature/function decrairlation\n",
    "    print(\"NED University\") #body start\n",
    "    print(\"PGD Data Science - Generative AI Program!\")\n",
    "    print(\"Batch 5\")\n",
    "    print(\"Saturday & Sunday Calsses\")  #body end\n",
    "\n",
    "abc = introduction()\n",
    "print(abc)   #here function doesnot use return keyword, so it does not return any value in print(abc)"
   ]
  },
  {
   "cell_type": "markdown",
   "metadata": {},
   "source": [
    "Return Functions:"
   ]
  },
  {
   "cell_type": "code",
   "execution_count": 3,
   "metadata": {},
   "outputs": [
    {
     "name": "stdout",
     "output_type": "stream",
     "text": [
      "NED University\n",
      "PGD Data Science - Generative AI Program!\n",
      "Batch 5\n",
      "Saturday & Sunday Calsses\n",
      "Python Function!\n"
     ]
    }
   ],
   "source": [
    "def introduction():# Signature/function decrairlation\n",
    "    print(\"NED University\") # body start\n",
    "    print(\"PGD Data Science - Generative AI Program!\")\n",
    "    print(\"Batch 5\")\n",
    "    print(\"Saturday & Sunday Calsses\") # body end\n",
    "    \n",
    "    return \"Python Function!\"  #return statement\n",
    "\n",
    "abc = introduction()  # function calling\n",
    "print(abc)"
   ]
  },
  {
   "cell_type": "markdown",
   "metadata": {},
   "source": [
    "We can return multiple data types in one function:"
   ]
  },
  {
   "cell_type": "code",
   "execution_count": 4,
   "metadata": {},
   "outputs": [
    {
     "name": "stdout",
     "output_type": "stream",
     "text": [
      "('Pakistan zinda bad!', 123, 'xyz')\n"
     ]
    }
   ],
   "source": [
    "def introduction():# Signature/function decrairlation\n",
    "    return \"Pakistan zinda bad!\", 123, 'xyz'\n",
    "\n",
    "abc = introduction()# function calling\n",
    "print(abc)"
   ]
  },
  {
   "cell_type": "markdown",
   "metadata": {},
   "source": [
    "### Types of Function arguments in python:"
   ]
  },
  {
   "cell_type": "markdown",
   "metadata": {},
   "source": [
    "Default Arguments in Python:"
   ]
  },
  {
   "cell_type": "code",
   "execution_count": 7,
   "metadata": {},
   "outputs": [
    {
     "name": "stdout",
     "output_type": "stream",
     "text": [
      "Jeff Bezos is 57 years old.\n",
      "Elon Musk is 50 years old.\n"
     ]
    }
   ],
   "source": [
    "# Default argument without return function:\n",
    "def print_details(name=\"Elon Musk\", age=50):\n",
    "    print(f\"{name} is {age} years old.\")\n",
    " \n",
    "print_details(\"Jeff Bezos\", 57)  # Output: Jeff Bezos is 57 years old.\n",
    "print_details()  # Line 4- Output: Elon Musk is 50 years old."
   ]
  },
  {
   "cell_type": "markdown",
   "metadata": {},
   "source": [
    "Keyword Arguments in Python:"
   ]
  },
  {
   "cell_type": "code",
   "execution_count": 2,
   "metadata": {},
   "outputs": [
    {
     "name": "stdout",
     "output_type": "stream",
     "text": [
      "4.0\n"
     ]
    }
   ],
   "source": [
    "def divide_two(a, b):\n",
    "    res = a / b\n",
    "    return res\n",
    " \n",
    "res = divide_two(12, 3)\n",
    "print(res)  "
   ]
  },
  {
   "cell_type": "code",
   "execution_count": 3,
   "metadata": {},
   "outputs": [
    {
     "name": "stdout",
     "output_type": "stream",
     "text": [
      "0.25\n",
      "3.0\n",
      "4.0\n"
     ]
    }
   ],
   "source": [
    "# both keyword arguments\n",
    "res = divide_two(a=3, b=12)  \n",
    "print(res)  # Output: 0.25\n",
    " \n",
    "# one positional, one keyword argument\n",
    "res2 = divide_two(36, b=12)\n",
    "print(res2)  # Output: 3\n",
    " \n",
    "# both keyword arguments, order changed\n",
    "res3 = divide_two(b=12, a=48)\n",
    "print(res3)  # Output: 4"
   ]
  },
  {
   "cell_type": "markdown",
   "metadata": {},
   "source": [
    "Required Arguments in Python:"
   ]
  },
  {
   "cell_type": "code",
   "execution_count": 4,
   "metadata": {},
   "outputs": [
    {
     "name": "stdout",
     "output_type": "stream",
     "text": [
      "24\n",
      "23\n"
     ]
    }
   ],
   "source": [
    "def add_nums(num1, num2=12):\n",
    "    print(num1 + num2)\n",
    " \n",
    "add_nums(num1=11, num2=13)  # Output: 24\n",
    " \n",
    "# no value for default argument\n",
    "add_nums(num1=11)  # Output: 23 \n",
    " \n",
    "# no value for required argument\n",
    "#add_nums(num2=13) # Will throw an error"
   ]
  },
  {
   "cell_type": "markdown",
   "metadata": {},
   "source": [
    "Arbitary Arguments in Python:"
   ]
  },
  {
   "cell_type": "markdown",
   "metadata": {},
   "source": [
    "By using single-asterisk (*) symbol:"
   ]
  },
  {
   "cell_type": "code",
   "execution_count": 5,
   "metadata": {},
   "outputs": [
    {
     "name": "stdout",
     "output_type": "stream",
     "text": [
      "Lion\n",
      "Elephant\n",
      "Wolf\n",
      "Gorilla\n"
     ]
    }
   ],
   "source": [
    "def print_animals(*animals):\n",
    "    for animal in animals:\n",
    "        print(animal)\n",
    " \n",
    "print_animals(\"Lion\", \"Elephant\", \"Wolf\", \"Gorilla\")"
   ]
  },
  {
   "cell_type": "markdown",
   "metadata": {},
   "source": [
    "By using double-asterisk (**) operator:"
   ]
  },
  {
   "cell_type": "code",
   "execution_count": 6,
   "metadata": {},
   "outputs": [
    {
     "name": "stdout",
     "output_type": "stream",
     "text": [
      "('Lion', 'Carnivore')\n",
      "('Elephant', 'Herbivore')\n",
      "('Gorilla', 'Omnivore')\n"
     ]
    }
   ],
   "source": [
    "def print_food(**foods):\n",
    "    for food in foods.items():\n",
    "        print(food)\n",
    " \n",
    "print_food(Lion=\"Carnivore\", Elephant=\"Herbivore\", Gorilla=\"Omnivore\")"
   ]
  },
  {
   "cell_type": "code",
   "execution_count": 8,
   "metadata": {},
   "outputs": [
    {
     "name": "stdout",
     "output_type": "stream",
     "text": [
      "math = 56\n",
      "english = 61\n",
      "science = 73\n"
     ]
    }
   ],
   "source": [
    "# function with variable-length keyword arguments\n",
    "def percentage(**kwargs):\n",
    "    sum = 0\n",
    "    for sub in kwargs:\n",
    "        # get argument name\n",
    "        sub_name = sub\n",
    "        # get argument value\n",
    "        sub_marks = kwargs[sub]\n",
    "        print(sub_name, \"=\", sub_marks)\n",
    "\n",
    "# pass multiple keyword arguments\n",
    "percentage(math=56, english=61, science=73)"
   ]
  },
  {
   "cell_type": "markdown",
   "metadata": {},
   "source": [
    "The function can also have a combination of arbitrary keyword and non-keyword arguments, i.e. combination of single-asterisk (*) symbol and double-asterisk (**) operator."
   ]
  },
  {
   "cell_type": "code",
   "execution_count": 7,
   "metadata": {},
   "outputs": [
    {
     "name": "stdout",
     "output_type": "stream",
     "text": [
      "Lion\n",
      "Elephant\n",
      "Wolf\n",
      "Gorilla\n",
      "('Lion', 'Carnivore')\n",
      "('Elephant', 'Herbivore')\n",
      "('Gorilla', 'Omnivore')\n"
     ]
    }
   ],
   "source": [
    "def print_animal_details(*animals, **foods):\n",
    "    for animal in animals:\n",
    "        print(animal)\n",
    "    for food in foods.items():\n",
    "        print(food)\n",
    " \n",
    "print_animal_details(\"Lion\", \"Elephant\", \"Wolf\", \"Gorilla\", \n",
    "                    Lion=\"Carnivore\", Elephant=\"Herbivore\", Gorilla=\"Omnivore\")"
   ]
  },
  {
   "cell_type": "markdown",
   "metadata": {},
   "source": [
    "### Examples:"
   ]
  },
  {
   "cell_type": "code",
   "execution_count": 9,
   "metadata": {},
   "outputs": [
    {
     "name": "stdout",
     "output_type": "stream",
     "text": [
      "10\n",
      "27\n"
     ]
    }
   ],
   "source": [
    "# Required Arguments\n",
    "def add_two_numbers(num1,num2):#function signature\n",
    "    return num1 + num2\n",
    "\n",
    "print(add_two_numbers(8,2))\n",
    "print(add_two_numbers(20,7))"
   ]
  },
  {
   "cell_type": "code",
   "execution_count": 10,
   "metadata": {},
   "outputs": [
    {
     "name": "stdout",
     "output_type": "stream",
     "text": [
      "numbe1: 7 and number2: 8\n",
      "15\n",
      "numbe1: 20 and number2: 7\n",
      "27\n"
     ]
    }
   ],
   "source": [
    "# Required Arguments\n",
    "def add_two_numbers(num1,num2):#function signature\n",
    "    print(f'numbe1: {num1} and number2: {num2}')\n",
    "    return num1 + num2\n",
    "\n",
    "print(add_two_numbers(7,8))\n",
    "print(add_two_numbers(20,7))"
   ]
  },
  {
   "cell_type": "code",
   "execution_count": 11,
   "metadata": {},
   "outputs": [
    {
     "name": "stdout",
     "output_type": "stream",
     "text": [
      "numbe1: 8 and number2: 7\n",
      "15\n",
      "numbe1: 20 and number2: 7\n",
      "27\n"
     ]
    }
   ],
   "source": [
    "# Keyword Arguments\n",
    "def add_two_numbers(num1,num2):#function signature\n",
    "    print(f'numbe1: {num1} and number2: {num2}')\n",
    "    return num1 + num2\n",
    "\n",
    "print(add_two_numbers(num2=7, num1=8))\n",
    "print(add_two_numbers(num1=20, num2=7))"
   ]
  },
  {
   "cell_type": "code",
   "execution_count": 12,
   "metadata": {},
   "outputs": [
    {
     "name": "stdout",
     "output_type": "stream",
     "text": [
      "3\n",
      "6\n"
     ]
    }
   ],
   "source": [
    "# Keyword Arguments\n",
    "def abc(x,y,z=0):\n",
    "    return x+y+z\n",
    "\n",
    "print(abc(1,2))\n",
    "print(abc(1,2,3))"
   ]
  },
  {
   "cell_type": "code",
   "execution_count": 14,
   "metadata": {},
   "outputs": [
    {
     "name": "stdout",
     "output_type": "stream",
     "text": [
      "3\n",
      "6\n",
      "7\n",
      "2\n"
     ]
    }
   ],
   "source": [
    "def abc(x,y=0,z=0):\n",
    "    return x+y+z\n",
    "\n",
    "print(abc(1,2))\n",
    "print(abc(1,2,3)) # postional arguments\n",
    "print(abc(z=2,x=2,y=3)) # key word arguments\n",
    "print(abc(2))\n",
    "# print(abc()) #throws an error"
   ]
  },
  {
   "cell_type": "code",
   "execution_count": 15,
   "metadata": {},
   "outputs": [
    {
     "name": "stdout",
     "output_type": "stream",
     "text": [
      "a b c\n",
      "a b c\n"
     ]
    }
   ],
   "source": [
    "# arbitary arguments\n",
    "\n",
    "l = (\"a\",'b','c') \n",
    "print(l[0],l[1],l[2])    #basic python\n",
    "print(*l) #using arbitary argument"
   ]
  },
  {
   "cell_type": "code",
   "execution_count": 16,
   "metadata": {},
   "outputs": [
    {
     "name": "stdout",
     "output_type": "stream",
     "text": [
      "7 20 30\n",
      "57\n",
      "57\n",
      "57\n"
     ]
    }
   ],
   "source": [
    "def abc(x,y=0,z=0):  #function defining\n",
    "    return x + y + z   #return statement\n",
    "\n",
    "d = {\"x\":7,   #dictionary\n",
    "    \"y\":20,\n",
    "    \"z\":30 }\n",
    "\n",
    "print(d['x'], d['y'], d['z'])    #using normal python, it print list\n",
    "print(abc(d['x'], d['y'], d['z']))    # using normal python, it add value given in function as defined in return statement\n",
    "print(abc(x=7, y=20, z=30))   #using keyword argument, it add the value given in print function as defined in return \n",
    "print(abc(**d))  #using arbitary argument, it add value given in function as defined in return statement"
   ]
  }
 ],
 "metadata": {
  "kernelspec": {
   "display_name": "Python 3",
   "language": "python",
   "name": "python3"
  },
  "language_info": {
   "codemirror_mode": {
    "name": "ipython",
    "version": 3
   },
   "file_extension": ".py",
   "mimetype": "text/x-python",
   "name": "python",
   "nbconvert_exporter": "python",
   "pygments_lexer": "ipython3",
   "version": "3.11.4"
  },
  "orig_nbformat": 4
 },
 "nbformat": 4,
 "nbformat_minor": 2
}
