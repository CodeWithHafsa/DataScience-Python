{
 "cells": [
  {
   "cell_type": "markdown",
   "metadata": {},
   "source": [
    "### While Loop:"
   ]
  },
  {
   "cell_type": "markdown",
   "metadata": {},
   "source": [
    "Increment in while loop:"
   ]
  },
  {
   "cell_type": "code",
   "execution_count": 22,
   "metadata": {},
   "outputs": [
    {
     "name": "stdout",
     "output_type": "stream",
     "text": [
      "0\n",
      "1\n",
      "2\n",
      "3\n",
      "4\n",
      "5\n",
      "6\n",
      "7\n",
      "8\n",
      "9\n",
      "10\n",
      "Hello\n"
     ]
    }
   ],
   "source": [
    "counter = 0 # counter\n",
    "\n",
    "while counter <= 10: # logic\n",
    "    print(counter)\n",
    "    counter += 1  #increment\n",
    "else:\n",
    "    print(\"Hello\")"
   ]
  },
  {
   "cell_type": "markdown",
   "metadata": {},
   "source": [
    "Decrement in while loop:"
   ]
  },
  {
   "cell_type": "code",
   "execution_count": 2,
   "metadata": {},
   "outputs": [
    {
     "name": "stdout",
     "output_type": "stream",
     "text": [
      "10\n",
      "9\n",
      "8\n",
      "7\n",
      "6\n",
      "5\n",
      "4\n",
      "3\n",
      "2\n",
      "1\n"
     ]
    }
   ],
   "source": [
    "counter = 10      #counter\n",
    "while counter > 0:  #logic\n",
    "    print(counter)\n",
    "    counter -= 1   #decrement"
   ]
  },
  {
   "cell_type": "code",
   "execution_count": 3,
   "metadata": {},
   "outputs": [
    {
     "name": "stdout",
     "output_type": "stream",
     "text": [
      "1\n",
      "2\n",
      "3\n",
      "4\n",
      "5\n"
     ]
    }
   ],
   "source": [
    "counter = 1       #counter\n",
    "while counter < 100:   #logic\n",
    "    print(counter)\n",
    "    if counter == 5:\n",
    "        break       #break statement\n",
    "    counter += 1    #counter"
   ]
  },
  {
   "cell_type": "code",
   "execution_count": 4,
   "metadata": {},
   "outputs": [
    {
     "name": "stdout",
     "output_type": "stream",
     "text": [
      "1\n",
      "2\n",
      "4\n",
      "5\n",
      "6\n",
      "7\n",
      "8\n",
      "9\n"
     ]
    }
   ],
   "source": [
    "i = 0      #counter\n",
    "while i < 9:   #logic\n",
    "    i += 1    #increment\n",
    "    if i == 3:\n",
    "        continue # ignore everything in block below for this step only\n",
    "    print(i)"
   ]
  },
  {
   "cell_type": "markdown",
   "metadata": {},
   "source": [
    "The else satement with while loop"
   ]
  },
  {
   "cell_type": "code",
   "execution_count": 5,
   "metadata": {},
   "outputs": [
    {
     "name": "stdout",
     "output_type": "stream",
     "text": [
      "1\n",
      "2\n",
      "3\n",
      "4\n",
      "5\n",
      "i is no longer less than 6\n"
     ]
    }
   ],
   "source": [
    "i = 1\n",
    "while i < 6:\n",
    "  print(i)\n",
    "  i += 1\n",
    "else:\n",
    "  print(\"i is no longer less than 6\")"
   ]
  },
  {
   "cell_type": "markdown",
   "metadata": {},
   "source": [
    "Print alphabets from a to g using `while` loop using increment:"
   ]
  },
  {
   "cell_type": "code",
   "execution_count": 6,
   "metadata": {},
   "outputs": [
    {
     "name": "stdout",
     "output_type": "stream",
     "text": [
      "a\n",
      "b\n",
      "c\n",
      "d\n",
      "e\n",
      "f\n",
      "g\n"
     ]
    }
   ],
   "source": [
    "#.       0.  1.  2.  3   4   5   6\n",
    "name = ['a','b','c','d','e','f','g']\n",
    "\n",
    "#print(len(name)) #output 6\n",
    "\n",
    "i = 0\n",
    "while i < len(name): # dyamic length\n",
    "    print(name[i])\n",
    "    i += 1"
   ]
  },
  {
   "cell_type": "markdown",
   "metadata": {},
   "source": [
    "Print alphabets from a to g using `while` loop using decrement:"
   ]
  },
  {
   "cell_type": "code",
   "execution_count": 7,
   "metadata": {},
   "outputs": [
    {
     "name": "stdout",
     "output_type": "stream",
     "text": [
      "g\n",
      "f\n",
      "e\n",
      "d\n",
      "c\n",
      "b\n",
      "a\n"
     ]
    }
   ],
   "source": [
    "#count   1.  2.  3.  4   5   6   7\n",
    "#index   0.  1.  2.  3.  4.  5.  6.\n",
    "name = ['a','b','c','d','e','f','g']\n",
    "\n",
    "#print(len(name)) #output 7\n",
    "\n",
    "i = len(name)-1\n",
    "\n",
    "while i >= 0: # dyamic length\n",
    "    print(name[i])\n",
    "    i -= 1"
   ]
  },
  {
   "cell_type": "markdown",
   "metadata": {},
   "source": [
    "Print year from 1980 to 2023 using `while` loop:"
   ]
  },
  {
   "cell_type": "code",
   "execution_count": 8,
   "metadata": {},
   "outputs": [
    {
     "name": "stdout",
     "output_type": "stream",
     "text": [
      "2023\n",
      "2022\n",
      "2021\n",
      "2020\n",
      "2019\n",
      "2018\n",
      "2017\n",
      "2016\n",
      "2015\n",
      "2014\n",
      "2013\n",
      "2012\n",
      "2011\n",
      "2010\n",
      "2009\n",
      "2008\n",
      "2007\n",
      "2006\n",
      "2005\n",
      "2004\n",
      "2003\n",
      "2002\n",
      "2001\n",
      "2000\n",
      "1999\n",
      "1998\n"
     ]
    }
   ],
   "source": [
    "year = 2023\n",
    "\n",
    "while year >= 1998:\n",
    "    print(year)\n",
    "    year -= 1"
   ]
  },
  {
   "cell_type": "markdown",
   "metadata": {},
   "source": [
    "### For Loop:"
   ]
  },
  {
   "cell_type": "code",
   "execution_count": 9,
   "metadata": {},
   "outputs": [
    {
     "name": "stdout",
     "output_type": "stream",
     "text": [
      "a\n",
      "b\n",
      "c\n",
      "d\n",
      "e\n",
      "f\n",
      "g\n"
     ]
    }
   ],
   "source": [
    "names = ['a','b','c','d','e','f','g']\n",
    "\n",
    "for name in names:\n",
    "    print(name)"
   ]
  },
  {
   "cell_type": "code",
   "execution_count": 10,
   "metadata": {},
   "outputs": [
    {
     "name": "stdout",
     "output_type": "stream",
     "text": [
      "Hello Mr/Miss, a, Welcome in our AI Class!\n",
      "Hello Mr/Miss, b, Welcome in our AI Class!\n",
      "Hello Mr/Miss, c, Welcome in our AI Class!\n"
     ]
    }
   ],
   "source": [
    "names = ['a','b','c']\n",
    "\n",
    "for name in names:\n",
    "    print(f'Hello Mr/Miss, {name}, Welcome in our AI Class!')"
   ]
  },
  {
   "cell_type": "markdown",
   "metadata": {},
   "source": [
    "Print names, ages and courses in zip file using for loop."
   ]
  },
  {
   "cell_type": "code",
   "execution_count": 14,
   "metadata": {},
   "outputs": [
    {
     "name": "stdout",
     "output_type": "stream",
     "text": [
      "Hello Dear ali, Welcome in AI Course class, your are 22 years old\n",
      "Hello Dear hamza, Welcome in ML Course class, your are 25 years old\n",
      "Hello Dear junaid, Welcome in DS Course class, your are 30 years old\n"
     ]
    }
   ],
   "source": [
    "names = ['ali','hamza','junaid']\n",
    "ages = [22,25,30]\n",
    "courses = ['AI',\"ML\",\"DS\"]\n",
    "\n",
    "for name,age, course in zip(names,ages,courses):\n",
    "    print(f'Hello Dear {name}, Welcome in {course} Course class, your are {age} years old')"
   ]
  },
  {
   "cell_type": "code",
   "execution_count": 16,
   "metadata": {},
   "outputs": [
    {
     "name": "stdout",
     "output_type": "stream",
     "text": [
      "Welcome Dear a!\n"
     ]
    }
   ],
   "source": [
    "users = ['a','b','c']\n",
    "password = ['1','2','3']\n",
    "\n",
    "ui = input(\"UserName:\\t\")\n",
    "pi = input(\"Password:\\t\")\n",
    "\n",
    "for u,p in zip(users,password):\n",
    "    if ui == u and pi == p:\n",
    "        print(f\"Welcome Dear {u}!\")\n",
    "        break\n",
    "        \n",
    "else:\n",
    "    print(\"Not Valid user name password!\")"
   ]
  },
  {
   "cell_type": "code",
   "execution_count": 19,
   "metadata": {},
   "outputs": [
    {
     "name": "stdout",
     "output_type": "stream",
     "text": [
      "Hello a!\n",
      "Hello c!\n",
      "Hello d!\n",
      "Hello e!\n",
      "Hello f!\n",
      "Hello i!\n",
      "Hello j!\n"
     ]
    }
   ],
   "source": [
    "names = list('abcdefghij')\n",
    "blocked_customer = ['b','g','h']\n",
    "\n",
    "for name in names:\n",
    "    if name not in blocked_customer:\n",
    "        print(f'Hello {name}!')"
   ]
  },
  {
   "cell_type": "markdown",
   "metadata": {},
   "source": [
    "Create Data Enter System using loop"
   ]
  },
  {
   "cell_type": "code",
   "execution_count": 21,
   "metadata": {},
   "outputs": [
    {
     "name": "stdout",
     "output_type": "stream",
     "text": [
      "[['admin1', 'password1'], ['admin2', 'password2'], ['admin3', 'password3']]\n"
     ]
    }
   ],
   "source": [
    "data = []\n",
    "\n",
    "while True:\n",
    "    n = input(\"name\")\n",
    "    p = input(\"password\")\n",
    "    if n=='exit' or n == 'x':\n",
    "        break\n",
    "        \n",
    "    data.append([n,p])\n",
    "print(data)"
   ]
  },
  {
   "cell_type": "markdown",
   "metadata": {},
   "source": [
    "#### The zip method() in list:"
   ]
  },
  {
   "cell_type": "code",
   "execution_count": 11,
   "metadata": {},
   "outputs": [
    {
     "data": {
      "text/plain": [
       "[(1, 'a'), (2, 'b'), (3, 'c')]"
      ]
     },
     "execution_count": 11,
     "metadata": {},
     "output_type": "execute_result"
    }
   ],
   "source": [
    "a = [1,2,3]\n",
    "b = ['a','b','c']\n",
    "list(zip(a,b))"
   ]
  },
  {
   "cell_type": "code",
   "execution_count": 12,
   "metadata": {},
   "outputs": [
    {
     "name": "stdout",
     "output_type": "stream",
     "text": [
      "[('ali', 22, 'AI'), ('hamza', 25, 'ML'), ('junaid', 30, 'DS')]\n"
     ]
    }
   ],
   "source": [
    "names = ['ali','hamza','junaid']\n",
    "ages = [22,25,30]\n",
    "courses = ['AI',\"ML\",\"DS\"]\n",
    "\n",
    "data = list(zip(names,ages,courses))\n",
    "print(data)"
   ]
  },
  {
   "cell_type": "code",
   "execution_count": 13,
   "metadata": {},
   "outputs": [
    {
     "name": "stdout",
     "output_type": "stream",
     "text": [
      "1\n",
      "2\n",
      "3\n"
     ]
    }
   ],
   "source": [
    "a,b,c = [1,2,3] # unzip\n",
    "\n",
    "print(a)\n",
    "print(b)\n",
    "print(c)"
   ]
  },
  {
   "cell_type": "markdown",
   "metadata": {},
   "source": [
    "Enumerate method in list:"
   ]
  },
  {
   "cell_type": "code",
   "execution_count": 17,
   "metadata": {},
   "outputs": [
    {
     "data": {
      "text/plain": [
       "[(0, 'ali'), (1, 'hamza'), (2, 'junaid')]"
      ]
     },
     "execution_count": 17,
     "metadata": {},
     "output_type": "execute_result"
    }
   ],
   "source": [
    "#         0      1.      2\n",
    "names = ['ali','hamza','junaid']\n",
    "list(enumerate(names))"
   ]
  },
  {
   "cell_type": "markdown",
   "metadata": {},
   "source": [
    "Idx method in list:"
   ]
  },
  {
   "cell_type": "code",
   "execution_count": 18,
   "metadata": {},
   "outputs": [
    {
     "name": "stdout",
     "output_type": "stream",
     "text": [
      "0 ali\n",
      "1 hamza\n",
      "2 junaid\n"
     ]
    }
   ],
   "source": [
    "names = ['ali','hamza','junaid']\n",
    "for idx, value in enumerate(names):\n",
    "    print(idx, value)"
   ]
  }
 ],
 "metadata": {
  "kernelspec": {
   "display_name": "Python 3",
   "language": "python",
   "name": "python3"
  },
  "language_info": {
   "codemirror_mode": {
    "name": "ipython",
    "version": 3
   },
   "file_extension": ".py",
   "mimetype": "text/x-python",
   "name": "python",
   "nbconvert_exporter": "python",
   "pygments_lexer": "ipython3",
   "version": "3.11.4"
  },
  "orig_nbformat": 4
 },
 "nbformat": 4,
 "nbformat_minor": 2
}
