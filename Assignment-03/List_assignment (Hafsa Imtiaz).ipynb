{
 "cells": [
  {
   "cell_type": "markdown",
   "id": "f771f1bc-e027-48ab-a9c6-2bfe445a76c1",
   "metadata": {},
   "source": [
    "# Python List Manipulation Assignment"
   ]
  },
  {
   "cell_type": "markdown",
   "id": "30fd9503-c3d7-46fd-b226-0dd7be07638b",
   "metadata": {},
   "source": [
    "### Question 1: Basic List Operations:\n",
    "\n",
    "a) Create a list named `fruits` containing the following items: &quot;apple&quot;, &quot;banana&quot;, &quot;orange&quot;, &quot;grape&quot;,\n",
    "&quot;kiwi&quot;.\n",
    "\n",
    "b) Add &quot;pear&quot; to the end of the list.\n",
    "\n",
    "c) Insert &quot;mango&quot; at the second position in the list.\n",
    "\n",
    "d) Remove &quot;orange&quot; from the list."
   ]
  },
  {
   "cell_type": "code",
   "execution_count": 130,
   "id": "9d4f6a40-27c4-4a73-aea5-65be038e86ee",
   "metadata": {},
   "outputs": [
    {
     "name": "stdout",
     "output_type": "stream",
     "text": [
      "Add 'pear' to the end of the list:  ['apple', 'banana', 'orange', 'grape', 'kiwi', 'pear']\n",
      "Insert 'mango' at the second position in the list:  ['apple', 'mango', 'banana', 'orange', 'grape', 'kiwi', 'pear']\n",
      "Remove 'orange' from the list:  ['apple', 'mango', 'banana', 'grape', 'kiwi', 'pear']\n"
     ]
    }
   ],
   "source": [
    "# Create a list named fruits\n",
    "fruits = [\"apple\", \"banana\", \"orange\", \"grape\", \"kiwi\"]\n",
    "\n",
    "# Add \"pear\" to the end of the list.\n",
    "fruits.append(\"pear\")\n",
    "print(\"Add 'pear' to the end of the list: \", fruits)\n",
    "\n",
    "# Insert \"mango\" at the second position in the list.\n",
    "fruits.insert(1, \"mango\")\n",
    "print(\"Insert 'mango' at the second position in the list: \", fruits)\n",
    "\n",
    "# Remove \"orange\" from the list.\n",
    "fruits.remove(\"orange\")\n",
    "print(\"Remove 'orange' from the list: \", fruits)"
   ]
  },
  {
   "cell_type": "markdown",
   "id": "d6830ad3-895f-4f7c-9497-1acbef06f071",
   "metadata": {},
   "source": [
    "### Question 2: Slicing and Indexing\n",
    "\n",
    "a) Create a list named `numbers` containing the integers from 0 to 9.\n",
    "\n",
    "b) Print the element at index 3.\n",
    "\n",
    "c) Print a sublist containing the elements from index 2 to 6 (inclusive).\n",
    "\n",
    "d) Print the last three elements using negative indexing."
   ]
  },
  {
   "cell_type": "code",
   "execution_count": 88,
   "id": "4be98e11-eda6-43c3-9b40-211665460fff",
   "metadata": {},
   "outputs": [
    {
     "name": "stdout",
     "output_type": "stream",
     "text": [
      "The numbers containing integars from 0 to 9: [0, 1, 2, 3, 4, 5, 6, 7, 8, 9]\n",
      "The element at index 3:  3\n",
      "The sublist containing the elements from index 2 to 6:  [2, 3, 4, 5]\n",
      "The last three elements using negative indexing: [9, 8, 7]\n"
     ]
    }
   ],
   "source": [
    "# Create a list named numbers\n",
    "a = list(range(0,10))\n",
    "\n",
    "# Print the element at index 3.\n",
    "print(\"The numbers containing integars from 0 to 9:\",a)\n",
    "print(\"The element at index 3: \", a[3]) \n",
    "\n",
    "# Print a sublist containing the elements from index 2 to 6\n",
    "print(\"The sublist containing the elements from index 2 to 6: \", a[2:6]) \n",
    "\n",
    "# Print the last three elements using negative indexing.\n",
    "print(\"The last three elements using negative indexing:\",a[-1:-4:-1])"
   ]
  },
  {
   "cell_type": "markdown",
   "id": "69a26ac7-188e-4417-96a7-e0f5668267c5",
   "metadata": {},
   "source": [
    "### Question 3: List Comprehension\n",
    "\n",
    "a) Create a list named `squares` using a list comprehension that contains the squares of numbers from 1\n",
    "to 10.\n",
    "\n",
    "b) Create a new list named `even_squares` using a list comprehension that contains the squares of even\n",
    "numbers from the `squares` list."
   ]
  },
  {
   "cell_type": "code",
   "execution_count": 1,
   "id": "726a3f57-ef3f-4bbe-a6f9-459d288fed1d",
   "metadata": {},
   "outputs": [
    {
     "name": "stdout",
     "output_type": "stream",
     "text": [
      "Squares of numbers from 1 to 10: [1, 4, 9, 16, 25, 36, 49, 64, 81, 100]\n",
      "Squares of even numbers from the squares list: [4, 16, 36, 64, 100]\n"
     ]
    }
   ],
   "source": [
    "# using a list comprehension that contains the squares of numbers from 1 to 10.\n",
    "numbers = [1, 2, 3, 4, 5, 6, 7, 8, 9, 10]\n",
    "squares = [i**2 for i in numbers]\n",
    "print(\"Squares of numbers from 1 to 10:\", squares)\n",
    "\n",
    "# using a list comprehension that contains the squares of even numbers from the squares list.\n",
    "even_squares = [i**2 for i in numbers if i%2 == 0]\n",
    "print(\"Squares of even numbers from the squares list:\", even_squares)"
   ]
  },
  {
   "cell_type": "markdown",
   "id": "9d4f4171-8743-434f-9734-0fa66b8caaa7",
   "metadata": {},
   "source": [
    "### Question 4: List Manipulation\n",
    "\n",
    "a) Create a list named `colors` containing the following items: &quot;red&quot;, &quot;green&quot;, &quot;blue&quot;, &quot;yellow&quot;, &quot;purple&quot;.\n",
    "\n",
    "b) Swap the first and last elements of the list.\n",
    "\n",
    "c) Reverse the order of the list.\n",
    "\n",
    "d) Remove the second and third elements from the list."
   ]
  },
  {
   "cell_type": "code",
   "execution_count": 131,
   "id": "10c987b4-c86f-462c-8cc0-cfff9268e3ca",
   "metadata": {},
   "outputs": [
    {
     "name": "stdout",
     "output_type": "stream",
     "text": [
      "Swapped list:  ['purple', 'green', 'blue', 'yellow', 'red']\n",
      "Reversed order of List:  ['purple', 'yellow', 'blue', 'green', 'red']\n",
      "Remove the second and third elements from list:  ['red', 'yellow', 'purple']\n"
     ]
    }
   ],
   "source": [
    "colors = [\"red\", \"green\", \"blue\", \"yellow\", \"purple\"]\n",
    "\n",
    "#  Swap the first and last elements of the list.\n",
    "def swapList(colors): \n",
    "    first = colors.pop(0)   \n",
    "    last = colors.pop(-1) \n",
    "    colors.insert(0, last)  \n",
    "    colors.append(first)         \n",
    "    return colors \n",
    "print(\"Swapped list: \",swapList(colors))\n",
    "\n",
    "# Reverse the order of the orginal list.\n",
    "colors = [\"red\", \"green\", \"blue\", \"yellow\", \"purple\"]\n",
    "colors.reverse()\n",
    "print(\"Reversed order of List: \",colors)\n",
    "\n",
    "# Remove the second and third elements from the original list.\n",
    "colors = [\"red\", \"green\", \"blue\", \"yellow\", \"purple\"]\n",
    "colors.remove(\"green\")\n",
    "colors.remove(\"blue\")\n",
    "print(\"Remove the second and third elements from list: \",colors)"
   ]
  },
  {
   "cell_type": "markdown",
   "id": "59c92651-4095-4bb6-a9ab-deb891ae6e11",
   "metadata": {},
   "source": [
    "### Question 5: Advanced Slicing\n",
    "\n",
    "a) Create a list named `letters` containing the letters from &#39;a&#39; to &#39;j&#39;.\n",
    "\n",
    "b) Using slicing, create a new list `first_half` containing the first half of the `letters` list.\n",
    "\n",
    "c) Using slicing, create a new list `last_three` containing the last three elements of the `letters` list."
   ]
  },
  {
   "cell_type": "code",
   "execution_count": 1,
   "id": "20f133fb-c555-4e43-906d-f7902d3eee4b",
   "metadata": {},
   "outputs": [
    {
     "name": "stdout",
     "output_type": "stream",
     "text": [
      "Letters from 'a' to 'j':  ['a', 'b', 'c', 'd', 'e', 'f', 'g', 'h', 'i', 'j']\n",
      "First Half element of letters list:  ['a', 'b', 'c', 'd', 'e']\n",
      "Last three elements of letters list:  ['h', 'i', 'j']\n"
     ]
    }
   ],
   "source": [
    "#  Create a list named letters containing the letters from 'a' to 'j'.\n",
    "letters = list(\"abcdefghij\")\n",
    "print(\"Letters from 'a' to 'j': \",letters)\n",
    "\n",
    "# Using slicing, create a new list first_half containing the first half of the letters list.\n",
    "first_half = letters[0:len(letters)//2]\n",
    "print(\"First Half element of letters list: \",first_half)\n",
    "\n",
    "# Using slicing, create a new list last_three containing the last three elements of the letters list.\n",
    "last_three = letters[7:10]\n",
    "print(\"Last three elements of letters list: \",last_three)"
   ]
  },
  {
   "cell_type": "markdown",
   "id": "a1ff62a0-f413-4800-bc34-cae16156edfa",
   "metadata": {},
   "source": [
    "### Question 6: Nested Lists\n",
    "\n",
    "a) Create a nested list named `matrix` with the following rows:\n",
    "- [1, 2, 3]\n",
    "- [4, 5, 6]\n",
    "- [7, 8, 9]\n",
    "\n",
    "b) Print the element in the second row and third column.\n",
    "\n",
    "c) Use nested indexing to change the value at the second row and first column to 0."
   ]
  },
  {
   "cell_type": "code",
   "execution_count": 4,
   "id": "f7660d32-7baf-4891-865e-dcdfc5cb632f",
   "metadata": {},
   "outputs": [
    {
     "name": "stdout",
     "output_type": "stream",
     "text": [
      "Create a nested list:\n",
      "[1, 2, 3]\n",
      "[4, 5, 6]\n",
      "[7, 8, 9]\n",
      "Element in the second row and third column: 6\n",
      "Use nested indexing to change the value at the second row and first column to 0:\n",
      "[1, 2, 3]\n",
      "[0, 5, 6]\n",
      "[7, 8, 9]\n"
     ]
    }
   ],
   "source": [
    "# Create a nested list:\n",
    "print(\"Create a nested list:\")\n",
    "\n",
    "matrix = [[1,2,3], [4,5,6], [7,8,9]]\n",
    "for i in matrix: \n",
    "   print(i) \n",
    "\n",
    "# Print the element in the second row and third column.\n",
    "print(\"Element in the second row and third column:\",matrix[1][2])\n",
    "\n",
    "# Use nested indexing to change the value at the second row and first column to 0.\n",
    "print(\"Use nested indexing to change the value at the second row and first column to 0:\")\n",
    "matrix = [[1,2,3], [4,5,6], [7,8,9]]\n",
    "matrix[1][0] = 0\n",
    "for i in matrix: \n",
    "   print(i) "
   ]
  }
 ],
 "metadata": {
  "kernelspec": {
   "display_name": "Python 3 (ipykernel)",
   "language": "python",
   "name": "python3"
  },
  "language_info": {
   "codemirror_mode": {
    "name": "ipython",
    "version": 3
   },
   "file_extension": ".py",
   "mimetype": "text/x-python",
   "name": "python",
   "nbconvert_exporter": "python",
   "pygments_lexer": "ipython3",
   "version": "3.11.4"
  }
 },
 "nbformat": 4,
 "nbformat_minor": 5
}
